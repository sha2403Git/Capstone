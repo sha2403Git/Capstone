{
 "cells": [
  {
   "cell_type": "code",
   "execution_count": 1,
   "metadata": {
    "collapsed": true
   },
   "outputs": [],
   "source": [
    "%matplotlib inline\n",
    "import numpy as np\n",
    "import scipy as sp\n",
    "import matplotlib as mpl\n",
    "import matplotlib.cm as cm\n",
    "import matplotlib.pyplot as plt\n",
    "import pandas as pd\n",
    "pd.set_option('display.width', 500)\n",
    "pd.set_option('display.max_columns', 100)\n",
    "pd.set_option('display.notebook_repr_html', True)\n",
    "import seaborn as sns\n",
    "sns.set_style(\"whitegrid\")\n",
    "sns.set_context(\"poster\")"
   ]
  },
  {
   "cell_type": "code",
   "execution_count": 2,
   "metadata": {
    "collapsed": true
   },
   "outputs": [],
   "source": [
    "c0=sns.color_palette()[0]\n",
    "c1=sns.color_palette()[1]\n",
    "c2=sns.color_palette()[2]"
   ]
  },
  {
   "cell_type": "markdown",
   "metadata": {},
   "source": [
    "#### Get Data from pickle object"
   ]
  },
  {
   "cell_type": "code",
   "execution_count": 3,
   "metadata": {
    "collapsed": true
   },
   "outputs": [],
   "source": [
    "dfWithG=pd.read_pickle('data/dataframe.pkl')"
   ]
  },
  {
   "cell_type": "markdown",
   "metadata": {},
   "source": [
    "#### Get data for a quater"
   ]
  },
  {
   "cell_type": "code",
   "execution_count": 4,
   "metadata": {
    "collapsed": false
   },
   "outputs": [],
   "source": [
    "df1=dfWithG[(dfWithG['year']==2013) & (dfWithG['quarter']==4)]\n",
    "df1=dfWithG.groupby('LOAN SEQUENCE NUMBER').max()"
   ]
  },
  {
   "cell_type": "code",
   "execution_count": 5,
   "metadata": {
    "collapsed": false
   },
   "outputs": [],
   "source": [
    "df1['NON-PERFORMING']=['Y' if x>0 else 'N' for x in df1['CURRENT LOAN DELINQUENCY STATUS']]"
   ]
  },
  {
   "cell_type": "code",
   "execution_count": 6,
   "metadata": {
    "collapsed": false
   },
   "outputs": [
    {
     "data": {
      "text/html": [
       "<div>\n",
       "<table border=\"1\" class=\"dataframe\">\n",
       "  <thead>\n",
       "    <tr style=\"text-align: right;\">\n",
       "      <th></th>\n",
       "      <th>MONTHLY REPORTING PERIOD</th>\n",
       "      <th>CURRENT ACTUAL UPB</th>\n",
       "      <th>CURRENT LOAN DELINQUENCY STATUS</th>\n",
       "      <th>REMAINING MONTHS TO LEGAL MATURITY</th>\n",
       "      <th>REPURCHASE FLAG</th>\n",
       "      <th>MODIFICATION FLAG</th>\n",
       "      <th>CURRENT INTEREST RATE</th>\n",
       "      <th>CURRENT DEFERRED UPB</th>\n",
       "      <th>year</th>\n",
       "      <th>quarter</th>\n",
       "      <th>CREDIT SCORE</th>\n",
       "      <th>FIRST TIME HOMEBUYER FLAG</th>\n",
       "      <th>MORTGAGE INSURANCE PERCENTAGE</th>\n",
       "      <th>CLTV</th>\n",
       "      <th>DTI Ratio</th>\n",
       "      <th>change-current</th>\n",
       "      <th>change-chained</th>\n",
       "      <th>NON-PERFORMING</th>\n",
       "    </tr>\n",
       "    <tr>\n",
       "      <th>LOAN SEQUENCE NUMBER</th>\n",
       "      <th></th>\n",
       "      <th></th>\n",
       "      <th></th>\n",
       "      <th></th>\n",
       "      <th></th>\n",
       "      <th></th>\n",
       "      <th></th>\n",
       "      <th></th>\n",
       "      <th></th>\n",
       "      <th></th>\n",
       "      <th></th>\n",
       "      <th></th>\n",
       "      <th></th>\n",
       "      <th></th>\n",
       "      <th></th>\n",
       "      <th></th>\n",
       "      <th></th>\n",
       "      <th></th>\n",
       "    </tr>\n",
       "  </thead>\n",
       "  <tbody>\n",
       "    <tr>\n",
       "      <th>F199Q1000002</th>\n",
       "      <td>2011-11-01</td>\n",
       "      <td>99584.031250</td>\n",
       "      <td>0</td>\n",
       "      <td>247</td>\n",
       "      <td>N</td>\n",
       "      <td>N</td>\n",
       "      <td>6.300</td>\n",
       "      <td>0.0</td>\n",
       "      <td>2011</td>\n",
       "      <td>4</td>\n",
       "      <td>733</td>\n",
       "      <td>N</td>\n",
       "      <td>000</td>\n",
       "      <td>51.0</td>\n",
       "      <td>0.0</td>\n",
       "      <td>5.9</td>\n",
       "      <td>4.9</td>\n",
       "      <td>N</td>\n",
       "    </tr>\n",
       "    <tr>\n",
       "      <th>F199Q1000016</th>\n",
       "      <td>2010-06-01</td>\n",
       "      <td>192371.562500</td>\n",
       "      <td>0</td>\n",
       "      <td>242</td>\n",
       "      <td>N</td>\n",
       "      <td>N</td>\n",
       "      <td>6.000</td>\n",
       "      <td>0.0</td>\n",
       "      <td>2010</td>\n",
       "      <td>4</td>\n",
       "      <td>738</td>\n",
       "      <td>N</td>\n",
       "      <td>000</td>\n",
       "      <td>73.0</td>\n",
       "      <td>44.0</td>\n",
       "      <td>5.8</td>\n",
       "      <td>3.9</td>\n",
       "      <td>N</td>\n",
       "    </tr>\n",
       "    <tr>\n",
       "      <th>F199Q1000019</th>\n",
       "      <td>2010-04-01</td>\n",
       "      <td>69339.007812</td>\n",
       "      <td>0</td>\n",
       "      <td>242</td>\n",
       "      <td>N</td>\n",
       "      <td>N</td>\n",
       "      <td>6.125</td>\n",
       "      <td>0.0</td>\n",
       "      <td>2010</td>\n",
       "      <td>4</td>\n",
       "      <td>760</td>\n",
       "      <td>N</td>\n",
       "      <td>000</td>\n",
       "      <td>63.0</td>\n",
       "      <td>30.0</td>\n",
       "      <td>5.8</td>\n",
       "      <td>3.9</td>\n",
       "      <td>N</td>\n",
       "    </tr>\n",
       "    <tr>\n",
       "      <th>F199Q1000020</th>\n",
       "      <td>2011-09-01</td>\n",
       "      <td>77741.156250</td>\n",
       "      <td>0</td>\n",
       "      <td>242</td>\n",
       "      <td>N</td>\n",
       "      <td>N</td>\n",
       "      <td>6.000</td>\n",
       "      <td>0.0</td>\n",
       "      <td>2011</td>\n",
       "      <td>4</td>\n",
       "      <td>788</td>\n",
       "      <td>N</td>\n",
       "      <td>000</td>\n",
       "      <td>73.0</td>\n",
       "      <td>38.0</td>\n",
       "      <td>5.9</td>\n",
       "      <td>3.9</td>\n",
       "      <td>N</td>\n",
       "    </tr>\n",
       "    <tr>\n",
       "      <th>F199Q1000021</th>\n",
       "      <td>2009-06-01</td>\n",
       "      <td>128044.468750</td>\n",
       "      <td>0</td>\n",
       "      <td>242</td>\n",
       "      <td>N</td>\n",
       "      <td>N</td>\n",
       "      <td>6.125</td>\n",
       "      <td>0.0</td>\n",
       "      <td>2009</td>\n",
       "      <td>2</td>\n",
       "      <td>516</td>\n",
       "      <td>N</td>\n",
       "      <td>000</td>\n",
       "      <td>78.0</td>\n",
       "      <td>48.0</td>\n",
       "      <td>-1.1</td>\n",
       "      <td>-0.4</td>\n",
       "      <td>N</td>\n",
       "    </tr>\n",
       "  </tbody>\n",
       "</table>\n",
       "</div>"
      ],
      "text/plain": [
       "                     MONTHLY REPORTING PERIOD  CURRENT ACTUAL UPB  CURRENT LOAN DELINQUENCY STATUS  REMAINING MONTHS TO LEGAL MATURITY REPURCHASE FLAG MODIFICATION FLAG  CURRENT INTEREST RATE  CURRENT DEFERRED UPB  year  quarter  CREDIT SCORE FIRST TIME HOMEBUYER FLAG MORTGAGE INSURANCE PERCENTAGE  CLTV  DTI Ratio  change-current  change-chained NON-PERFORMING\n",
       "LOAN SEQUENCE NUMBER                                                                                                                                                                                                                                                                                                                                                      \n",
       "F199Q1000002                       2011-11-01        99584.031250                                0                                 247               N                 N                  6.300                   0.0  2011        4           733                         N                           000  51.0        0.0             5.9             4.9              N\n",
       "F199Q1000016                       2010-06-01       192371.562500                                0                                 242               N                 N                  6.000                   0.0  2010        4           738                         N                           000  73.0       44.0             5.8             3.9              N\n",
       "F199Q1000019                       2010-04-01        69339.007812                                0                                 242               N                 N                  6.125                   0.0  2010        4           760                         N                           000  63.0       30.0             5.8             3.9              N\n",
       "F199Q1000020                       2011-09-01        77741.156250                                0                                 242               N                 N                  6.000                   0.0  2011        4           788                         N                           000  73.0       38.0             5.9             3.9              N\n",
       "F199Q1000021                       2009-06-01       128044.468750                                0                                 242               N                 N                  6.125                   0.0  2009        2           516                         N                           000  78.0       48.0            -1.1            -0.4              N"
      ]
     },
     "execution_count": 6,
     "metadata": {},
     "output_type": "execute_result"
    }
   ],
   "source": [
    "df1.head()"
   ]
  },
  {
   "cell_type": "code",
   "execution_count": 7,
   "metadata": {
    "collapsed": true
   },
   "outputs": [],
   "source": [
    "df1=df1.reset_index()"
   ]
  },
  {
   "cell_type": "code",
   "execution_count": 8,
   "metadata": {
    "collapsed": false
   },
   "outputs": [
    {
     "name": "stdout",
     "output_type": "stream",
     "text": [
      "37052\n",
      "7369\n"
     ]
    }
   ],
   "source": [
    "print(len(df1))\n",
    "dtest=df1[df1[\"NON-PERFORMING\"]=='Y']\n",
    "print (len(dtest))\n",
    "#dtest.head()"
   ]
  },
  {
   "cell_type": "code",
   "execution_count": 9,
   "metadata": {
    "collapsed": false
   },
   "outputs": [
    {
     "data": {
      "text/html": [
       "<div>\n",
       "<table border=\"1\" class=\"dataframe\">\n",
       "  <thead>\n",
       "    <tr style=\"text-align: right;\">\n",
       "      <th></th>\n",
       "      <th>LOAN SEQUENCE NUMBER</th>\n",
       "      <th>MONTHLY REPORTING PERIOD</th>\n",
       "      <th>CURRENT ACTUAL UPB</th>\n",
       "      <th>CURRENT LOAN DELINQUENCY STATUS</th>\n",
       "      <th>REMAINING MONTHS TO LEGAL MATURITY</th>\n",
       "      <th>REPURCHASE FLAG</th>\n",
       "      <th>MODIFICATION FLAG</th>\n",
       "      <th>CURRENT INTEREST RATE</th>\n",
       "      <th>CURRENT DEFERRED UPB</th>\n",
       "      <th>year</th>\n",
       "      <th>quarter</th>\n",
       "      <th>CREDIT SCORE</th>\n",
       "      <th>FIRST TIME HOMEBUYER FLAG</th>\n",
       "      <th>MORTGAGE INSURANCE PERCENTAGE</th>\n",
       "      <th>CLTV</th>\n",
       "      <th>DTI Ratio</th>\n",
       "      <th>change-current</th>\n",
       "      <th>change-chained</th>\n",
       "      <th>NON-PERFORMING</th>\n",
       "    </tr>\n",
       "  </thead>\n",
       "  <tbody>\n",
       "    <tr>\n",
       "      <th>0</th>\n",
       "      <td>F199Q1000002</td>\n",
       "      <td>2011-11-01</td>\n",
       "      <td>99584.031250</td>\n",
       "      <td>0</td>\n",
       "      <td>247</td>\n",
       "      <td>N</td>\n",
       "      <td>N</td>\n",
       "      <td>6.300</td>\n",
       "      <td>0.0</td>\n",
       "      <td>2011</td>\n",
       "      <td>4</td>\n",
       "      <td>733</td>\n",
       "      <td>N</td>\n",
       "      <td>000</td>\n",
       "      <td>51.0</td>\n",
       "      <td>0.0</td>\n",
       "      <td>5.9</td>\n",
       "      <td>4.9</td>\n",
       "      <td>N</td>\n",
       "    </tr>\n",
       "    <tr>\n",
       "      <th>1</th>\n",
       "      <td>F199Q1000016</td>\n",
       "      <td>2010-06-01</td>\n",
       "      <td>192371.562500</td>\n",
       "      <td>0</td>\n",
       "      <td>242</td>\n",
       "      <td>N</td>\n",
       "      <td>N</td>\n",
       "      <td>6.000</td>\n",
       "      <td>0.0</td>\n",
       "      <td>2010</td>\n",
       "      <td>4</td>\n",
       "      <td>738</td>\n",
       "      <td>N</td>\n",
       "      <td>000</td>\n",
       "      <td>73.0</td>\n",
       "      <td>44.0</td>\n",
       "      <td>5.8</td>\n",
       "      <td>3.9</td>\n",
       "      <td>N</td>\n",
       "    </tr>\n",
       "    <tr>\n",
       "      <th>2</th>\n",
       "      <td>F199Q1000019</td>\n",
       "      <td>2010-04-01</td>\n",
       "      <td>69339.007812</td>\n",
       "      <td>0</td>\n",
       "      <td>242</td>\n",
       "      <td>N</td>\n",
       "      <td>N</td>\n",
       "      <td>6.125</td>\n",
       "      <td>0.0</td>\n",
       "      <td>2010</td>\n",
       "      <td>4</td>\n",
       "      <td>760</td>\n",
       "      <td>N</td>\n",
       "      <td>000</td>\n",
       "      <td>63.0</td>\n",
       "      <td>30.0</td>\n",
       "      <td>5.8</td>\n",
       "      <td>3.9</td>\n",
       "      <td>N</td>\n",
       "    </tr>\n",
       "    <tr>\n",
       "      <th>3</th>\n",
       "      <td>F199Q1000020</td>\n",
       "      <td>2011-09-01</td>\n",
       "      <td>77741.156250</td>\n",
       "      <td>0</td>\n",
       "      <td>242</td>\n",
       "      <td>N</td>\n",
       "      <td>N</td>\n",
       "      <td>6.000</td>\n",
       "      <td>0.0</td>\n",
       "      <td>2011</td>\n",
       "      <td>4</td>\n",
       "      <td>788</td>\n",
       "      <td>N</td>\n",
       "      <td>000</td>\n",
       "      <td>73.0</td>\n",
       "      <td>38.0</td>\n",
       "      <td>5.9</td>\n",
       "      <td>3.9</td>\n",
       "      <td>N</td>\n",
       "    </tr>\n",
       "    <tr>\n",
       "      <th>4</th>\n",
       "      <td>F199Q1000021</td>\n",
       "      <td>2009-06-01</td>\n",
       "      <td>128044.468750</td>\n",
       "      <td>0</td>\n",
       "      <td>242</td>\n",
       "      <td>N</td>\n",
       "      <td>N</td>\n",
       "      <td>6.125</td>\n",
       "      <td>0.0</td>\n",
       "      <td>2009</td>\n",
       "      <td>2</td>\n",
       "      <td>516</td>\n",
       "      <td>N</td>\n",
       "      <td>000</td>\n",
       "      <td>78.0</td>\n",
       "      <td>48.0</td>\n",
       "      <td>-1.1</td>\n",
       "      <td>-0.4</td>\n",
       "      <td>N</td>\n",
       "    </tr>\n",
       "  </tbody>\n",
       "</table>\n",
       "</div>"
      ],
      "text/plain": [
       "  LOAN SEQUENCE NUMBER MONTHLY REPORTING PERIOD  CURRENT ACTUAL UPB  CURRENT LOAN DELINQUENCY STATUS  REMAINING MONTHS TO LEGAL MATURITY REPURCHASE FLAG MODIFICATION FLAG  CURRENT INTEREST RATE  CURRENT DEFERRED UPB  year  quarter  CREDIT SCORE FIRST TIME HOMEBUYER FLAG MORTGAGE INSURANCE PERCENTAGE  CLTV  DTI Ratio  change-current  change-chained NON-PERFORMING\n",
       "0         F199Q1000002               2011-11-01        99584.031250                                0                                 247               N                 N                  6.300                   0.0  2011        4           733                         N                           000  51.0        0.0             5.9             4.9              N\n",
       "1         F199Q1000016               2010-06-01       192371.562500                                0                                 242               N                 N                  6.000                   0.0  2010        4           738                         N                           000  73.0       44.0             5.8             3.9              N\n",
       "2         F199Q1000019               2010-04-01        69339.007812                                0                                 242               N                 N                  6.125                   0.0  2010        4           760                         N                           000  63.0       30.0             5.8             3.9              N\n",
       "3         F199Q1000020               2011-09-01        77741.156250                                0                                 242               N                 N                  6.000                   0.0  2011        4           788                         N                           000  73.0       38.0             5.9             3.9              N\n",
       "4         F199Q1000021               2009-06-01       128044.468750                                0                                 242               N                 N                  6.125                   0.0  2009        2           516                         N                           000  78.0       48.0            -1.1            -0.4              N"
      ]
     },
     "execution_count": 9,
     "metadata": {},
     "output_type": "execute_result"
    }
   ],
   "source": [
    "df1.head()"
   ]
  },
  {
   "cell_type": "markdown",
   "metadata": {},
   "source": [
    "####  Get both two set of data with flag Y and N of equal size and merge them"
   ]
  },
  {
   "cell_type": "code",
   "execution_count": 10,
   "metadata": {
    "collapsed": true
   },
   "outputs": [],
   "source": [
    "dfNP=df1[df1[\"NON-PERFORMING\"]=='Y']\n",
    "dfP=df1[df1[\"NON-PERFORMING\"]=='N']"
   ]
  },
  {
   "cell_type": "code",
   "execution_count": 11,
   "metadata": {
    "collapsed": false
   },
   "outputs": [],
   "source": [
    "dfNP=dfNP.sample(n=7000)\n",
    "dfP=dfP.sample(n=7000)"
   ]
  },
  {
   "cell_type": "code",
   "execution_count": 12,
   "metadata": {
    "collapsed": false
   },
   "outputs": [
    {
     "name": "stdout",
     "output_type": "stream",
     "text": [
      "7000\n",
      "7000\n"
     ]
    }
   ],
   "source": [
    "print(len(dfNP))\n",
    "print (len(dfP))"
   ]
  },
  {
   "cell_type": "code",
   "execution_count": 13,
   "metadata": {
    "collapsed": true
   },
   "outputs": [],
   "source": [
    "df1=dfNP.append(dfP)"
   ]
  },
  {
   "cell_type": "code",
   "execution_count": 14,
   "metadata": {
    "collapsed": false
   },
   "outputs": [
    {
     "name": "stdout",
     "output_type": "stream",
     "text": [
      "14000\n"
     ]
    }
   ],
   "source": [
    "print(len(df1))"
   ]
  },
  {
   "cell_type": "markdown",
   "metadata": {},
   "source": [
    "#### CV_SCORE function that uses KFold functions to split data in n fold and averages the score ."
   ]
  },
  {
   "cell_type": "code",
   "execution_count": 15,
   "metadata": {
    "collapsed": true
   },
   "outputs": [],
   "source": [
    "from sklearn.cross_validation import KFold\n",
    "from sklearn.metrics import accuracy_score\n",
    "from sklearn.linear_model import LogisticRegression\n",
    "from sklearn.grid_search import GridSearchCV\n",
    "def cv_score(clf, x, y, score_func=accuracy_score):\n",
    "    result = 0\n",
    "    nfold = 5\n",
    "    for train, test in KFold(y.size, nfold): # split data into train/test groups, 5 times\n",
    "        clf.fit(x[train], y[train]) # fit\n",
    "        result += score_func(clf.predict(x[test]), y[test]) # evaluate score function on held-out data\n",
    "    return result / nfold # average"
   ]
  },
  {
   "cell_type": "markdown",
   "metadata": {},
   "source": [
    "### Using do_classify method"
   ]
  },
  {
   "cell_type": "code",
   "execution_count": 16,
   "metadata": {
    "collapsed": true
   },
   "outputs": [],
   "source": [
    "def cv_optimize(clf, parameters, Xtrain, ytrain, n_folds=5):\n",
    "    gs = GridSearchCV(clf, param_grid=parameters, cv=n_folds)\n",
    "    gs.fit(Xtrain, ytrain)\n",
    "    print (\"BEST PARAMS\", gs.best_params_)\n",
    "    best = gs.best_estimator_\n",
    "    return best"
   ]
  },
  {
   "cell_type": "code",
   "execution_count": 17,
   "metadata": {
    "collapsed": true
   },
   "outputs": [],
   "source": [
    "from sklearn.cross_validation import train_test_split\n",
    "def do_classify(clf, parameters, indf, featurenames, targetname, target1val, standardize=False, train_size=0.8):\n",
    "    subdf=indf[featurenames]\n",
    "    if standardize:\n",
    "        subdfstd=(subdf - subdf.mean())/subdf.std()\n",
    "    else:\n",
    "        subdfstd=subdf\n",
    "    X=subdfstd.values\n",
    "    y=(indf[targetname].values==target1val)*1\n",
    "    Xtrain, Xtest, ytrain, ytest = train_test_split(X, y, train_size=train_size)\n",
    "    clf = cv_optimize(clf, parameters, Xtrain, ytrain)\n",
    "    clf=clf.fit(Xtrain, ytrain)\n",
    "    training_accuracy = clf.score(Xtrain, ytrain)\n",
    "    test_accuracy = clf.score(Xtest, ytest)\n",
    "    print (\"Accuracy on training data: %0.5f\" % (training_accuracy))\n",
    "    print (\"Accuracy on test data:     %0.5f\" % (test_accuracy))\n",
    "    return clf, Xtrain, ytrain, Xtest, ytest"
   ]
  },
  {
   "cell_type": "markdown",
   "metadata": {},
   "source": [
    "####  1st Attempt with all four features"
   ]
  },
  {
   "cell_type": "code",
   "execution_count": 18,
   "metadata": {
    "collapsed": false
   },
   "outputs": [
    {
     "name": "stdout",
     "output_type": "stream",
     "text": [
      "BEST PARAMS {'C': 100}\n",
      "Accuracy on training data: 0.66687\n",
      "Accuracy on test data:     0.69821\n"
     ]
    }
   ],
   "source": [
    "clf_l, Xtrain_l, ytrain_l, Xtest_l, ytest_l  = do_classify(LogisticRegression(), \n",
    "                                                           {\"C\": [0.0001, 0.001, 0.1,1, 10, 100]}, \n",
    "                                                           df1,['CREDIT SCORE','CURRENT INTEREST RATE','CLTV',\n",
    "                                                                'DTI Ratio'], \n",
    "                                                           'NON-PERFORMING','Y')"
   ]
  },
  {
   "cell_type": "markdown",
   "metadata": {},
   "source": [
    "#### Y values are 0 and 1 , 0 == False and 1== True , if Non-PERFORMING=='Y' then value is 1 "
   ]
  },
  {
   "cell_type": "code",
   "execution_count": 19,
   "metadata": {
    "collapsed": false
   },
   "outputs": [
    {
     "name": "stdout",
     "output_type": "stream",
     "text": [
      "(2800,)\n",
      "(2800,)\n",
      "0\n",
      "1\n",
      "0\n",
      "1\n"
     ]
    }
   ],
   "source": [
    "from sklearn.metrics import f1_score\n",
    "from sklearn.metrics import precision_recall_fscore_support\n",
    "ypred_l=clf_l.predict(Xtest_l)\n",
    "\n",
    "\n",
    "print(ypred_l.shape)\n",
    "print(ytest_l.shape)\n",
    "#print(ypred_l)\n",
    "print (ypred_l.min())\n",
    "print (ypred_l.max())\n",
    "#print(ytest_l)\n",
    "print (ytest_l.min())\n",
    "print (ytest_l.max())\n"
   ]
  },
  {
   "cell_type": "code",
   "execution_count": 20,
   "metadata": {
    "collapsed": false
   },
   "outputs": [
    {
     "data": {
      "text/plain": [
       "array([[1002,  406],\n",
       "       [ 439,  953]])"
      ]
     },
     "execution_count": 20,
     "metadata": {},
     "output_type": "execute_result"
    }
   ],
   "source": [
    "from sklearn.metrics import confusion_matrix\n",
    "confusion_matrix(ytest_l, ypred_l,labels=[1,0])"
   ]
  },
  {
   "cell_type": "markdown",
   "metadata": {},
   "source": [
    "#### precision --> tp / (tp + fp )    recall --> tp / (tp + fn)"
   ]
  },
  {
   "cell_type": "code",
   "execution_count": 21,
   "metadata": {
    "collapsed": false
   },
   "outputs": [
    {
     "data": {
      "text/plain": [
       "(0.69535045107564186, 0.71164772727272729, 0.7034047034047034, None)"
      ]
     },
     "execution_count": 21,
     "metadata": {},
     "output_type": "execute_result"
    }
   ],
   "source": [
    "precision_recall_fscore_support(ytest_l, ypred_l,pos_label=1,average='binary')"
   ]
  },
  {
   "cell_type": "code",
   "execution_count": 22,
   "metadata": {
    "collapsed": false
   },
   "outputs": [
    {
     "name": "stdout",
     "output_type": "stream",
     "text": [
      "0.703404703405\n"
     ]
    }
   ],
   "source": [
    "f1=f1_score(ytest_l, ypred_l,pos_label=1,average='binary')\n",
    "print (f1)"
   ]
  },
  {
   "cell_type": "code",
   "execution_count": 23,
   "metadata": {
    "collapsed": false
   },
   "outputs": [
    {
     "name": "stdout",
     "output_type": "stream",
     "text": [
      "[0 1]\n"
     ]
    }
   ],
   "source": [
    "probs = clf_l.predict_proba(Xtest_l)\n",
    "preds = probs[:,1]\n",
    "print(clf_l.classes_)"
   ]
  },
  {
   "cell_type": "code",
   "execution_count": 24,
   "metadata": {
    "collapsed": false
   },
   "outputs": [],
   "source": [
    "from sklearn.metrics import roc_curve,auc\n",
    "#print (ytest_2.shape)\n",
    "#print (preds.shape)\n",
    "fpr, tpr, thresholds = roc_curve(ytest_l, preds)\n",
    "#print(fpr)\n",
    "#print(tpr)\n",
    "#print(thresholds)"
   ]
  },
  {
   "cell_type": "markdown",
   "metadata": {},
   "source": [
    "#### Area Under the Curve AUC"
   ]
  },
  {
   "cell_type": "code",
   "execution_count": 25,
   "metadata": {
    "collapsed": false
   },
   "outputs": [
    {
     "name": "stdout",
     "output_type": "stream",
     "text": [
      "0.754823626894\n"
     ]
    }
   ],
   "source": [
    "roc_auc=auc(fpr,tpr)\n",
    "print(roc_auc)"
   ]
  },
  {
   "cell_type": "code",
   "execution_count": 26,
   "metadata": {
    "collapsed": false
   },
   "outputs": [
    {
     "data": {
      "text/plain": [
       "<matplotlib.legend.Legend at 0x11a4af780>"
      ]
     },
     "execution_count": 26,
     "metadata": {},
     "output_type": "execute_result"
    },
    {
     "data": {
      "image/png": "[encoded data removed]",
      "text/plain": [
       "<matplotlib.figure.Figure at 0x11dcfda58>"
      ]
     },
     "metadata": {},
     "output_type": "display_data"
    }
   ],
   "source": [
    "plt.plot(fpr, tpr, color='darkorange',\n",
    "         lw=2, label='ROC curve (area = %0.2f)' % roc_auc)\n",
    "plt.plot([0, 1], [0, 1], color='navy', lw=2, linestyle='--')\n",
    "plt.xlim([0.0, 1.0])\n",
    "plt.ylim([0.0, 1.05])\n",
    "plt.xlabel('False Positive Rate')\n",
    "plt.ylabel('True Positive Rate')\n",
    "plt.title('Receiver operating characteristic example')\n",
    "plt.legend(loc=\"lower right\")"
   ]
  },
  {
   "cell_type": "markdown",
   "metadata": {},
   "source": [
    "#### 2nd Attempt using three features 'CREDIT SCORE','CURRENT INTEREST RATE','CLTV'"
   ]
  },
  {
   "cell_type": "code",
   "execution_count": 27,
   "metadata": {
    "collapsed": false
   },
   "outputs": [
    {
     "name": "stdout",
     "output_type": "stream",
     "text": [
      "BEST PARAMS {'C': 10}\n",
      "Accuracy on training data: 0.67161\n",
      "Accuracy on test data:     0.67464\n"
     ]
    }
   ],
   "source": [
    "clf_2, Xtrain_2, ytrain_2, Xtest_2, ytest_2  = do_classify(LogisticRegression(), \n",
    "                                                           {\"C\": [0.0001, 0.001, 0.1,1, 10, 100]}, \n",
    "                                                           df1,['CREDIT SCORE','CURRENT INTEREST RATE','CLTV',\n",
    "                                                                'DTI Ratio'], \n",
    "                                                           'NON-PERFORMING','Y')"
   ]
  },
  {
   "cell_type": "code",
   "execution_count": 28,
   "metadata": {
    "collapsed": true
   },
   "outputs": [],
   "source": [
    "from sklearn.metrics import f1_score\n",
    "from sklearn.metrics import precision_recall_fscore_support\n",
    "ypred_2=clf_2.predict(Xtest_2)\n",
    "\n"
   ]
  },
  {
   "cell_type": "code",
   "execution_count": 29,
   "metadata": {
    "collapsed": false
   },
   "outputs": [
    {
     "data": {
      "text/plain": [
       "array([[976, 431],\n",
       "       [480, 913]])"
      ]
     },
     "execution_count": 29,
     "metadata": {},
     "output_type": "execute_result"
    }
   ],
   "source": [
    "from sklearn.metrics import confusion_matrix\n",
    "confusion_matrix(ytest_2, ypred_2,labels=[1,0])"
   ]
  },
  {
   "cell_type": "code",
   "execution_count": 30,
   "metadata": {
    "collapsed": false
   },
   "outputs": [
    {
     "data": {
      "text/plain": [
       "(0.67032967032967028, 0.69367448471926085, 0.68180230527418795, None)"
      ]
     },
     "execution_count": 30,
     "metadata": {},
     "output_type": "execute_result"
    }
   ],
   "source": [
    "precision_recall_fscore_support(ytest_2, ypred_2,pos_label=1,average='binary')"
   ]
  },
  {
   "cell_type": "code",
   "execution_count": 31,
   "metadata": {
    "collapsed": false
   },
   "outputs": [
    {
     "name": "stdout",
     "output_type": "stream",
     "text": [
      "0.681802305274\n"
     ]
    }
   ],
   "source": [
    "f1=f1_score(ytest_2, ypred_2,pos_label=1,average='binary')\n",
    "print (f1)"
   ]
  },
  {
   "cell_type": "code",
   "execution_count": 32,
   "metadata": {
    "collapsed": false
   },
   "outputs": [
    {
     "name": "stdout",
     "output_type": "stream",
     "text": [
      "[0 1]\n"
     ]
    }
   ],
   "source": [
    "probs = clf_2.predict_proba(Xtest_2)\n",
    "preds = probs[:,1]\n",
    "print(clf_2.classes_)"
   ]
  },
  {
   "cell_type": "code",
   "execution_count": 33,
   "metadata": {
    "collapsed": false
   },
   "outputs": [],
   "source": [
    "from sklearn.metrics import roc_curve,auc\n",
    "#print (ytest_2.shape)\n",
    "#print (preds.shape)\n",
    "fpr, tpr, thresholds = roc_curve(ytest_2, preds)\n",
    "#print(fpr)\n",
    "#print(tpr)\n",
    "#print(thresholds)"
   ]
  },
  {
   "cell_type": "markdown",
   "metadata": {},
   "source": [
    "#### Area Under the Curve AUC"
   ]
  },
  {
   "cell_type": "code",
   "execution_count": 34,
   "metadata": {
    "collapsed": false
   },
   "outputs": [
    {
     "name": "stdout",
     "output_type": "stream",
     "text": [
      "0.734164017366\n"
     ]
    }
   ],
   "source": [
    "roc_auc=auc(fpr,tpr)\n",
    "print(roc_auc)"
   ]
  },
  {
   "cell_type": "code",
   "execution_count": 35,
   "metadata": {
    "collapsed": false
   },
   "outputs": [
    {
     "data": {
      "text/plain": [
       "<matplotlib.legend.Legend at 0x11b9e89e8>"
      ]
     },
     "execution_count": 35,
     "metadata": {},
     "output_type": "execute_result"
    },
    {
     "data": {
      "image/png": "[encoded data removed]",
      "text/plain": [
       "<matplotlib.figure.Figure at 0x11a57af28>"
      ]
     },
     "metadata": {},
     "output_type": "display_data"
    }
   ],
   "source": [
    "plt.plot(fpr, tpr, color='darkorange',\n",
    "         lw=2, label='ROC curve (area = %0.2f)' % roc_auc)\n",
    "plt.plot([0, 1], [0, 1], color='navy', lw=2, linestyle='--')\n",
    "plt.xlim([0.0, 1.0])\n",
    "plt.ylim([0.0, 1.05])\n",
    "plt.xlabel('False Positive Rate')\n",
    "plt.ylabel('True Positive Rate')\n",
    "plt.title('Receiver operating characteristic example')\n",
    "plt.legend(loc=\"lower right\")"
   ]
  }
 ],
 "metadata": {
  "anaconda-cloud": {},
  "kernelspec": {
   "display_name": "Python [Root]",
   "language": "python",
   "name": "Python [Root]"
  },
  "language_info": {
   "codemirror_mode": {
    "name": "ipython",
    "version": 3
   },
   "file_extension": ".py",
   "mimetype": "text/x-python",
   "name": "python",
   "nbconvert_exporter": "python",
   "pygments_lexer": "ipython3",
   "version": "3.5.1"
  }
 },
 "nbformat": 4,
 "nbformat_minor": 0
}
