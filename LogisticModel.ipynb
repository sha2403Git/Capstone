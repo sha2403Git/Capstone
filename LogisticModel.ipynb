{
 "cells": [
  {
   "cell_type": "code",
   "execution_count": 1,
   "metadata": {
    "collapsed": true
   },
   "outputs": [],
   "source": [
    "%matplotlib inline\n",
    "import numpy as np\n",
    "import scipy as sp\n",
    "import matplotlib as mpl\n",
    "import matplotlib.cm as cm\n",
    "import matplotlib.pyplot as plt\n",
    "import pandas as pd\n",
    "pd.set_option('display.width', 500)\n",
    "pd.set_option('display.max_columns', 100)\n",
    "pd.set_option('display.notebook_repr_html', True)\n",
    "import seaborn as sns\n",
    "sns.set_style(\"whitegrid\")\n",
    "sns.set_context(\"poster\")"
   ]
  },
  {
   "cell_type": "code",
   "execution_count": 2,
   "metadata": {
    "collapsed": true
   },
   "outputs": [],
   "source": [
    "c0=sns.color_palette()[0]\n",
    "c1=sns.color_palette()[1]\n",
    "c2=sns.color_palette()[2]"
   ]
  },
  {
   "cell_type": "markdown",
   "metadata": {},
   "source": [
    "#### Get Data from pickle object"
   ]
  },
  {
   "cell_type": "code",
   "execution_count": 3,
   "metadata": {
    "collapsed": true
   },
   "outputs": [],
   "source": [
    "dfWithG=pd.read_pickle('data/dataframe.pkl')"
   ]
  },
  {
   "cell_type": "code",
   "execution_count": 4,
   "metadata": {
    "collapsed": false
   },
   "outputs": [],
   "source": [
    "dfWithG['Non-PERFORMING']=['Y' if x>0 else 'N' for x in dfWithG['CURRENT LOAN DELINQUENCY STATUS']]"
   ]
  },
  {
   "cell_type": "code",
   "execution_count": 5,
   "metadata": {
    "collapsed": false
   },
   "outputs": [
    {
     "data": {
      "text/html": [
       "<div>\n",
       "<table border=\"1\" class=\"dataframe\">\n",
       "  <thead>\n",
       "    <tr style=\"text-align: right;\">\n",
       "      <th></th>\n",
       "      <th>LOAN SEQUENCE NUMBER</th>\n",
       "      <th>MONTHLY REPORTING PERIOD</th>\n",
       "      <th>CURRENT ACTUAL UPB</th>\n",
       "      <th>CURRENT LOAN DELINQUENCY STATUS</th>\n",
       "      <th>REMAINING MONTHS TO LEGAL MATURITY</th>\n",
       "      <th>REPURCHASE FLAG</th>\n",
       "      <th>MODIFICATION FLAG</th>\n",
       "      <th>ZERO BALANCE CODE</th>\n",
       "      <th>CURRENT INTEREST RATE</th>\n",
       "      <th>CURRENT DEFERRED UPB</th>\n",
       "      <th>year</th>\n",
       "      <th>quarter</th>\n",
       "      <th>CREDIT SCORE</th>\n",
       "      <th>FIRST TIME HOMEBUYER FLAG</th>\n",
       "      <th>MORTGAGE INSURANCE PERCENTAGE</th>\n",
       "      <th>CLTV</th>\n",
       "      <th>DTI Ratio</th>\n",
       "      <th>change-current</th>\n",
       "      <th>change-chained</th>\n",
       "      <th>Non-PERFORMING</th>\n",
       "    </tr>\n",
       "  </thead>\n",
       "  <tbody>\n",
       "    <tr>\n",
       "      <th>0</th>\n",
       "      <td>F199Q1000002</td>\n",
       "      <td>2009-01-01</td>\n",
       "      <td>99584.031250</td>\n",
       "      <td>0</td>\n",
       "      <td>247</td>\n",
       "      <td>F</td>\n",
       "      <td>N</td>\n",
       "      <td>00</td>\n",
       "      <td>6.3</td>\n",
       "      <td>0.0</td>\n",
       "      <td>2009</td>\n",
       "      <td>1</td>\n",
       "      <td>733</td>\n",
       "      <td>N</td>\n",
       "      <td>000</td>\n",
       "      <td>51.0</td>\n",
       "      <td>0.0</td>\n",
       "      <td>-4.5</td>\n",
       "      <td>-5.4</td>\n",
       "      <td>N</td>\n",
       "    </tr>\n",
       "    <tr>\n",
       "      <th>1</th>\n",
       "      <td>F199Q1000002</td>\n",
       "      <td>2009-02-01</td>\n",
       "      <td>99386.359375</td>\n",
       "      <td>0</td>\n",
       "      <td>246</td>\n",
       "      <td>F</td>\n",
       "      <td>N</td>\n",
       "      <td>00</td>\n",
       "      <td>6.3</td>\n",
       "      <td>0.0</td>\n",
       "      <td>2009</td>\n",
       "      <td>1</td>\n",
       "      <td>733</td>\n",
       "      <td>N</td>\n",
       "      <td>000</td>\n",
       "      <td>51.0</td>\n",
       "      <td>0.0</td>\n",
       "      <td>-4.5</td>\n",
       "      <td>-5.4</td>\n",
       "      <td>N</td>\n",
       "    </tr>\n",
       "    <tr>\n",
       "      <th>2</th>\n",
       "      <td>F199Q1000002</td>\n",
       "      <td>2009-03-01</td>\n",
       "      <td>99187.648438</td>\n",
       "      <td>0</td>\n",
       "      <td>245</td>\n",
       "      <td>F</td>\n",
       "      <td>N</td>\n",
       "      <td>00</td>\n",
       "      <td>6.3</td>\n",
       "      <td>0.0</td>\n",
       "      <td>2009</td>\n",
       "      <td>1</td>\n",
       "      <td>733</td>\n",
       "      <td>N</td>\n",
       "      <td>000</td>\n",
       "      <td>51.0</td>\n",
       "      <td>0.0</td>\n",
       "      <td>-4.5</td>\n",
       "      <td>-5.4</td>\n",
       "      <td>N</td>\n",
       "    </tr>\n",
       "    <tr>\n",
       "      <th>3</th>\n",
       "      <td>F199Q1000016</td>\n",
       "      <td>2009-01-01</td>\n",
       "      <td>192371.562500</td>\n",
       "      <td>0</td>\n",
       "      <td>242</td>\n",
       "      <td>F</td>\n",
       "      <td>N</td>\n",
       "      <td>00</td>\n",
       "      <td>6.0</td>\n",
       "      <td>0.0</td>\n",
       "      <td>2009</td>\n",
       "      <td>1</td>\n",
       "      <td>738</td>\n",
       "      <td>N</td>\n",
       "      <td>000</td>\n",
       "      <td>73.0</td>\n",
       "      <td>44.0</td>\n",
       "      <td>-4.5</td>\n",
       "      <td>-5.4</td>\n",
       "      <td>N</td>\n",
       "    </tr>\n",
       "    <tr>\n",
       "      <th>4</th>\n",
       "      <td>F199Q1000016</td>\n",
       "      <td>2009-02-01</td>\n",
       "      <td>191958.671875</td>\n",
       "      <td>0</td>\n",
       "      <td>241</td>\n",
       "      <td>F</td>\n",
       "      <td>N</td>\n",
       "      <td>00</td>\n",
       "      <td>6.0</td>\n",
       "      <td>0.0</td>\n",
       "      <td>2009</td>\n",
       "      <td>1</td>\n",
       "      <td>738</td>\n",
       "      <td>N</td>\n",
       "      <td>000</td>\n",
       "      <td>73.0</td>\n",
       "      <td>44.0</td>\n",
       "      <td>-4.5</td>\n",
       "      <td>-5.4</td>\n",
       "      <td>N</td>\n",
       "    </tr>\n",
       "  </tbody>\n",
       "</table>\n",
       "</div>"
      ],
      "text/plain": [
       "  LOAN SEQUENCE NUMBER MONTHLY REPORTING PERIOD  CURRENT ACTUAL UPB  CURRENT LOAN DELINQUENCY STATUS  REMAINING MONTHS TO LEGAL MATURITY REPURCHASE FLAG MODIFICATION FLAG ZERO BALANCE CODE  CURRENT INTEREST RATE  CURRENT DEFERRED UPB  year  quarter  CREDIT SCORE FIRST TIME HOMEBUYER FLAG MORTGAGE INSURANCE PERCENTAGE  CLTV  DTI Ratio  change-current  change-chained Non-PERFORMING\n",
       "0         F199Q1000002               2009-01-01        99584.031250                                0                                 247               F                 N                00                    6.3                   0.0  2009        1           733                         N                           000  51.0        0.0            -4.5            -5.4              N\n",
       "1         F199Q1000002               2009-02-01        99386.359375                                0                                 246               F                 N                00                    6.3                   0.0  2009        1           733                         N                           000  51.0        0.0            -4.5            -5.4              N\n",
       "2         F199Q1000002               2009-03-01        99187.648438                                0                                 245               F                 N                00                    6.3                   0.0  2009        1           733                         N                           000  51.0        0.0            -4.5            -5.4              N\n",
       "3         F199Q1000016               2009-01-01       192371.562500                                0                                 242               F                 N                00                    6.0                   0.0  2009        1           738                         N                           000  73.0       44.0            -4.5            -5.4              N\n",
       "4         F199Q1000016               2009-02-01       191958.671875                                0                                 241               F                 N                00                    6.0                   0.0  2009        1           738                         N                           000  73.0       44.0            -4.5            -5.4              N"
      ]
     },
     "execution_count": 5,
     "metadata": {},
     "output_type": "execute_result"
    }
   ],
   "source": [
    "dfWithG.head()"
   ]
  },
  {
   "cell_type": "code",
   "execution_count": 21,
   "metadata": {
    "collapsed": false
   },
   "outputs": [
    {
     "name": "stdout",
     "output_type": "stream",
     "text": [
      "1538440\n",
      "109287\n"
     ]
    },
    {
     "data": {
      "text/html": [
       "<div>\n",
       "<table border=\"1\" class=\"dataframe\">\n",
       "  <thead>\n",
       "    <tr style=\"text-align: right;\">\n",
       "      <th></th>\n",
       "      <th>LOAN SEQUENCE NUMBER</th>\n",
       "      <th>MONTHLY REPORTING PERIOD</th>\n",
       "      <th>CURRENT ACTUAL UPB</th>\n",
       "      <th>CURRENT LOAN DELINQUENCY STATUS</th>\n",
       "      <th>REMAINING MONTHS TO LEGAL MATURITY</th>\n",
       "      <th>REPURCHASE FLAG</th>\n",
       "      <th>MODIFICATION FLAG</th>\n",
       "      <th>ZERO BALANCE CODE</th>\n",
       "      <th>CURRENT INTEREST RATE</th>\n",
       "      <th>CURRENT DEFERRED UPB</th>\n",
       "      <th>year</th>\n",
       "      <th>quarter</th>\n",
       "      <th>CREDIT SCORE</th>\n",
       "      <th>FIRST TIME HOMEBUYER FLAG</th>\n",
       "      <th>MORTGAGE INSURANCE PERCENTAGE</th>\n",
       "      <th>CLTV</th>\n",
       "      <th>DTI Ratio</th>\n",
       "      <th>change-current</th>\n",
       "      <th>change-chained</th>\n",
       "      <th>Non-PERFORMING</th>\n",
       "    </tr>\n",
       "  </thead>\n",
       "  <tbody>\n",
       "    <tr>\n",
       "      <th>30</th>\n",
       "      <td>F199Q1000077</td>\n",
       "      <td>2009-01-01</td>\n",
       "      <td>110620.851562</td>\n",
       "      <td>2</td>\n",
       "      <td>242</td>\n",
       "      <td>F</td>\n",
       "      <td>N</td>\n",
       "      <td>00</td>\n",
       "      <td>7.25</td>\n",
       "      <td>0.0</td>\n",
       "      <td>2009</td>\n",
       "      <td>1</td>\n",
       "      <td>625</td>\n",
       "      <td>N</td>\n",
       "      <td>000</td>\n",
       "      <td>80.0</td>\n",
       "      <td>29.0</td>\n",
       "      <td>-4.5</td>\n",
       "      <td>-5.4</td>\n",
       "      <td>Y</td>\n",
       "    </tr>\n",
       "    <tr>\n",
       "      <th>31</th>\n",
       "      <td>F199Q1000077</td>\n",
       "      <td>2009-02-01</td>\n",
       "      <td>110620.851562</td>\n",
       "      <td>3</td>\n",
       "      <td>241</td>\n",
       "      <td>F</td>\n",
       "      <td>N</td>\n",
       "      <td>00</td>\n",
       "      <td>7.25</td>\n",
       "      <td>0.0</td>\n",
       "      <td>2009</td>\n",
       "      <td>1</td>\n",
       "      <td>625</td>\n",
       "      <td>N</td>\n",
       "      <td>000</td>\n",
       "      <td>80.0</td>\n",
       "      <td>29.0</td>\n",
       "      <td>-4.5</td>\n",
       "      <td>-5.4</td>\n",
       "      <td>Y</td>\n",
       "    </tr>\n",
       "    <tr>\n",
       "      <th>32</th>\n",
       "      <td>F199Q1000077</td>\n",
       "      <td>2009-03-01</td>\n",
       "      <td>110620.851562</td>\n",
       "      <td>4</td>\n",
       "      <td>240</td>\n",
       "      <td>F</td>\n",
       "      <td>N</td>\n",
       "      <td>00</td>\n",
       "      <td>7.25</td>\n",
       "      <td>0.0</td>\n",
       "      <td>2009</td>\n",
       "      <td>1</td>\n",
       "      <td>625</td>\n",
       "      <td>N</td>\n",
       "      <td>000</td>\n",
       "      <td>80.0</td>\n",
       "      <td>29.0</td>\n",
       "      <td>-4.5</td>\n",
       "      <td>-5.4</td>\n",
       "      <td>Y</td>\n",
       "    </tr>\n",
       "    <tr>\n",
       "      <th>33</th>\n",
       "      <td>F199Q1000081</td>\n",
       "      <td>2009-01-01</td>\n",
       "      <td>72975.992188</td>\n",
       "      <td>2</td>\n",
       "      <td>242</td>\n",
       "      <td>F</td>\n",
       "      <td>N</td>\n",
       "      <td>00</td>\n",
       "      <td>7.00</td>\n",
       "      <td>0.0</td>\n",
       "      <td>2009</td>\n",
       "      <td>1</td>\n",
       "      <td>568</td>\n",
       "      <td>N</td>\n",
       "      <td>000</td>\n",
       "      <td>53.0</td>\n",
       "      <td>56.0</td>\n",
       "      <td>-4.5</td>\n",
       "      <td>-5.4</td>\n",
       "      <td>Y</td>\n",
       "    </tr>\n",
       "    <tr>\n",
       "      <th>34</th>\n",
       "      <td>F199Q1000081</td>\n",
       "      <td>2009-02-01</td>\n",
       "      <td>72569.148438</td>\n",
       "      <td>2</td>\n",
       "      <td>241</td>\n",
       "      <td>F</td>\n",
       "      <td>N</td>\n",
       "      <td>00</td>\n",
       "      <td>7.00</td>\n",
       "      <td>0.0</td>\n",
       "      <td>2009</td>\n",
       "      <td>1</td>\n",
       "      <td>568</td>\n",
       "      <td>N</td>\n",
       "      <td>000</td>\n",
       "      <td>53.0</td>\n",
       "      <td>56.0</td>\n",
       "      <td>-4.5</td>\n",
       "      <td>-5.4</td>\n",
       "      <td>Y</td>\n",
       "    </tr>\n",
       "  </tbody>\n",
       "</table>\n",
       "</div>"
      ],
      "text/plain": [
       "   LOAN SEQUENCE NUMBER MONTHLY REPORTING PERIOD  CURRENT ACTUAL UPB  CURRENT LOAN DELINQUENCY STATUS  REMAINING MONTHS TO LEGAL MATURITY REPURCHASE FLAG MODIFICATION FLAG ZERO BALANCE CODE  CURRENT INTEREST RATE  CURRENT DEFERRED UPB  year  quarter  CREDIT SCORE FIRST TIME HOMEBUYER FLAG MORTGAGE INSURANCE PERCENTAGE  CLTV  DTI Ratio  change-current  change-chained Non-PERFORMING\n",
       "30         F199Q1000077               2009-01-01       110620.851562                                2                                 242               F                 N                00                   7.25                   0.0  2009        1           625                         N                           000  80.0       29.0            -4.5            -5.4              Y\n",
       "31         F199Q1000077               2009-02-01       110620.851562                                3                                 241               F                 N                00                   7.25                   0.0  2009        1           625                         N                           000  80.0       29.0            -4.5            -5.4              Y\n",
       "32         F199Q1000077               2009-03-01       110620.851562                                4                                 240               F                 N                00                   7.25                   0.0  2009        1           625                         N                           000  80.0       29.0            -4.5            -5.4              Y\n",
       "33         F199Q1000081               2009-01-01        72975.992188                                2                                 242               F                 N                00                   7.00                   0.0  2009        1           568                         N                           000  53.0       56.0            -4.5            -5.4              Y\n",
       "34         F199Q1000081               2009-02-01        72569.148438                                2                                 241               F                 N                00                   7.00                   0.0  2009        1           568                         N                           000  53.0       56.0            -4.5            -5.4              Y"
      ]
     },
     "execution_count": 21,
     "metadata": {},
     "output_type": "execute_result"
    }
   ],
   "source": [
    "print(len(dfWithG))\n",
    "dtest=dfWithG[dfWithG[\"Non-PERFORMING\"]=='Y']\n",
    "print (len(dtest))\n",
    "#dtest.head()"
   ]
  },
  {
   "cell_type": "markdown",
   "metadata": {},
   "source": [
    "#### Get data for a quater"
   ]
  },
  {
   "cell_type": "code",
   "execution_count": 27,
   "metadata": {
    "collapsed": false
   },
   "outputs": [
    {
     "data": {
      "text/html": [
       "<div>\n",
       "<table border=\"1\" class=\"dataframe\">\n",
       "  <thead>\n",
       "    <tr style=\"text-align: right;\">\n",
       "      <th></th>\n",
       "      <th>MONTHLY REPORTING PERIOD</th>\n",
       "      <th>CURRENT ACTUAL UPB</th>\n",
       "      <th>CURRENT LOAN DELINQUENCY STATUS</th>\n",
       "      <th>REMAINING MONTHS TO LEGAL MATURITY</th>\n",
       "      <th>REPURCHASE FLAG</th>\n",
       "      <th>MODIFICATION FLAG</th>\n",
       "      <th>CURRENT INTEREST RATE</th>\n",
       "      <th>CURRENT DEFERRED UPB</th>\n",
       "      <th>year</th>\n",
       "      <th>quarter</th>\n",
       "      <th>CREDIT SCORE</th>\n",
       "      <th>FIRST TIME HOMEBUYER FLAG</th>\n",
       "      <th>MORTGAGE INSURANCE PERCENTAGE</th>\n",
       "      <th>CLTV</th>\n",
       "      <th>DTI Ratio</th>\n",
       "      <th>change-current</th>\n",
       "      <th>change-chained</th>\n",
       "      <th>Non-PERFORMING</th>\n",
       "    </tr>\n",
       "    <tr>\n",
       "      <th>LOAN SEQUENCE NUMBER</th>\n",
       "      <th></th>\n",
       "      <th></th>\n",
       "      <th></th>\n",
       "      <th></th>\n",
       "      <th></th>\n",
       "      <th></th>\n",
       "      <th></th>\n",
       "      <th></th>\n",
       "      <th></th>\n",
       "      <th></th>\n",
       "      <th></th>\n",
       "      <th></th>\n",
       "      <th></th>\n",
       "      <th></th>\n",
       "      <th></th>\n",
       "      <th></th>\n",
       "      <th></th>\n",
       "      <th></th>\n",
       "    </tr>\n",
       "  </thead>\n",
       "  <tbody>\n",
       "    <tr>\n",
       "      <th>F199Q1000024</th>\n",
       "      <td>2013-12-01</td>\n",
       "      <td>86823.820312</td>\n",
       "      <td>0</td>\n",
       "      <td>186</td>\n",
       "      <td>F</td>\n",
       "      <td>N</td>\n",
       "      <td>6.000</td>\n",
       "      <td>0.0</td>\n",
       "      <td>2013</td>\n",
       "      <td>4</td>\n",
       "      <td>635</td>\n",
       "      <td>N</td>\n",
       "      <td>000</td>\n",
       "      <td>76.0</td>\n",
       "      <td>21.0</td>\n",
       "      <td>4.2</td>\n",
       "      <td>2.6</td>\n",
       "      <td>N</td>\n",
       "    </tr>\n",
       "    <tr>\n",
       "      <th>F199Q1000030</th>\n",
       "      <td>2013-12-01</td>\n",
       "      <td>29080.390625</td>\n",
       "      <td>0</td>\n",
       "      <td>186</td>\n",
       "      <td>F</td>\n",
       "      <td>N</td>\n",
       "      <td>5.875</td>\n",
       "      <td>0.0</td>\n",
       "      <td>2013</td>\n",
       "      <td>4</td>\n",
       "      <td>810</td>\n",
       "      <td>N</td>\n",
       "      <td>000</td>\n",
       "      <td>65.0</td>\n",
       "      <td>41.0</td>\n",
       "      <td>4.2</td>\n",
       "      <td>2.6</td>\n",
       "      <td>N</td>\n",
       "    </tr>\n",
       "    <tr>\n",
       "      <th>F199Q1000074</th>\n",
       "      <td>2013-12-01</td>\n",
       "      <td>133166.203125</td>\n",
       "      <td>0</td>\n",
       "      <td>185</td>\n",
       "      <td>F</td>\n",
       "      <td>N</td>\n",
       "      <td>8.000</td>\n",
       "      <td>0.0</td>\n",
       "      <td>2013</td>\n",
       "      <td>4</td>\n",
       "      <td>769</td>\n",
       "      <td>N</td>\n",
       "      <td>30</td>\n",
       "      <td>95.0</td>\n",
       "      <td>50.0</td>\n",
       "      <td>4.2</td>\n",
       "      <td>2.6</td>\n",
       "      <td>N</td>\n",
       "    </tr>\n",
       "    <tr>\n",
       "      <th>F199Q1000077</th>\n",
       "      <td>2013-12-01</td>\n",
       "      <td>162899.062500</td>\n",
       "      <td>33</td>\n",
       "      <td>480</td>\n",
       "      <td>F</td>\n",
       "      <td>Y</td>\n",
       "      <td>5.250</td>\n",
       "      <td>0.0</td>\n",
       "      <td>2013</td>\n",
       "      <td>4</td>\n",
       "      <td>625</td>\n",
       "      <td>N</td>\n",
       "      <td>000</td>\n",
       "      <td>80.0</td>\n",
       "      <td>29.0</td>\n",
       "      <td>4.2</td>\n",
       "      <td>2.6</td>\n",
       "      <td>Y</td>\n",
       "    </tr>\n",
       "    <tr>\n",
       "      <th>F199Q1000081</th>\n",
       "      <td>2013-12-01</td>\n",
       "      <td>63322.820312</td>\n",
       "      <td>0</td>\n",
       "      <td>185</td>\n",
       "      <td>F</td>\n",
       "      <td>N</td>\n",
       "      <td>7.000</td>\n",
       "      <td>0.0</td>\n",
       "      <td>2013</td>\n",
       "      <td>4</td>\n",
       "      <td>568</td>\n",
       "      <td>N</td>\n",
       "      <td>000</td>\n",
       "      <td>53.0</td>\n",
       "      <td>56.0</td>\n",
       "      <td>4.2</td>\n",
       "      <td>2.6</td>\n",
       "      <td>N</td>\n",
       "    </tr>\n",
       "  </tbody>\n",
       "</table>\n",
       "</div>"
      ],
      "text/plain": [
       "                     MONTHLY REPORTING PERIOD  CURRENT ACTUAL UPB  CURRENT LOAN DELINQUENCY STATUS  REMAINING MONTHS TO LEGAL MATURITY REPURCHASE FLAG MODIFICATION FLAG  CURRENT INTEREST RATE  CURRENT DEFERRED UPB  year  quarter  CREDIT SCORE FIRST TIME HOMEBUYER FLAG MORTGAGE INSURANCE PERCENTAGE  CLTV  DTI Ratio  change-current  change-chained Non-PERFORMING\n",
       "LOAN SEQUENCE NUMBER                                                                                                                                                                                                                                                                                                                                                      \n",
       "F199Q1000024                       2013-12-01        86823.820312                                0                                 186               F                 N                  6.000                   0.0  2013        4           635                         N                           000  76.0       21.0             4.2             2.6              N\n",
       "F199Q1000030                       2013-12-01        29080.390625                                0                                 186               F                 N                  5.875                   0.0  2013        4           810                         N                           000  65.0       41.0             4.2             2.6              N\n",
       "F199Q1000074                       2013-12-01       133166.203125                                0                                 185               F                 N                  8.000                   0.0  2013        4           769                         N                            30  95.0       50.0             4.2             2.6              N\n",
       "F199Q1000077                       2013-12-01       162899.062500                               33                                 480               F                 Y                  5.250                   0.0  2013        4           625                         N                           000  80.0       29.0             4.2             2.6              Y\n",
       "F199Q1000081                       2013-12-01        63322.820312                                0                                 185               F                 N                  7.000                   0.0  2013        4           568                         N                           000  53.0       56.0             4.2             2.6              N"
      ]
     },
     "execution_count": 27,
     "metadata": {},
     "output_type": "execute_result"
    }
   ],
   "source": [
    "df1=dfWithG[(dfWithG['year']==2013) & (dfWithG['quarter']==4)]\n",
    "df1=df1.groupby('LOAN SEQUENCE NUMBER').max()"
   ]
  },
  {
   "cell_type": "code",
   "execution_count": 28,
   "metadata": {
    "collapsed": true
   },
   "outputs": [],
   "source": [
    "df1=df1.reset_index()"
   ]
  },
  {
   "cell_type": "code",
   "execution_count": 29,
   "metadata": {
    "collapsed": false
   },
   "outputs": [
    {
     "data": {
      "text/html": [
       "<div>\n",
       "<table border=\"1\" class=\"dataframe\">\n",
       "  <thead>\n",
       "    <tr style=\"text-align: right;\">\n",
       "      <th></th>\n",
       "      <th>LOAN SEQUENCE NUMBER</th>\n",
       "      <th>MONTHLY REPORTING PERIOD</th>\n",
       "      <th>CURRENT ACTUAL UPB</th>\n",
       "      <th>CURRENT LOAN DELINQUENCY STATUS</th>\n",
       "      <th>REMAINING MONTHS TO LEGAL MATURITY</th>\n",
       "      <th>REPURCHASE FLAG</th>\n",
       "      <th>MODIFICATION FLAG</th>\n",
       "      <th>CURRENT INTEREST RATE</th>\n",
       "      <th>CURRENT DEFERRED UPB</th>\n",
       "      <th>year</th>\n",
       "      <th>quarter</th>\n",
       "      <th>CREDIT SCORE</th>\n",
       "      <th>FIRST TIME HOMEBUYER FLAG</th>\n",
       "      <th>MORTGAGE INSURANCE PERCENTAGE</th>\n",
       "      <th>CLTV</th>\n",
       "      <th>DTI Ratio</th>\n",
       "      <th>change-current</th>\n",
       "      <th>change-chained</th>\n",
       "      <th>Non-PERFORMING</th>\n",
       "    </tr>\n",
       "  </thead>\n",
       "  <tbody>\n",
       "    <tr>\n",
       "      <th>0</th>\n",
       "      <td>F199Q1000024</td>\n",
       "      <td>2013-12-01</td>\n",
       "      <td>86823.820312</td>\n",
       "      <td>0</td>\n",
       "      <td>186</td>\n",
       "      <td>F</td>\n",
       "      <td>N</td>\n",
       "      <td>6.000</td>\n",
       "      <td>0.0</td>\n",
       "      <td>2013</td>\n",
       "      <td>4</td>\n",
       "      <td>635</td>\n",
       "      <td>N</td>\n",
       "      <td>000</td>\n",
       "      <td>76.0</td>\n",
       "      <td>21.0</td>\n",
       "      <td>4.2</td>\n",
       "      <td>2.6</td>\n",
       "      <td>N</td>\n",
       "    </tr>\n",
       "    <tr>\n",
       "      <th>1</th>\n",
       "      <td>F199Q1000030</td>\n",
       "      <td>2013-12-01</td>\n",
       "      <td>29080.390625</td>\n",
       "      <td>0</td>\n",
       "      <td>186</td>\n",
       "      <td>F</td>\n",
       "      <td>N</td>\n",
       "      <td>5.875</td>\n",
       "      <td>0.0</td>\n",
       "      <td>2013</td>\n",
       "      <td>4</td>\n",
       "      <td>810</td>\n",
       "      <td>N</td>\n",
       "      <td>000</td>\n",
       "      <td>65.0</td>\n",
       "      <td>41.0</td>\n",
       "      <td>4.2</td>\n",
       "      <td>2.6</td>\n",
       "      <td>N</td>\n",
       "    </tr>\n",
       "    <tr>\n",
       "      <th>2</th>\n",
       "      <td>F199Q1000074</td>\n",
       "      <td>2013-12-01</td>\n",
       "      <td>133166.203125</td>\n",
       "      <td>0</td>\n",
       "      <td>185</td>\n",
       "      <td>F</td>\n",
       "      <td>N</td>\n",
       "      <td>8.000</td>\n",
       "      <td>0.0</td>\n",
       "      <td>2013</td>\n",
       "      <td>4</td>\n",
       "      <td>769</td>\n",
       "      <td>N</td>\n",
       "      <td>30</td>\n",
       "      <td>95.0</td>\n",
       "      <td>50.0</td>\n",
       "      <td>4.2</td>\n",
       "      <td>2.6</td>\n",
       "      <td>N</td>\n",
       "    </tr>\n",
       "    <tr>\n",
       "      <th>3</th>\n",
       "      <td>F199Q1000077</td>\n",
       "      <td>2013-12-01</td>\n",
       "      <td>162899.062500</td>\n",
       "      <td>33</td>\n",
       "      <td>480</td>\n",
       "      <td>F</td>\n",
       "      <td>Y</td>\n",
       "      <td>5.250</td>\n",
       "      <td>0.0</td>\n",
       "      <td>2013</td>\n",
       "      <td>4</td>\n",
       "      <td>625</td>\n",
       "      <td>N</td>\n",
       "      <td>000</td>\n",
       "      <td>80.0</td>\n",
       "      <td>29.0</td>\n",
       "      <td>4.2</td>\n",
       "      <td>2.6</td>\n",
       "      <td>Y</td>\n",
       "    </tr>\n",
       "    <tr>\n",
       "      <th>4</th>\n",
       "      <td>F199Q1000081</td>\n",
       "      <td>2013-12-01</td>\n",
       "      <td>63322.820312</td>\n",
       "      <td>0</td>\n",
       "      <td>185</td>\n",
       "      <td>F</td>\n",
       "      <td>N</td>\n",
       "      <td>7.000</td>\n",
       "      <td>0.0</td>\n",
       "      <td>2013</td>\n",
       "      <td>4</td>\n",
       "      <td>568</td>\n",
       "      <td>N</td>\n",
       "      <td>000</td>\n",
       "      <td>53.0</td>\n",
       "      <td>56.0</td>\n",
       "      <td>4.2</td>\n",
       "      <td>2.6</td>\n",
       "      <td>N</td>\n",
       "    </tr>\n",
       "  </tbody>\n",
       "</table>\n",
       "</div>"
      ],
      "text/plain": [
       "  LOAN SEQUENCE NUMBER MONTHLY REPORTING PERIOD  CURRENT ACTUAL UPB  CURRENT LOAN DELINQUENCY STATUS  REMAINING MONTHS TO LEGAL MATURITY REPURCHASE FLAG MODIFICATION FLAG  CURRENT INTEREST RATE  CURRENT DEFERRED UPB  year  quarter  CREDIT SCORE FIRST TIME HOMEBUYER FLAG MORTGAGE INSURANCE PERCENTAGE  CLTV  DTI Ratio  change-current  change-chained Non-PERFORMING\n",
       "0         F199Q1000024               2013-12-01        86823.820312                                0                                 186               F                 N                  6.000                   0.0  2013        4           635                         N                           000  76.0       21.0             4.2             2.6              N\n",
       "1         F199Q1000030               2013-12-01        29080.390625                                0                                 186               F                 N                  5.875                   0.0  2013        4           810                         N                           000  65.0       41.0             4.2             2.6              N\n",
       "2         F199Q1000074               2013-12-01       133166.203125                                0                                 185               F                 N                  8.000                   0.0  2013        4           769                         N                            30  95.0       50.0             4.2             2.6              N\n",
       "3         F199Q1000077               2013-12-01       162899.062500                               33                                 480               F                 Y                  5.250                   0.0  2013        4           625                         N                           000  80.0       29.0             4.2             2.6              Y\n",
       "4         F199Q1000081               2013-12-01        63322.820312                                0                                 185               F                 N                  7.000                   0.0  2013        4           568                         N                           000  53.0       56.0             4.2             2.6              N"
      ]
     },
     "execution_count": 29,
     "metadata": {},
     "output_type": "execute_result"
    }
   ],
   "source": [
    "df1.head()"
   ]
  },
  {
   "cell_type": "code",
   "execution_count": 30,
   "metadata": {
    "collapsed": false
   },
   "outputs": [
    {
     "name": "stdout",
     "output_type": "stream",
     "text": [
      "15684\n",
      "1757\n"
     ]
    }
   ],
   "source": [
    "print(len(df1))\n",
    "dtest=df1[df1[\"Non-PERFORMING\"]=='Y']\n",
    "print (len(dtest))"
   ]
  },
  {
   "cell_type": "markdown",
   "metadata": {},
   "source": [
    "#### CV_SCORE function that uses KFold functions to split data in n fold and averages the score ."
   ]
  },
  {
   "cell_type": "code",
   "execution_count": 31,
   "metadata": {
    "collapsed": true
   },
   "outputs": [],
   "source": [
    "from sklearn.cross_validation import KFold\n",
    "from sklearn.metrics import accuracy_score\n",
    "\n",
    "def cv_score(clf, x, y, score_func=accuracy_score):\n",
    "    result = 0\n",
    "    nfold = 5\n",
    "    for train, test in KFold(y.size, nfold): # split data into train/test groups, 5 times\n",
    "        clf.fit(x[train], y[train]) # fit\n",
    "        result += score_func(clf.predict(x[test]), y[test]) # evaluate score function on held-out data\n",
    "    return result / nfold # average"
   ]
  },
  {
   "cell_type": "markdown",
   "metadata": {},
   "source": [
    "#### Split the data into a training and test (hold-out) set"
   ]
  },
  {
   "cell_type": "code",
   "execution_count": 32,
   "metadata": {
    "collapsed": false
   },
   "outputs": [],
   "source": [
    "from sklearn.cross_validation import train_test_split\n",
    "Xlr, Xtestlr, ylr, ytestlr = train_test_split(df1[['CREDIT SCORE','CLTV','CURRENT INTEREST RATE','DTI Ratio']].values, \n",
    "                                              (df1['Non-PERFORMING']== 'Y').values,random_state=5)"
   ]
  },
  {
   "cell_type": "code",
   "execution_count": 33,
   "metadata": {
    "collapsed": false
   },
   "outputs": [
    {
     "name": "stdout",
     "output_type": "stream",
     "text": [
      "(11763, 4)\n",
      "(3921, 4)\n",
      "(11763,)\n",
      "(3921,)\n"
     ]
    }
   ],
   "source": [
    "print (Xlr.shape)\n",
    "print (Xtestlr.shape)\n",
    "print (ylr.shape)\n",
    "print (ytestlr.shape)"
   ]
  },
  {
   "cell_type": "markdown",
   "metadata": {},
   "source": [
    "#### 1st attempt using cv_score"
   ]
  },
  {
   "cell_type": "code",
   "execution_count": 34,
   "metadata": {
    "collapsed": false
   },
   "outputs": [
    {
     "name": "stdout",
     "output_type": "stream",
     "text": [
      "0.886253506758\n"
     ]
    }
   ],
   "source": [
    "from sklearn.linear_model import LogisticRegression\n",
    "clf = LogisticRegression()\n",
    "clf.fit(Xlr,ylr)\n",
    "print (accuracy_score(clf.predict(Xtestlr),ytestlr))"
   ]
  },
  {
   "cell_type": "code",
   "execution_count": 35,
   "metadata": {
    "collapsed": false
   },
   "outputs": [
    {
     "name": "stdout",
     "output_type": "stream",
     "text": [
      "0.888463526082\n"
     ]
    }
   ],
   "source": [
    "clf = LogisticRegression()\n",
    "score = cv_score(clf, Xlr, ylr)\n",
    "print (score)"
   ]
  },
  {
   "cell_type": "markdown",
   "metadata": {},
   "source": [
    "#### 2. Attempt Using GridSearchCV tool"
   ]
  },
  {
   "cell_type": "code",
   "execution_count": 36,
   "metadata": {
    "collapsed": false
   },
   "outputs": [
    {
     "data": {
      "text/plain": [
       "(LogisticRegression(C=0.0001, class_weight=None, dual=False,\n",
       "           fit_intercept=True, intercept_scaling=1, max_iter=100,\n",
       "           multi_class='ovr', n_jobs=1, penalty='l2', random_state=None,\n",
       "           solver='liblinear', tol=0.0001, verbose=0, warm_start=False),\n",
       " {'C': 0.0001},\n",
       " 0.88846382725495199,\n",
       " [mean: 0.88846, std: 0.00017, params: {'C': 0.0001},\n",
       "  mean: 0.88846, std: 0.00017, params: {'C': 0.001},\n",
       "  mean: 0.88846, std: 0.00017, params: {'C': 0.1},\n",
       "  mean: 0.88846, std: 0.00017, params: {'C': 1},\n",
       "  mean: 0.88846, std: 0.00017, params: {'C': 10},\n",
       "  mean: 0.88846, std: 0.00017, params: {'C': 100}])"
      ]
     },
     "execution_count": 36,
     "metadata": {},
     "output_type": "execute_result"
    }
   ],
   "source": [
    "from sklearn.grid_search import GridSearchCV\n",
    "lrbf2=LogisticRegression()\n",
    "cparam={\"C\": [0.0001, 0.001, 0.1, 1, 10, 100]}\n",
    "fitModel = GridSearchCV(lrbf2, param_grid=cparam, cv=5, scoring=\"accuracy\")\n",
    "fitModel.fit(Xlr, ylr)\n",
    "fitModel.best_estimator_, fitModel.best_params_, fitModel.best_score_, fitModel.grid_scores_"
   ]
  },
  {
   "cell_type": "code",
   "execution_count": 37,
   "metadata": {
    "collapsed": false
   },
   "outputs": [
    {
     "data": {
      "text/plain": [
       "0.88625350675848003"
      ]
     },
     "execution_count": 37,
     "metadata": {},
     "output_type": "execute_result"
    }
   ],
   "source": [
    "lrbf3=LogisticRegression(C=fitModel.best_params_['C'])\n",
    "#fit the model using training data\n",
    "lrbf3.fit(Xlr, ylr)\n",
    "#predict values for y using the test data\n",
    "ypredictNew=lrbf3.predict(Xtestlr)\n",
    "#compare predicted y vales (in this case gender) with actual Ytest data\n",
    "accuracy_score(ypredictNew,ytestlr)"
   ]
  },
  {
   "cell_type": "code",
   "execution_count": 62,
   "metadata": {
    "collapsed": false
   },
   "outputs": [
    {
     "name": "stdout",
     "output_type": "stream",
     "text": [
      "[False False False ..., False False False]\n",
      "[False False  True ..., False False False]\n"
     ]
    }
   ],
   "source": [
    "ypridlr=lrbf3.predict(Xtestlr)\n",
    "print(ypridlr)\n",
    "print(ytestlr)"
   ]
  },
  {
   "cell_type": "code",
   "execution_count": 63,
   "metadata": {
    "collapsed": false
   },
   "outputs": [
    {
     "data": {
      "text/plain": [
       "(array([ 0.88647959,  0.        ]),\n",
       " array([ 0.99971231,  0.        ]),\n",
       " array([ 0.93969713,  0.        ]),\n",
       " array([3476,  445]))"
      ]
     },
     "execution_count": 63,
     "metadata": {},
     "output_type": "execute_result"
    }
   ],
   "source": [
    "precision_recall_fscore_support(ytestlr, ypridlr)"
   ]
  },
  {
   "cell_type": "markdown",
   "metadata": {},
   "source": [
    "### 3. Third attempt using do_classify method"
   ]
  },
  {
   "cell_type": "code",
   "execution_count": 38,
   "metadata": {
    "collapsed": true
   },
   "outputs": [],
   "source": [
    "def cv_optimize(clf, parameters, Xtrain, ytrain, n_folds=5):\n",
    "    gs = GridSearchCV(clf, param_grid=parameters, cv=n_folds)\n",
    "    gs.fit(Xtrain, ytrain)\n",
    "    print (\"BEST PARAMS\", gs.best_params_)\n",
    "    best = gs.best_estimator_\n",
    "    return best"
   ]
  },
  {
   "cell_type": "code",
   "execution_count": 39,
   "metadata": {
    "collapsed": true
   },
   "outputs": [],
   "source": [
    "from sklearn.cross_validation import train_test_split\n",
    "def do_classify(clf, parameters, indf, featurenames, targetname, target1val, standardize=False, train_size=0.8):\n",
    "    subdf=indf[featurenames]\n",
    "    if standardize:\n",
    "        subdfstd=(subdf - subdf.mean())/subdf.std()\n",
    "    else:\n",
    "        subdfstd=subdf\n",
    "    X=subdfstd.values\n",
    "    y=(indf[targetname].values==target1val)*1\n",
    "    Xtrain, Xtest, ytrain, ytest = train_test_split(X, y, train_size=train_size)\n",
    "    clf = cv_optimize(clf, parameters, Xtrain, ytrain)\n",
    "    clf=clf.fit(Xtrain, ytrain)\n",
    "    training_accuracy = clf.score(Xtrain, ytrain)\n",
    "    test_accuracy = clf.score(Xtest, ytest)\n",
    "    print (\"Accuracy on training data: %0.5f\" % (training_accuracy))\n",
    "    print (\"Accuracy on test data:     %0.5f\" % (test_accuracy))\n",
    "    return clf, Xtrain, ytrain, Xtest, ytest"
   ]
  },
  {
   "cell_type": "code",
   "execution_count": 50,
   "metadata": {
    "collapsed": false
   },
   "outputs": [
    {
     "name": "stdout",
     "output_type": "stream",
     "text": [
      "BEST PARAMS {'C': 0.0001}\n",
      "Accuracy on training data: 0.89049\n",
      "Accuracy on test data:     0.87759\n"
     ]
    }
   ],
   "source": [
    "clf_l, Xtrain_l, ytrain_l, Xtest_l, ytest_l  = do_classify(LogisticRegression(), \n",
    "                                                           {\"C\": [0.0001, 0.001, 0.1,1, 10, 100]}, \n",
    "                                                           df1,['CREDIT SCORE','CURRENT INTEREST RATE','CLTV',\n",
    "                                                                'DTI Ratio'], \n",
    "                                                           'Non-PERFORMING','Y')"
   ]
  },
  {
   "cell_type": "markdown",
   "metadata": {},
   "source": [
    "#### Y values are 0 and 1 , 0 == False and 1== True , if Non-PERFORMING=='Y' then value is 1 "
   ]
  },
  {
   "cell_type": "code",
   "execution_count": 57,
   "metadata": {
    "collapsed": false
   },
   "outputs": [
    {
     "name": "stdout",
     "output_type": "stream",
     "text": [
      "(3137,)\n",
      "(3137,)\n",
      "[0 0 0 ..., 0 0 0]\n",
      "0\n",
      "1\n",
      "[0 0 0 ..., 0 0 0]\n",
      "0\n",
      "1\n"
     ]
    }
   ],
   "source": [
    "from sklearn.metrics import f1_score\n",
    "from sklearn.metrics import precision_recall_fscore_support\n",
    "ypred_l=clf_l.predict(Xtest_l)\n",
    "#f1=f1_score(ytest_l, ypred_l, average='macro')\n",
    "#print (f1)\n",
    "\n",
    "print(ypred_l.shape)\n",
    "print(ytest_l.shape)\n",
    "print(ypred_l)\n",
    "print (ypred_l.min())\n",
    "print (ypred_l.max())\n",
    "print(ytest_l)\n",
    "print (ytest_l.min())\n",
    "print (ytest_l.max())\n"
   ]
  },
  {
   "cell_type": "markdown",
   "metadata": {},
   "source": [
    "#### precision --> tp / (tp + fp )    recall --> tp / (tp + fn)"
   ]
  },
  {
   "cell_type": "code",
   "execution_count": 58,
   "metadata": {
    "collapsed": false
   },
   "outputs": [
    {
     "data": {
      "text/plain": [
       "(0.0, 0.0, 0.0, None)"
      ]
     },
     "execution_count": 58,
     "metadata": {},
     "output_type": "execute_result"
    }
   ],
   "source": [
    "precision_recall_fscore_support(ytest_l, ypred_l,pos_label=1,average='binary')"
   ]
  },
  {
   "cell_type": "code",
   "execution_count": 59,
   "metadata": {
    "collapsed": false
   },
   "outputs": [
    {
     "name": "stdout",
     "output_type": "stream",
     "text": [
      "0.0\n"
     ]
    }
   ],
   "source": [
    "f1=f1_score(ytest_l, ypred_l,pos_label=1,average='binary')\n",
    "print (f1)"
   ]
  }
 ],
 "metadata": {
  "anaconda-cloud": {},
  "kernelspec": {
   "display_name": "Python [Root]",
   "language": "python",
   "name": "Python [Root]"
  },
  "language_info": {
   "codemirror_mode": {
    "name": "ipython",
    "version": 3
   },
   "file_extension": ".py",
   "mimetype": "text/x-python",
   "name": "python",
   "nbconvert_exporter": "python",
   "pygments_lexer": "ipython3",
   "version": "3.5.1"
  }
 },
 "nbformat": 4,
 "nbformat_minor": 0
}
