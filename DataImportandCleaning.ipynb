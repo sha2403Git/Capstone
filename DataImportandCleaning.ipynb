{
 "cells": [
  {
   "cell_type": "code",
   "execution_count": 1,
   "metadata": {
    "collapsed": true
   },
   "outputs": [],
   "source": [
    " %matplotlib inline\n",
    "import pandas as pd \n",
    "import datetime as dt\n",
    "import numpy as np\n",
    "import matplotlib.pyplot as plt\n",
    "import scipy.stats as ss"
   ]
  },
  {
   "cell_type": "code",
   "execution_count": 2,
   "metadata": {
    "collapsed": false
   },
   "outputs": [],
   "source": [
    "def stringToInt(var):\n",
    "    try:\n",
    "        var = np.int16(var)\n",
    "        return var\n",
    "    except Exception:\n",
    "        if var == 'R':\n",
    "            return np.int16(130)# Setting a arbituary hight value for Forclosed home\n",
    "        else:\n",
    "            return np.int16(-1)\n",
    "\n",
    "def stringToFloat(var):\n",
    "    try:\n",
    "        var = np.float32(var)\n",
    "        return var\n",
    "    except Exception:\n",
    "        return np.float32(0)\n",
    "\n",
    "def fillFlag(var):\n",
    "    try:\n",
    "        var=np.char(var)\n",
    "        return var\n",
    "    except Exception:\n",
    "        return np.char('F')\n"
   ]
  },
  {
   "cell_type": "markdown",
   "metadata": {},
   "source": [
    "### Data file containing loan origination information for Year 2010"
   ]
  },
  {
   "cell_type": "code",
   "execution_count": 3,
   "metadata": {
    "collapsed": false
   },
   "outputs": [
    {
     "data": {
      "text/plain": [
       "392776"
      ]
     },
     "execution_count": 3,
     "metadata": {},
     "output_type": "execute_result"
    }
   ],
   "source": [
    "fields_Origin = ['CREDIT SCORE','FIRST TIME HOMEBUYER FLAG','MORTGAGE INSURANCE PERCENTAGE','CLTV','DTI Ratio',\n",
    "          'ORIGINAL UPB','ORIGINAL LTV','ORIGINAL INTEREST RATE' ,'LOAN SEQUENCE NUMBER']    #9\n",
    "fData=pd.read_csv('data/historical_data1_Q11999/historical_data1_Q11999.txt','|',index_col=None, encoding='utf-8',low_memory=False\n",
    "                 ,usecols=fields_Origin,converters={'CREDIT SCORE':stringToInt,\n",
    "                                                     'DTI Ratio':stringToFloat,\n",
    "                                                      'CLTV':stringToFloat})\n",
    "len(fData)"
   ]
  },
  {
   "cell_type": "markdown",
   "metadata": {},
   "source": [
    "### Data file containing loan monthly data for Year 2010. "
   ]
  },
  {
   "cell_type": "code",
   "execution_count": 4,
   "metadata": {
    "collapsed": false
   },
   "outputs": [
    {
     "name": "stdout",
     "output_type": "stream",
     "text": [
      "<class 'pandas.core.frame.DataFrame'>\n",
      "Int64Index: 22227548 entries, 0 to 7547\n",
      "Data columns (total 11 columns):\n",
      "LOAN SEQUENCE NUMBER                  object\n",
      "MONTHLY REPORTING PERIOD              datetime64[ns]\n",
      "CURRENT ACTUAL UPB                    float64\n",
      "CURRENT LOAN DELINQUENCY STATUS       int64\n",
      "REMAINING MONTHS TO LEGAL MATURITY    int64\n",
      "REPURCHASE FLAG                       object\n",
      "MODIFICATION FLAG                     object\n",
      "ZERO BALANCE CODE                     object\n",
      "ZERO BALANCE EFFECTIVE DATE           object\n",
      "CURRENT INTEREST RATE                 float64\n",
      "CURRENT DEFERRED UPB                  float64\n",
      "dtypes: datetime64[ns](1), float64(3), int64(2), object(5)\n",
      "memory usage: 2.0+ GB\n"
     ]
    }
   ],
   "source": [
    "dateparse = lambda x: pd.datetime.strptime(x, '%Y%m')\n",
    "fields_Month=['LOAN SEQUENCE NUMBER','MONTHLY REPORTING PERIOD','CURRENT ACTUAL UPB','CURRENT LOAN DELINQUENCY STATUS',\n",
    "              'REMAINING MONTHS TO LEGAL MATURITY','REPURCHASE FLAG','MODIFICATION FLAG',\n",
    "              'ZERO BALANCE CODE','ZERO BALANCE EFFECTIVE DATE','CURRENT INTEREST RATE','CURRENT DEFERRED UPB']\n",
    "reader=pd.read_csv('data/historical_data1_Q11999/historical_data1_time_Q11999.txt','|',\n",
    "                   index_col=None, parse_dates=['MONTHLY REPORTING PERIOD'],\n",
    "                   date_parser=dateparse,encoding='utf-8',low_memory=False,chunksize=10000\n",
    "                  ,usecols=fields_Month,converters={'CURRENT ACTUAL UPB':stringToFloat,\n",
    "                                                    'CURRENT LOAN DELINQUENCY STATUS':stringToInt})\n",
    "\n",
    "\n",
    "#Get dataframe from chunks\n",
    "df = pd.concat(chunk for chunk in reader)\n",
    "\n",
    "#Fill missing data\n",
    "df['REPURCHASE FLAG'].fillna('F', inplace=True)\n",
    "df['MODIFICATION FLAG'].fillna('N', inplace=True)\n",
    "df['ZERO BALANCE CODE'].fillna('00', inplace=True)\n",
    "df['ZERO BALANCE EFFECTIVE DATE'].fillna('000000', inplace=True)\n",
    "\n",
    "df.info()\n",
    "\n"
   ]
  },
  {
   "cell_type": "code",
   "execution_count": 5,
   "metadata": {
    "collapsed": false
   },
   "outputs": [
    {
     "data": {
      "text/html": [
       "<div>\n",
       "<table border=\"1\" class=\"dataframe\">\n",
       "  <thead>\n",
       "    <tr style=\"text-align: right;\">\n",
       "      <th></th>\n",
       "      <th>LOAN SEQUENCE NUMBER</th>\n",
       "      <th>MONTHLY REPORTING PERIOD</th>\n",
       "      <th>CURRENT ACTUAL UPB</th>\n",
       "      <th>CURRENT LOAN DELINQUENCY STATUS</th>\n",
       "      <th>REMAINING MONTHS TO LEGAL MATURITY</th>\n",
       "      <th>REPURCHASE FLAG</th>\n",
       "      <th>MODIFICATION FLAG</th>\n",
       "      <th>ZERO BALANCE CODE</th>\n",
       "      <th>ZERO BALANCE EFFECTIVE DATE</th>\n",
       "      <th>CURRENT INTEREST RATE</th>\n",
       "      <th>CURRENT DEFERRED UPB</th>\n",
       "    </tr>\n",
       "  </thead>\n",
       "  <tbody>\n",
       "    <tr>\n",
       "      <th>0</th>\n",
       "      <td>F199Q1000001</td>\n",
       "      <td>2002-05-01</td>\n",
       "      <td>171982.437500</td>\n",
       "      <td>0</td>\n",
       "      <td>328</td>\n",
       "      <td>F</td>\n",
       "      <td>N</td>\n",
       "      <td>00</td>\n",
       "      <td>000000</td>\n",
       "      <td>6.3</td>\n",
       "      <td>0.0</td>\n",
       "    </tr>\n",
       "    <tr>\n",
       "      <th>1</th>\n",
       "      <td>F199Q1000001</td>\n",
       "      <td>2002-06-01</td>\n",
       "      <td>171571.390625</td>\n",
       "      <td>0</td>\n",
       "      <td>327</td>\n",
       "      <td>F</td>\n",
       "      <td>N</td>\n",
       "      <td>00</td>\n",
       "      <td>000000</td>\n",
       "      <td>6.3</td>\n",
       "      <td>0.0</td>\n",
       "    </tr>\n",
       "    <tr>\n",
       "      <th>2</th>\n",
       "      <td>F199Q1000001</td>\n",
       "      <td>2002-07-01</td>\n",
       "      <td>171158.328125</td>\n",
       "      <td>0</td>\n",
       "      <td>326</td>\n",
       "      <td>F</td>\n",
       "      <td>N</td>\n",
       "      <td>00</td>\n",
       "      <td>000000</td>\n",
       "      <td>6.3</td>\n",
       "      <td>0.0</td>\n",
       "    </tr>\n",
       "    <tr>\n",
       "      <th>3</th>\n",
       "      <td>F199Q1000001</td>\n",
       "      <td>2002-08-01</td>\n",
       "      <td>170742.890625</td>\n",
       "      <td>0</td>\n",
       "      <td>325</td>\n",
       "      <td>F</td>\n",
       "      <td>N</td>\n",
       "      <td>00</td>\n",
       "      <td>000000</td>\n",
       "      <td>6.3</td>\n",
       "      <td>0.0</td>\n",
       "    </tr>\n",
       "    <tr>\n",
       "      <th>4</th>\n",
       "      <td>F199Q1000001</td>\n",
       "      <td>2002-09-01</td>\n",
       "      <td>170325.171875</td>\n",
       "      <td>0</td>\n",
       "      <td>324</td>\n",
       "      <td>F</td>\n",
       "      <td>N</td>\n",
       "      <td>00</td>\n",
       "      <td>000000</td>\n",
       "      <td>6.3</td>\n",
       "      <td>0.0</td>\n",
       "    </tr>\n",
       "  </tbody>\n",
       "</table>\n",
       "</div>"
      ],
      "text/plain": [
       "  LOAN SEQUENCE NUMBER MONTHLY REPORTING PERIOD  CURRENT ACTUAL UPB  \\\n",
       "0         F199Q1000001               2002-05-01       171982.437500   \n",
       "1         F199Q1000001               2002-06-01       171571.390625   \n",
       "2         F199Q1000001               2002-07-01       171158.328125   \n",
       "3         F199Q1000001               2002-08-01       170742.890625   \n",
       "4         F199Q1000001               2002-09-01       170325.171875   \n",
       "\n",
       "   CURRENT LOAN DELINQUENCY STATUS  REMAINING MONTHS TO LEGAL MATURITY  \\\n",
       "0                                0                                 328   \n",
       "1                                0                                 327   \n",
       "2                                0                                 326   \n",
       "3                                0                                 325   \n",
       "4                                0                                 324   \n",
       "\n",
       "  REPURCHASE FLAG MODIFICATION FLAG ZERO BALANCE CODE  \\\n",
       "0               F                 N                00   \n",
       "1               F                 N                00   \n",
       "2               F                 N                00   \n",
       "3               F                 N                00   \n",
       "4               F                 N                00   \n",
       "\n",
       "  ZERO BALANCE EFFECTIVE DATE  CURRENT INTEREST RATE  CURRENT DEFERRED UPB  \n",
       "0                      000000                    6.3                   0.0  \n",
       "1                      000000                    6.3                   0.0  \n",
       "2                      000000                    6.3                   0.0  \n",
       "3                      000000                    6.3                   0.0  \n",
       "4                      000000                    6.3                   0.0  "
      ]
     },
     "execution_count": 5,
     "metadata": {},
     "output_type": "execute_result"
    }
   ],
   "source": [
    "df.head()"
   ]
  },
  {
   "cell_type": "code",
   "execution_count": 6,
   "metadata": {
    "collapsed": false
   },
   "outputs": [
    {
     "name": "stdout",
     "output_type": "stream",
     "text": [
      "2015-12-01 00:00:00\n",
      "1999-02-01 00:00:00\n",
      "130\n"
     ]
    }
   ],
   "source": [
    "df2=df.sort_values(by='CURRENT LOAN DELINQUENCY STATUS',ascending=False)\n",
    "print (df2['MONTHLY REPORTING PERIOD'].max())\n",
    "print (df2['MONTHLY REPORTING PERIOD'].min())\n",
    "print (df2['CURRENT LOAN DELINQUENCY STATUS'].max())"
   ]
  },
  {
   "cell_type": "code",
   "execution_count": 7,
   "metadata": {
    "collapsed": false
   },
   "outputs": [
    {
     "data": {
      "text/html": [
       "<div>\n",
       "<table border=\"1\" class=\"dataframe\">\n",
       "  <thead>\n",
       "    <tr style=\"text-align: right;\">\n",
       "      <th></th>\n",
       "      <th>LOAN SEQUENCE NUMBER</th>\n",
       "      <th>MONTHLY REPORTING PERIOD</th>\n",
       "      <th>CURRENT ACTUAL UPB</th>\n",
       "      <th>CURRENT LOAN DELINQUENCY STATUS</th>\n",
       "      <th>REMAINING MONTHS TO LEGAL MATURITY</th>\n",
       "      <th>REPURCHASE FLAG</th>\n",
       "      <th>MODIFICATION FLAG</th>\n",
       "      <th>ZERO BALANCE CODE</th>\n",
       "      <th>ZERO BALANCE EFFECTIVE DATE</th>\n",
       "      <th>CURRENT INTEREST RATE</th>\n",
       "      <th>CURRENT DEFERRED UPB</th>\n",
       "      <th>year</th>\n",
       "      <th>quarter</th>\n",
       "    </tr>\n",
       "  </thead>\n",
       "  <tbody>\n",
       "    <tr>\n",
       "      <th>0</th>\n",
       "      <td>F199Q1000001</td>\n",
       "      <td>2002-05-01</td>\n",
       "      <td>171982.437500</td>\n",
       "      <td>0</td>\n",
       "      <td>328</td>\n",
       "      <td>F</td>\n",
       "      <td>N</td>\n",
       "      <td>00</td>\n",
       "      <td>000000</td>\n",
       "      <td>6.3</td>\n",
       "      <td>0.0</td>\n",
       "      <td>2002</td>\n",
       "      <td>2</td>\n",
       "    </tr>\n",
       "    <tr>\n",
       "      <th>1</th>\n",
       "      <td>F199Q1000001</td>\n",
       "      <td>2002-06-01</td>\n",
       "      <td>171571.390625</td>\n",
       "      <td>0</td>\n",
       "      <td>327</td>\n",
       "      <td>F</td>\n",
       "      <td>N</td>\n",
       "      <td>00</td>\n",
       "      <td>000000</td>\n",
       "      <td>6.3</td>\n",
       "      <td>0.0</td>\n",
       "      <td>2002</td>\n",
       "      <td>2</td>\n",
       "    </tr>\n",
       "    <tr>\n",
       "      <th>2</th>\n",
       "      <td>F199Q1000001</td>\n",
       "      <td>2002-07-01</td>\n",
       "      <td>171158.328125</td>\n",
       "      <td>0</td>\n",
       "      <td>326</td>\n",
       "      <td>F</td>\n",
       "      <td>N</td>\n",
       "      <td>00</td>\n",
       "      <td>000000</td>\n",
       "      <td>6.3</td>\n",
       "      <td>0.0</td>\n",
       "      <td>2002</td>\n",
       "      <td>3</td>\n",
       "    </tr>\n",
       "    <tr>\n",
       "      <th>3</th>\n",
       "      <td>F199Q1000001</td>\n",
       "      <td>2002-08-01</td>\n",
       "      <td>170742.890625</td>\n",
       "      <td>0</td>\n",
       "      <td>325</td>\n",
       "      <td>F</td>\n",
       "      <td>N</td>\n",
       "      <td>00</td>\n",
       "      <td>000000</td>\n",
       "      <td>6.3</td>\n",
       "      <td>0.0</td>\n",
       "      <td>2002</td>\n",
       "      <td>3</td>\n",
       "    </tr>\n",
       "    <tr>\n",
       "      <th>4</th>\n",
       "      <td>F199Q1000001</td>\n",
       "      <td>2002-09-01</td>\n",
       "      <td>170325.171875</td>\n",
       "      <td>0</td>\n",
       "      <td>324</td>\n",
       "      <td>F</td>\n",
       "      <td>N</td>\n",
       "      <td>00</td>\n",
       "      <td>000000</td>\n",
       "      <td>6.3</td>\n",
       "      <td>0.0</td>\n",
       "      <td>2002</td>\n",
       "      <td>3</td>\n",
       "    </tr>\n",
       "  </tbody>\n",
       "</table>\n",
       "</div>"
      ],
      "text/plain": [
       "  LOAN SEQUENCE NUMBER MONTHLY REPORTING PERIOD  CURRENT ACTUAL UPB  \\\n",
       "0         F199Q1000001               2002-05-01       171982.437500   \n",
       "1         F199Q1000001               2002-06-01       171571.390625   \n",
       "2         F199Q1000001               2002-07-01       171158.328125   \n",
       "3         F199Q1000001               2002-08-01       170742.890625   \n",
       "4         F199Q1000001               2002-09-01       170325.171875   \n",
       "\n",
       "   CURRENT LOAN DELINQUENCY STATUS  REMAINING MONTHS TO LEGAL MATURITY  \\\n",
       "0                                0                                 328   \n",
       "1                                0                                 327   \n",
       "2                                0                                 326   \n",
       "3                                0                                 325   \n",
       "4                                0                                 324   \n",
       "\n",
       "  REPURCHASE FLAG MODIFICATION FLAG ZERO BALANCE CODE  \\\n",
       "0               F                 N                00   \n",
       "1               F                 N                00   \n",
       "2               F                 N                00   \n",
       "3               F                 N                00   \n",
       "4               F                 N                00   \n",
       "\n",
       "  ZERO BALANCE EFFECTIVE DATE  CURRENT INTEREST RATE  CURRENT DEFERRED UPB  \\\n",
       "0                      000000                    6.3                   0.0   \n",
       "1                      000000                    6.3                   0.0   \n",
       "2                      000000                    6.3                   0.0   \n",
       "3                      000000                    6.3                   0.0   \n",
       "4                      000000                    6.3                   0.0   \n",
       "\n",
       "   year  quarter  \n",
       "0  2002        2  \n",
       "1  2002        2  \n",
       "2  2002        3  \n",
       "3  2002        3  \n",
       "4  2002        3  "
      ]
     },
     "execution_count": 7,
     "metadata": {},
     "output_type": "execute_result"
    }
   ],
   "source": [
    "#Calculate two new columns \n",
    "df['year']=df['MONTHLY REPORTING PERIOD'].dt.year\n",
    "df['quarter']=df['MONTHLY REPORTING PERIOD'].dt.quarter\n",
    "df.head()"
   ]
  },
  {
   "cell_type": "markdown",
   "metadata": {},
   "source": [
    "#### Removing Loan data with no credit score"
   ]
  },
  {
   "cell_type": "code",
   "execution_count": 8,
   "metadata": {
    "collapsed": false
   },
   "outputs": [
    {
     "name": "stdout",
     "output_type": "stream",
     "text": [
      "392776\n",
      "391229\n"
     ]
    }
   ],
   "source": [
    "print (len(fData))\n",
    "fDataClean=fData[fData['CREDIT SCORE']>0]\n",
    "print (len(fDataClean))"
   ]
  },
  {
   "cell_type": "markdown",
   "metadata": {},
   "source": [
    "#### Removing invalid data (Missing CURRENT LOAN DELINQUENCY STATUS) and Forclosed data out."
   ]
  },
  {
   "cell_type": "code",
   "execution_count": 9,
   "metadata": {
    "collapsed": false
   },
   "outputs": [
    {
     "name": "stdout",
     "output_type": "stream",
     "text": [
      "22227548\n",
      "22227548\n"
     ]
    }
   ],
   "source": [
    "print (len(df))\n",
    "dfClean=df[df['CURRENT LOAN DELINQUENCY STATUS'] >-1]\n",
    "print (len(dfClean))\n",
    "#dfClean=dfClean[dfClean['CURRENT LOAN DELINQUENCY STATUS'] <300]\n",
    "#print (len(dfClean))"
   ]
  },
  {
   "cell_type": "markdown",
   "metadata": {},
   "source": [
    "### Merging  Loan Origination with Monthly datasets "
   ]
  },
  {
   "cell_type": "code",
   "execution_count": 10,
   "metadata": {
    "collapsed": false
   },
   "outputs": [
    {
     "name": "stdout",
     "output_type": "stream",
     "text": [
      "22131076\n"
     ]
    }
   ],
   "source": [
    "\n",
    "dfMonthly = pd.merge(dfClean,fDataClean,on='LOAN SEQUENCE NUMBER')\n",
    "dfMonthly.head()\n",
    "print (len(dfMonthly))"
   ]
  },
  {
   "cell_type": "markdown",
   "metadata": {},
   "source": [
    "### Slicing and peeking into dataset"
   ]
  },
  {
   "cell_type": "code",
   "execution_count": 11,
   "metadata": {
    "collapsed": false
   },
   "outputs": [
    {
     "data": {
      "text/html": [
       "<div>\n",
       "<table border=\"1\" class=\"dataframe\">\n",
       "  <thead>\n",
       "    <tr style=\"text-align: right;\">\n",
       "      <th></th>\n",
       "      <th>LOAN SEQUENCE NUMBER</th>\n",
       "      <th>CREDIT SCORE</th>\n",
       "      <th>CURRENT LOAN DELINQUENCY STATUS</th>\n",
       "    </tr>\n",
       "  </thead>\n",
       "  <tbody>\n",
       "    <tr>\n",
       "      <th>0</th>\n",
       "      <td>F199Q1000001</td>\n",
       "      <td>751</td>\n",
       "      <td>0</td>\n",
       "    </tr>\n",
       "    <tr>\n",
       "      <th>1</th>\n",
       "      <td>F199Q1000001</td>\n",
       "      <td>751</td>\n",
       "      <td>0</td>\n",
       "    </tr>\n",
       "    <tr>\n",
       "      <th>2</th>\n",
       "      <td>F199Q1000001</td>\n",
       "      <td>751</td>\n",
       "      <td>0</td>\n",
       "    </tr>\n",
       "    <tr>\n",
       "      <th>3</th>\n",
       "      <td>F199Q1000001</td>\n",
       "      <td>751</td>\n",
       "      <td>0</td>\n",
       "    </tr>\n",
       "    <tr>\n",
       "      <th>4</th>\n",
       "      <td>F199Q1000001</td>\n",
       "      <td>751</td>\n",
       "      <td>0</td>\n",
       "    </tr>\n",
       "    <tr>\n",
       "      <th>5</th>\n",
       "      <td>F199Q1000001</td>\n",
       "      <td>751</td>\n",
       "      <td>0</td>\n",
       "    </tr>\n",
       "    <tr>\n",
       "      <th>6</th>\n",
       "      <td>F199Q1000001</td>\n",
       "      <td>751</td>\n",
       "      <td>0</td>\n",
       "    </tr>\n",
       "    <tr>\n",
       "      <th>7</th>\n",
       "      <td>F199Q1000002</td>\n",
       "      <td>733</td>\n",
       "      <td>0</td>\n",
       "    </tr>\n",
       "    <tr>\n",
       "      <th>8</th>\n",
       "      <td>F199Q1000002</td>\n",
       "      <td>733</td>\n",
       "      <td>0</td>\n",
       "    </tr>\n",
       "    <tr>\n",
       "      <th>9</th>\n",
       "      <td>F199Q1000002</td>\n",
       "      <td>733</td>\n",
       "      <td>0</td>\n",
       "    </tr>\n",
       "    <tr>\n",
       "      <th>10</th>\n",
       "      <td>F199Q1000002</td>\n",
       "      <td>733</td>\n",
       "      <td>0</td>\n",
       "    </tr>\n",
       "    <tr>\n",
       "      <th>11</th>\n",
       "      <td>F199Q1000002</td>\n",
       "      <td>733</td>\n",
       "      <td>0</td>\n",
       "    </tr>\n",
       "    <tr>\n",
       "      <th>12</th>\n",
       "      <td>F199Q1000002</td>\n",
       "      <td>733</td>\n",
       "      <td>0</td>\n",
       "    </tr>\n",
       "    <tr>\n",
       "      <th>13</th>\n",
       "      <td>F199Q1000002</td>\n",
       "      <td>733</td>\n",
       "      <td>0</td>\n",
       "    </tr>\n",
       "    <tr>\n",
       "      <th>14</th>\n",
       "      <td>F199Q1000002</td>\n",
       "      <td>733</td>\n",
       "      <td>0</td>\n",
       "    </tr>\n",
       "    <tr>\n",
       "      <th>15</th>\n",
       "      <td>F199Q1000002</td>\n",
       "      <td>733</td>\n",
       "      <td>0</td>\n",
       "    </tr>\n",
       "    <tr>\n",
       "      <th>16</th>\n",
       "      <td>F199Q1000002</td>\n",
       "      <td>733</td>\n",
       "      <td>0</td>\n",
       "    </tr>\n",
       "    <tr>\n",
       "      <th>17</th>\n",
       "      <td>F199Q1000002</td>\n",
       "      <td>733</td>\n",
       "      <td>0</td>\n",
       "    </tr>\n",
       "    <tr>\n",
       "      <th>18</th>\n",
       "      <td>F199Q1000002</td>\n",
       "      <td>733</td>\n",
       "      <td>0</td>\n",
       "    </tr>\n",
       "    <tr>\n",
       "      <th>19</th>\n",
       "      <td>F199Q1000002</td>\n",
       "      <td>733</td>\n",
       "      <td>0</td>\n",
       "    </tr>\n",
       "  </tbody>\n",
       "</table>\n",
       "</div>"
      ],
      "text/plain": [
       "   LOAN SEQUENCE NUMBER  CREDIT SCORE  CURRENT LOAN DELINQUENCY STATUS\n",
       "0          F199Q1000001           751                                0\n",
       "1          F199Q1000001           751                                0\n",
       "2          F199Q1000001           751                                0\n",
       "3          F199Q1000001           751                                0\n",
       "4          F199Q1000001           751                                0\n",
       "5          F199Q1000001           751                                0\n",
       "6          F199Q1000001           751                                0\n",
       "7          F199Q1000002           733                                0\n",
       "8          F199Q1000002           733                                0\n",
       "9          F199Q1000002           733                                0\n",
       "10         F199Q1000002           733                                0\n",
       "11         F199Q1000002           733                                0\n",
       "12         F199Q1000002           733                                0\n",
       "13         F199Q1000002           733                                0\n",
       "14         F199Q1000002           733                                0\n",
       "15         F199Q1000002           733                                0\n",
       "16         F199Q1000002           733                                0\n",
       "17         F199Q1000002           733                                0\n",
       "18         F199Q1000002           733                                0\n",
       "19         F199Q1000002           733                                0"
      ]
     },
     "execution_count": 11,
     "metadata": {},
     "output_type": "execute_result"
    }
   ],
   "source": [
    "df1=dfMonthly[['LOAN SEQUENCE NUMBER','CREDIT SCORE','CURRENT LOAN DELINQUENCY STATUS']]\n",
    "df1.head(20)"
   ]
  },
  {
   "cell_type": "markdown",
   "metadata": {},
   "source": [
    "### Understanding key values"
   ]
  },
  {
   "cell_type": "code",
   "execution_count": 12,
   "metadata": {
    "collapsed": false
   },
   "outputs": [
    {
     "data": {
      "text/html": [
       "<div>\n",
       "<table border=\"1\" class=\"dataframe\">\n",
       "  <thead>\n",
       "    <tr style=\"text-align: right;\">\n",
       "      <th></th>\n",
       "      <th>LOAN SEQUENCE NUMBER</th>\n",
       "      <th>CREDIT SCORE</th>\n",
       "      <th>CURRENT LOAN DELINQUENCY STATUS</th>\n",
       "    </tr>\n",
       "  </thead>\n",
       "  <tbody>\n",
       "    <tr>\n",
       "      <th>557106</th>\n",
       "      <td>F199Q1010586</td>\n",
       "      <td>722</td>\n",
       "      <td>130</td>\n",
       "    </tr>\n",
       "    <tr>\n",
       "      <th>9044662</th>\n",
       "      <td>F199Q1163667</td>\n",
       "      <td>630</td>\n",
       "      <td>130</td>\n",
       "    </tr>\n",
       "    <tr>\n",
       "      <th>17845006</th>\n",
       "      <td>F199Q1321572</td>\n",
       "      <td>619</td>\n",
       "      <td>130</td>\n",
       "    </tr>\n",
       "    <tr>\n",
       "      <th>2956230</th>\n",
       "      <td>F199Q1053799</td>\n",
       "      <td>580</td>\n",
       "      <td>130</td>\n",
       "    </tr>\n",
       "    <tr>\n",
       "      <th>2956231</th>\n",
       "      <td>F199Q1053799</td>\n",
       "      <td>580</td>\n",
       "      <td>130</td>\n",
       "    </tr>\n",
       "    <tr>\n",
       "      <th>17228832</th>\n",
       "      <td>F199Q1310825</td>\n",
       "      <td>502</td>\n",
       "      <td>130</td>\n",
       "    </tr>\n",
       "    <tr>\n",
       "      <th>17845007</th>\n",
       "      <td>F199Q1321572</td>\n",
       "      <td>619</td>\n",
       "      <td>130</td>\n",
       "    </tr>\n",
       "    <tr>\n",
       "      <th>9044663</th>\n",
       "      <td>F199Q1163667</td>\n",
       "      <td>630</td>\n",
       "      <td>130</td>\n",
       "    </tr>\n",
       "    <tr>\n",
       "      <th>15305145</th>\n",
       "      <td>F199Q1277463</td>\n",
       "      <td>622</td>\n",
       "      <td>130</td>\n",
       "    </tr>\n",
       "    <tr>\n",
       "      <th>19776265</th>\n",
       "      <td>F199Q1355130</td>\n",
       "      <td>585</td>\n",
       "      <td>130</td>\n",
       "    </tr>\n",
       "    <tr>\n",
       "      <th>10819252</th>\n",
       "      <td>F199Q1196014</td>\n",
       "      <td>729</td>\n",
       "      <td>130</td>\n",
       "    </tr>\n",
       "    <tr>\n",
       "      <th>1686553</th>\n",
       "      <td>F199Q1030640</td>\n",
       "      <td>675</td>\n",
       "      <td>130</td>\n",
       "    </tr>\n",
       "    <tr>\n",
       "      <th>1686552</th>\n",
       "      <td>F199Q1030640</td>\n",
       "      <td>675</td>\n",
       "      <td>130</td>\n",
       "    </tr>\n",
       "    <tr>\n",
       "      <th>4227525</th>\n",
       "      <td>F199Q1076849</td>\n",
       "      <td>663</td>\n",
       "      <td>130</td>\n",
       "    </tr>\n",
       "    <tr>\n",
       "      <th>4227524</th>\n",
       "      <td>F199Q1076849</td>\n",
       "      <td>663</td>\n",
       "      <td>130</td>\n",
       "    </tr>\n",
       "    <tr>\n",
       "      <th>10819253</th>\n",
       "      <td>F199Q1196014</td>\n",
       "      <td>729</td>\n",
       "      <td>130</td>\n",
       "    </tr>\n",
       "    <tr>\n",
       "      <th>17228833</th>\n",
       "      <td>F199Q1310825</td>\n",
       "      <td>502</td>\n",
       "      <td>130</td>\n",
       "    </tr>\n",
       "    <tr>\n",
       "      <th>15305146</th>\n",
       "      <td>F199Q1277463</td>\n",
       "      <td>622</td>\n",
       "      <td>130</td>\n",
       "    </tr>\n",
       "    <tr>\n",
       "      <th>18573305</th>\n",
       "      <td>F199Q1334242</td>\n",
       "      <td>635</td>\n",
       "      <td>130</td>\n",
       "    </tr>\n",
       "    <tr>\n",
       "      <th>6441450</th>\n",
       "      <td>F199Q1116024</td>\n",
       "      <td>667</td>\n",
       "      <td>130</td>\n",
       "    </tr>\n",
       "  </tbody>\n",
       "</table>\n",
       "</div>"
      ],
      "text/plain": [
       "         LOAN SEQUENCE NUMBER  CREDIT SCORE  CURRENT LOAN DELINQUENCY STATUS\n",
       "557106           F199Q1010586           722                              130\n",
       "9044662          F199Q1163667           630                              130\n",
       "17845006         F199Q1321572           619                              130\n",
       "2956230          F199Q1053799           580                              130\n",
       "2956231          F199Q1053799           580                              130\n",
       "17228832         F199Q1310825           502                              130\n",
       "17845007         F199Q1321572           619                              130\n",
       "9044663          F199Q1163667           630                              130\n",
       "15305145         F199Q1277463           622                              130\n",
       "19776265         F199Q1355130           585                              130\n",
       "10819252         F199Q1196014           729                              130\n",
       "1686553          F199Q1030640           675                              130\n",
       "1686552          F199Q1030640           675                              130\n",
       "4227525          F199Q1076849           663                              130\n",
       "4227524          F199Q1076849           663                              130\n",
       "10819253         F199Q1196014           729                              130\n",
       "17228833         F199Q1310825           502                              130\n",
       "15305146         F199Q1277463           622                              130\n",
       "18573305         F199Q1334242           635                              130\n",
       "6441450          F199Q1116024           667                              130"
      ]
     },
     "execution_count": 12,
     "metadata": {},
     "output_type": "execute_result"
    }
   ],
   "source": [
    "df2=df1.sort_values(by='CURRENT LOAN DELINQUENCY STATUS',ascending=False)\n",
    "df2.head(20)"
   ]
  },
  {
   "cell_type": "markdown",
   "metadata": {},
   "source": [
    "### Grouping data for each loan.  Total number of unique loans"
   ]
  },
  {
   "cell_type": "code",
   "execution_count": 13,
   "metadata": {
    "collapsed": false
   },
   "outputs": [
    {
     "data": {
      "text/plain": [
       "391192"
      ]
     },
     "execution_count": 13,
     "metadata": {},
     "output_type": "execute_result"
    }
   ],
   "source": [
    "df2=df1.groupby('LOAN SEQUENCE NUMBER').max()\n",
    "df3=df2.reset_index()\n",
    "df3.head()\n",
    "\n",
    "len(df3)"
   ]
  },
  {
   "cell_type": "markdown",
   "metadata": {},
   "source": [
    "### Total of non performing loan"
   ]
  },
  {
   "cell_type": "code",
   "execution_count": 14,
   "metadata": {
    "collapsed": false
   },
   "outputs": [
    {
     "data": {
      "text/plain": [
       "72334"
      ]
     },
     "execution_count": 14,
     "metadata": {},
     "output_type": "execute_result"
    }
   ],
   "source": [
    "df4= df3[df3['CURRENT LOAN DELINQUENCY STATUS']>0]\n",
    "len(df4)"
   ]
  },
  {
   "cell_type": "markdown",
   "metadata": {},
   "source": [
    "### Monthly GDP data from Labour Department"
   ]
  },
  {
   "cell_type": "code",
   "execution_count": 15,
   "metadata": {
    "collapsed": false
   },
   "outputs": [
    {
     "data": {
      "text/plain": [
       "2014"
      ]
     },
     "execution_count": 15,
     "metadata": {},
     "output_type": "execute_result"
    }
   ],
   "source": [
    "dateparse2 = lambda x: pd.datetime.strptime(x, '%Y-%m-%d')\n",
    "fields_gdp=['date','change-current','change-chained']\n",
    "gdpData= pd.read_csv('data/gdp-quarter.csv',',', parse_dates=['date'],date_parser=dateparse2,usecols=fields_gdp)\n",
    "gdpData=gdpData[(gdpData.date > np.datetime64('2008-12-30')) & (gdpData.date < np.datetime64('2016-01-01'))]\n",
    "gdpData['year']=gdpData['date'].dt.year\n",
    "gdpData['quarter']=gdpData['date'].dt.quarter\n",
    "gdpData.year.max()"
   ]
  },
  {
   "cell_type": "markdown",
   "metadata": {},
   "source": [
    "### Merging the values with above dfMonthly dataset"
   ]
  },
  {
   "cell_type": "code",
   "execution_count": 16,
   "metadata": {
    "collapsed": false
   },
   "outputs": [],
   "source": [
    "dfWithG=pd.merge(dfMonthly,gdpData,on=['year','quarter'])\n"
   ]
  },
  {
   "cell_type": "code",
   "execution_count": 17,
   "metadata": {
    "collapsed": false
   },
   "outputs": [
    {
     "name": "stdout",
     "output_type": "stream",
     "text": [
      "<class 'pandas.core.frame.DataFrame'>\n",
      "Int64Index: 1539707 entries, 0 to 1539706\n",
      "Data columns (total 24 columns):\n",
      "LOAN SEQUENCE NUMBER                  1539707 non-null object\n",
      "MONTHLY REPORTING PERIOD              1539707 non-null datetime64[ns]\n",
      "CURRENT ACTUAL UPB                    1539707 non-null float64\n",
      "CURRENT LOAN DELINQUENCY STATUS       1539707 non-null int64\n",
      "REMAINING MONTHS TO LEGAL MATURITY    1539707 non-null int64\n",
      "REPURCHASE FLAG                       1539707 non-null object\n",
      "MODIFICATION FLAG                     1539707 non-null object\n",
      "ZERO BALANCE CODE                     1539707 non-null object\n",
      "ZERO BALANCE EFFECTIVE DATE           1539707 non-null object\n",
      "CURRENT INTEREST RATE                 1539707 non-null float64\n",
      "CURRENT DEFERRED UPB                  1539707 non-null float64\n",
      "year                                  1539707 non-null int64\n",
      "quarter                               1539707 non-null int64\n",
      "CREDIT SCORE                          1539707 non-null int64\n",
      "FIRST TIME HOMEBUYER FLAG             1072621 non-null object\n",
      "MORTGAGE INSURANCE PERCENTAGE         1539707 non-null object\n",
      "CLTV                                  1539707 non-null float64\n",
      "DTI Ratio                             1539707 non-null float64\n",
      "ORIGINAL UPB                          1539707 non-null int64\n",
      "ORIGINAL LTV                          1539644 non-null float64\n",
      "ORIGINAL INTEREST RATE                1539707 non-null float64\n",
      "date                                  1539707 non-null datetime64[ns]\n",
      "change-current                        1539707 non-null float64\n",
      "change-chained                        1539707 non-null float64\n",
      "dtypes: datetime64[ns](2), float64(9), int64(6), object(7)\n",
      "memory usage: 293.7+ MB\n"
     ]
    }
   ],
   "source": [
    "dfWithG.info()"
   ]
  },
  {
   "cell_type": "markdown",
   "metadata": {},
   "source": [
    "### Getting the needed data from above merged dataset"
   ]
  },
  {
   "cell_type": "code",
   "execution_count": 18,
   "metadata": {
    "collapsed": false
   },
   "outputs": [],
   "source": [
    "dfWithG=dfWithG[['LOAN SEQUENCE NUMBER','MONTHLY REPORTING PERIOD','CURRENT ACTUAL UPB','CURRENT LOAN DELINQUENCY STATUS',\n",
    "              'REMAINING MONTHS TO LEGAL MATURITY','REPURCHASE FLAG','MODIFICATION FLAG',\n",
    "              'ZERO BALANCE CODE','CURRENT INTEREST RATE','CURRENT DEFERRED UPB','year','quarter',\n",
    "              'CREDIT SCORE','FIRST TIME HOMEBUYER FLAG','MORTGAGE INSURANCE PERCENTAGE','CLTV','DTI Ratio',\n",
    "              'change-current','change-chained']]"
   ]
  },
  {
   "cell_type": "markdown",
   "metadata": {},
   "source": [
    "### Saving Data in pickle object onto the hard drive"
   ]
  },
  {
   "cell_type": "code",
   "execution_count": 19,
   "metadata": {
    "collapsed": false
   },
   "outputs": [],
   "source": [
    "dfWithG.to_pickle('data/dataframe.pkl')"
   ]
  },
  {
   "cell_type": "markdown",
   "metadata": {},
   "source": [
    "### Testing the saved pickle object"
   ]
  },
  {
   "cell_type": "code",
   "execution_count": 20,
   "metadata": {
    "collapsed": false
   },
   "outputs": [
    {
     "data": {
      "text/plain": [
       "2014"
      ]
     },
     "execution_count": 20,
     "metadata": {},
     "output_type": "execute_result"
    }
   ],
   "source": [
    "dfWithG=pd.read_pickle('data/dataframe.pkl')\n",
    "dfWithG.year.max()"
   ]
  }
 ],
 "metadata": {
  "anaconda-cloud": {},
  "kernelspec": {
   "display_name": "Python [Root]",
   "language": "python",
   "name": "Python [Root]"
  },
  "language_info": {
   "codemirror_mode": {
    "name": "ipython",
    "version": 3
   },
   "file_extension": ".py",
   "mimetype": "text/x-python",
   "name": "python",
   "nbconvert_exporter": "python",
   "pygments_lexer": "ipython3",
   "version": "3.5.1"
  }
 },
 "nbformat": 4,
 "nbformat_minor": 0
}
