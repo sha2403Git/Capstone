{
 "cells": [
  {
   "cell_type": "code",
   "execution_count": 1,
   "metadata": {
    "collapsed": true
   },
   "outputs": [],
   "source": [
    " %matplotlib inline\n",
    "import pandas as pd \n",
    "import datetime as dt\n",
    "import numpy as np\n",
    "import matplotlib.pyplot as plt\n",
    "import scipy.stats as ss"
   ]
  },
  {
   "cell_type": "code",
   "execution_count": 2,
   "metadata": {
    "collapsed": false
   },
   "outputs": [],
   "source": [
    "def stringToInt(var):\n",
    "    try:\n",
    "        var = np.int16(var)\n",
    "        return var\n",
    "    except Exception:\n",
    "        if var == 'R':\n",
    "            return np.int16(300)# Setting a arbituary hight value for Forclosed home\n",
    "        else:\n",
    "            return np.int16(-1)\n",
    "\n",
    "def stringToFloat(var):\n",
    "    try:\n",
    "        var = np.float32(var)\n",
    "        return var\n",
    "    except Exception:\n",
    "        return np.float32(0)\n",
    "\n",
    "def fillFlag(var):\n",
    "    try:\n",
    "        var=np.char(var)\n",
    "        return var\n",
    "    except Exception:\n",
    "        return np.char('F')\n"
   ]
  },
  {
   "cell_type": "markdown",
   "metadata": {},
   "source": [
    "### Data file containing loan origination information for Year 2010"
   ]
  },
  {
   "cell_type": "code",
   "execution_count": 3,
   "metadata": {
    "collapsed": false
   },
   "outputs": [
    {
     "data": {
      "text/plain": [
       "261882"
      ]
     },
     "execution_count": 3,
     "metadata": {},
     "output_type": "execute_result"
    }
   ],
   "source": [
    "fields_Origin = ['CREDIT SCORE','FIRST TIME HOMEBUYER FLAG','MORTGAGE INSURANCE PERCENTAGE','CLTV','DTI Ratio',\n",
    "          'ORIGINAL UPB','ORIGINAL LTV','ORIGINAL INTEREST RATE' ,'LOAN SEQUENCE NUMBER']    #9\n",
    "fData=pd.read_csv('data/historical_data1_Q12010/historical_data1_Q12010.txt','|',index_col=None, encoding='utf-8',low_memory=False\n",
    "                 ,usecols=fields_Origin,converters={'CREDIT SCORE':stringToInt,\n",
    "                                                     'DTI Ratio':stringToFloat})\n",
    "len(fData)"
   ]
  },
  {
   "cell_type": "markdown",
   "metadata": {},
   "source": [
    "### Data file containing loan monthly data for Year 2010. "
   ]
  },
  {
   "cell_type": "code",
   "execution_count": 4,
   "metadata": {
    "collapsed": false
   },
   "outputs": [
    {
     "name": "stdout",
     "output_type": "stream",
     "text": [
      "<class 'pandas.core.frame.DataFrame'>\n",
      "Int64Index: 11511298 entries, 0 to 1297\n",
      "Data columns (total 11 columns):\n",
      "LOAN SEQUENCE NUMBER                  object\n",
      "MONTHLY REPORTING PERIOD              datetime64[ns]\n",
      "CURRENT ACTUAL UPB                    float64\n",
      "CURRENT LOAN DELINQUENCY STATUS       int64\n",
      "REMAINING MONTHS TO LEGAL MATURITY    int64\n",
      "REPURCHASE FLAG                       object\n",
      "MODIFICATION FLAG                     object\n",
      "ZERO BALANCE CODE                     object\n",
      "ZERO BALANCE EFFECTIVE DATE           object\n",
      "CURRENT INTEREST RATE                 float64\n",
      "CURRENT DEFERRED UPB                  float64\n",
      "dtypes: datetime64[ns](1), float64(3), int64(2), object(5)\n",
      "memory usage: 1.0+ GB\n"
     ]
    }
   ],
   "source": [
    "dateparse = lambda x: pd.datetime.strptime(x, '%Y%m')\n",
    "fields_Month=['LOAN SEQUENCE NUMBER','MONTHLY REPORTING PERIOD','CURRENT ACTUAL UPB','CURRENT LOAN DELINQUENCY STATUS',\n",
    "              'REMAINING MONTHS TO LEGAL MATURITY','REPURCHASE FLAG','MODIFICATION FLAG',\n",
    "              'ZERO BALANCE CODE','ZERO BALANCE EFFECTIVE DATE','CURRENT INTEREST RATE','CURRENT DEFERRED UPB']\n",
    "reader=pd.read_csv('data/historical_data1_Q12010/historical_data1_time_Q12010.txt','|',\n",
    "                   index_col=None, parse_dates=['MONTHLY REPORTING PERIOD'],\n",
    "                   date_parser=dateparse,encoding='utf-8',low_memory=False,chunksize=10000\n",
    "                  ,usecols=fields_Month,converters={'CURRENT ACTUAL UPB':stringToFloat,\n",
    "                                                    'CURRENT LOAN DELINQUENCY STATUS':stringToInt})\n",
    "\n",
    "\n",
    "#Get dataframe from chunks\n",
    "df = pd.concat(chunk for chunk in reader)\n",
    "\n",
    "#Fill missing data\n",
    "df['REPURCHASE FLAG'].fillna('F', inplace=True)\n",
    "df['MODIFICATION FLAG'].fillna('N', inplace=True)\n",
    "df['ZERO BALANCE CODE'].fillna('00', inplace=True)\n",
    "df['ZERO BALANCE EFFECTIVE DATE'].fillna('000000', inplace=True)\n",
    "\n",
    "df.info()\n",
    "\n"
   ]
  },
  {
   "cell_type": "code",
   "execution_count": 5,
   "metadata": {
    "collapsed": false
   },
   "outputs": [
    {
     "data": {
      "text/html": [
       "<div>\n",
       "<table border=\"1\" class=\"dataframe\">\n",
       "  <thead>\n",
       "    <tr style=\"text-align: right;\">\n",
       "      <th></th>\n",
       "      <th>LOAN SEQUENCE NUMBER</th>\n",
       "      <th>MONTHLY REPORTING PERIOD</th>\n",
       "      <th>CURRENT ACTUAL UPB</th>\n",
       "      <th>CURRENT LOAN DELINQUENCY STATUS</th>\n",
       "      <th>REMAINING MONTHS TO LEGAL MATURITY</th>\n",
       "      <th>REPURCHASE FLAG</th>\n",
       "      <th>MODIFICATION FLAG</th>\n",
       "      <th>ZERO BALANCE CODE</th>\n",
       "      <th>ZERO BALANCE EFFECTIVE DATE</th>\n",
       "      <th>CURRENT INTEREST RATE</th>\n",
       "      <th>CURRENT DEFERRED UPB</th>\n",
       "    </tr>\n",
       "  </thead>\n",
       "  <tbody>\n",
       "    <tr>\n",
       "      <th>0</th>\n",
       "      <td>F110Q1000001</td>\n",
       "      <td>2010-02-01</td>\n",
       "      <td>0.0</td>\n",
       "      <td>0</td>\n",
       "      <td>360</td>\n",
       "      <td>F</td>\n",
       "      <td>N</td>\n",
       "      <td>00</td>\n",
       "      <td>000000</td>\n",
       "      <td>4.875</td>\n",
       "      <td>0.0</td>\n",
       "    </tr>\n",
       "    <tr>\n",
       "      <th>1</th>\n",
       "      <td>F110Q1000001</td>\n",
       "      <td>2010-03-01</td>\n",
       "      <td>0.0</td>\n",
       "      <td>0</td>\n",
       "      <td>359</td>\n",
       "      <td>F</td>\n",
       "      <td>N</td>\n",
       "      <td>00</td>\n",
       "      <td>000000</td>\n",
       "      <td>4.875</td>\n",
       "      <td>0.0</td>\n",
       "    </tr>\n",
       "    <tr>\n",
       "      <th>2</th>\n",
       "      <td>F110Q1000001</td>\n",
       "      <td>2010-04-01</td>\n",
       "      <td>0.0</td>\n",
       "      <td>0</td>\n",
       "      <td>358</td>\n",
       "      <td>F</td>\n",
       "      <td>N</td>\n",
       "      <td>00</td>\n",
       "      <td>000000</td>\n",
       "      <td>4.875</td>\n",
       "      <td>0.0</td>\n",
       "    </tr>\n",
       "    <tr>\n",
       "      <th>3</th>\n",
       "      <td>F110Q1000001</td>\n",
       "      <td>2010-05-01</td>\n",
       "      <td>0.0</td>\n",
       "      <td>0</td>\n",
       "      <td>357</td>\n",
       "      <td>F</td>\n",
       "      <td>N</td>\n",
       "      <td>00</td>\n",
       "      <td>000000</td>\n",
       "      <td>4.875</td>\n",
       "      <td>0.0</td>\n",
       "    </tr>\n",
       "    <tr>\n",
       "      <th>4</th>\n",
       "      <td>F110Q1000001</td>\n",
       "      <td>2010-06-01</td>\n",
       "      <td>0.0</td>\n",
       "      <td>0</td>\n",
       "      <td>356</td>\n",
       "      <td>F</td>\n",
       "      <td>N</td>\n",
       "      <td>00</td>\n",
       "      <td>000000</td>\n",
       "      <td>4.875</td>\n",
       "      <td>0.0</td>\n",
       "    </tr>\n",
       "  </tbody>\n",
       "</table>\n",
       "</div>"
      ],
      "text/plain": [
       "  LOAN SEQUENCE NUMBER MONTHLY REPORTING PERIOD  CURRENT ACTUAL UPB  \\\n",
       "0         F110Q1000001               2010-02-01                 0.0   \n",
       "1         F110Q1000001               2010-03-01                 0.0   \n",
       "2         F110Q1000001               2010-04-01                 0.0   \n",
       "3         F110Q1000001               2010-05-01                 0.0   \n",
       "4         F110Q1000001               2010-06-01                 0.0   \n",
       "\n",
       "   CURRENT LOAN DELINQUENCY STATUS  REMAINING MONTHS TO LEGAL MATURITY  \\\n",
       "0                                0                                 360   \n",
       "1                                0                                 359   \n",
       "2                                0                                 358   \n",
       "3                                0                                 357   \n",
       "4                                0                                 356   \n",
       "\n",
       "  REPURCHASE FLAG MODIFICATION FLAG ZERO BALANCE CODE  \\\n",
       "0               F                 N                00   \n",
       "1               F                 N                00   \n",
       "2               F                 N                00   \n",
       "3               F                 N                00   \n",
       "4               F                 N                00   \n",
       "\n",
       "  ZERO BALANCE EFFECTIVE DATE  CURRENT INTEREST RATE  CURRENT DEFERRED UPB  \n",
       "0                      000000                  4.875                   0.0  \n",
       "1                      000000                  4.875                   0.0  \n",
       "2                      000000                  4.875                   0.0  \n",
       "3                      000000                  4.875                   0.0  \n",
       "4                      000000                  4.875                   0.0  "
      ]
     },
     "execution_count": 5,
     "metadata": {},
     "output_type": "execute_result"
    }
   ],
   "source": [
    "df.head()"
   ]
  },
  {
   "cell_type": "code",
   "execution_count": 6,
   "metadata": {
    "collapsed": false
   },
   "outputs": [
    {
     "name": "stdout",
     "output_type": "stream",
     "text": [
      "2015-12-01 00:00:00\n",
      "2010-02-01 00:00:00\n"
     ]
    }
   ],
   "source": [
    "df2=df.sort_values(by='CURRENT LOAN DELINQUENCY STATUS',ascending=False)\n",
    "print (df2['MONTHLY REPORTING PERIOD'].max())\n",
    "print (df2['MONTHLY REPORTING PERIOD'].min())"
   ]
  },
  {
   "cell_type": "code",
   "execution_count": 7,
   "metadata": {
    "collapsed": false
   },
   "outputs": [
    {
     "data": {
      "text/html": [
       "<div>\n",
       "<table border=\"1\" class=\"dataframe\">\n",
       "  <thead>\n",
       "    <tr style=\"text-align: right;\">\n",
       "      <th></th>\n",
       "      <th>LOAN SEQUENCE NUMBER</th>\n",
       "      <th>MONTHLY REPORTING PERIOD</th>\n",
       "      <th>CURRENT ACTUAL UPB</th>\n",
       "      <th>CURRENT LOAN DELINQUENCY STATUS</th>\n",
       "      <th>REMAINING MONTHS TO LEGAL MATURITY</th>\n",
       "      <th>REPURCHASE FLAG</th>\n",
       "      <th>MODIFICATION FLAG</th>\n",
       "      <th>ZERO BALANCE CODE</th>\n",
       "      <th>ZERO BALANCE EFFECTIVE DATE</th>\n",
       "      <th>CURRENT INTEREST RATE</th>\n",
       "      <th>CURRENT DEFERRED UPB</th>\n",
       "      <th>year</th>\n",
       "      <th>quarter</th>\n",
       "    </tr>\n",
       "  </thead>\n",
       "  <tbody>\n",
       "    <tr>\n",
       "      <th>0</th>\n",
       "      <td>F110Q1000001</td>\n",
       "      <td>2010-02-01</td>\n",
       "      <td>0.0</td>\n",
       "      <td>0</td>\n",
       "      <td>360</td>\n",
       "      <td>F</td>\n",
       "      <td>N</td>\n",
       "      <td>00</td>\n",
       "      <td>000000</td>\n",
       "      <td>4.875</td>\n",
       "      <td>0.0</td>\n",
       "      <td>2010</td>\n",
       "      <td>1</td>\n",
       "    </tr>\n",
       "    <tr>\n",
       "      <th>1</th>\n",
       "      <td>F110Q1000001</td>\n",
       "      <td>2010-03-01</td>\n",
       "      <td>0.0</td>\n",
       "      <td>0</td>\n",
       "      <td>359</td>\n",
       "      <td>F</td>\n",
       "      <td>N</td>\n",
       "      <td>00</td>\n",
       "      <td>000000</td>\n",
       "      <td>4.875</td>\n",
       "      <td>0.0</td>\n",
       "      <td>2010</td>\n",
       "      <td>1</td>\n",
       "    </tr>\n",
       "    <tr>\n",
       "      <th>2</th>\n",
       "      <td>F110Q1000001</td>\n",
       "      <td>2010-04-01</td>\n",
       "      <td>0.0</td>\n",
       "      <td>0</td>\n",
       "      <td>358</td>\n",
       "      <td>F</td>\n",
       "      <td>N</td>\n",
       "      <td>00</td>\n",
       "      <td>000000</td>\n",
       "      <td>4.875</td>\n",
       "      <td>0.0</td>\n",
       "      <td>2010</td>\n",
       "      <td>2</td>\n",
       "    </tr>\n",
       "    <tr>\n",
       "      <th>3</th>\n",
       "      <td>F110Q1000001</td>\n",
       "      <td>2010-05-01</td>\n",
       "      <td>0.0</td>\n",
       "      <td>0</td>\n",
       "      <td>357</td>\n",
       "      <td>F</td>\n",
       "      <td>N</td>\n",
       "      <td>00</td>\n",
       "      <td>000000</td>\n",
       "      <td>4.875</td>\n",
       "      <td>0.0</td>\n",
       "      <td>2010</td>\n",
       "      <td>2</td>\n",
       "    </tr>\n",
       "    <tr>\n",
       "      <th>4</th>\n",
       "      <td>F110Q1000001</td>\n",
       "      <td>2010-06-01</td>\n",
       "      <td>0.0</td>\n",
       "      <td>0</td>\n",
       "      <td>356</td>\n",
       "      <td>F</td>\n",
       "      <td>N</td>\n",
       "      <td>00</td>\n",
       "      <td>000000</td>\n",
       "      <td>4.875</td>\n",
       "      <td>0.0</td>\n",
       "      <td>2010</td>\n",
       "      <td>2</td>\n",
       "    </tr>\n",
       "  </tbody>\n",
       "</table>\n",
       "</div>"
      ],
      "text/plain": [
       "  LOAN SEQUENCE NUMBER MONTHLY REPORTING PERIOD  CURRENT ACTUAL UPB  \\\n",
       "0         F110Q1000001               2010-02-01                 0.0   \n",
       "1         F110Q1000001               2010-03-01                 0.0   \n",
       "2         F110Q1000001               2010-04-01                 0.0   \n",
       "3         F110Q1000001               2010-05-01                 0.0   \n",
       "4         F110Q1000001               2010-06-01                 0.0   \n",
       "\n",
       "   CURRENT LOAN DELINQUENCY STATUS  REMAINING MONTHS TO LEGAL MATURITY  \\\n",
       "0                                0                                 360   \n",
       "1                                0                                 359   \n",
       "2                                0                                 358   \n",
       "3                                0                                 357   \n",
       "4                                0                                 356   \n",
       "\n",
       "  REPURCHASE FLAG MODIFICATION FLAG ZERO BALANCE CODE  \\\n",
       "0               F                 N                00   \n",
       "1               F                 N                00   \n",
       "2               F                 N                00   \n",
       "3               F                 N                00   \n",
       "4               F                 N                00   \n",
       "\n",
       "  ZERO BALANCE EFFECTIVE DATE  CURRENT INTEREST RATE  CURRENT DEFERRED UPB  \\\n",
       "0                      000000                  4.875                   0.0   \n",
       "1                      000000                  4.875                   0.0   \n",
       "2                      000000                  4.875                   0.0   \n",
       "3                      000000                  4.875                   0.0   \n",
       "4                      000000                  4.875                   0.0   \n",
       "\n",
       "   year  quarter  \n",
       "0  2010        1  \n",
       "1  2010        1  \n",
       "2  2010        2  \n",
       "3  2010        2  \n",
       "4  2010        2  "
      ]
     },
     "execution_count": 7,
     "metadata": {},
     "output_type": "execute_result"
    }
   ],
   "source": [
    "#Calculate two new columns \n",
    "df['year']=df['MONTHLY REPORTING PERIOD'].dt.year\n",
    "df['quarter']=df['MONTHLY REPORTING PERIOD'].dt.quarter\n",
    "df.head()"
   ]
  },
  {
   "cell_type": "markdown",
   "metadata": {},
   "source": [
    "#### Removing Loan data with no credit score"
   ]
  },
  {
   "cell_type": "code",
   "execution_count": 8,
   "metadata": {
    "collapsed": false
   },
   "outputs": [
    {
     "name": "stdout",
     "output_type": "stream",
     "text": [
      "261882\n",
      "261871\n"
     ]
    }
   ],
   "source": [
    "print (len(fData))\n",
    "fDataClean=fData[fData['CREDIT SCORE']>0]\n",
    "print (len(fDataClean))"
   ]
  },
  {
   "cell_type": "markdown",
   "metadata": {},
   "source": [
    "#### Removing invalid data (Missing CURRENT LOAN DELINQUENCY STATUS) and Forclosed data out."
   ]
  },
  {
   "cell_type": "code",
   "execution_count": 9,
   "metadata": {
    "collapsed": false
   },
   "outputs": [
    {
     "name": "stdout",
     "output_type": "stream",
     "text": [
      "11511298\n",
      "11511297\n",
      "11510224\n"
     ]
    }
   ],
   "source": [
    "print (len(df))\n",
    "dfClean=df[df['CURRENT LOAN DELINQUENCY STATUS'] >-1]\n",
    "print (len(dfClean))\n",
    "dfClean=dfClean[dfClean['CURRENT LOAN DELINQUENCY STATUS'] <300]\n",
    "print (len(dfClean))"
   ]
  },
  {
   "cell_type": "markdown",
   "metadata": {},
   "source": [
    "### Merging  Loan Origination with Monthly datasets "
   ]
  },
  {
   "cell_type": "code",
   "execution_count": 10,
   "metadata": {
    "collapsed": false
   },
   "outputs": [
    {
     "name": "stdout",
     "output_type": "stream",
     "text": [
      "11509676\n"
     ]
    }
   ],
   "source": [
    "\n",
    "dfMonthly = pd.merge(dfClean,fDataClean,on='LOAN SEQUENCE NUMBER')\n",
    "dfMonthly.head()\n",
    "print (len(dfMonthly))"
   ]
  },
  {
   "cell_type": "markdown",
   "metadata": {},
   "source": [
    "### Slicing and peeking into dataset"
   ]
  },
  {
   "cell_type": "code",
   "execution_count": 11,
   "metadata": {
    "collapsed": false
   },
   "outputs": [
    {
     "data": {
      "text/html": [
       "<div>\n",
       "<table border=\"1\" class=\"dataframe\">\n",
       "  <thead>\n",
       "    <tr style=\"text-align: right;\">\n",
       "      <th></th>\n",
       "      <th>LOAN SEQUENCE NUMBER</th>\n",
       "      <th>CREDIT SCORE</th>\n",
       "      <th>CURRENT LOAN DELINQUENCY STATUS</th>\n",
       "    </tr>\n",
       "  </thead>\n",
       "  <tbody>\n",
       "    <tr>\n",
       "      <th>0</th>\n",
       "      <td>F110Q1000001</td>\n",
       "      <td>777</td>\n",
       "      <td>0</td>\n",
       "    </tr>\n",
       "    <tr>\n",
       "      <th>1</th>\n",
       "      <td>F110Q1000001</td>\n",
       "      <td>777</td>\n",
       "      <td>0</td>\n",
       "    </tr>\n",
       "    <tr>\n",
       "      <th>2</th>\n",
       "      <td>F110Q1000001</td>\n",
       "      <td>777</td>\n",
       "      <td>0</td>\n",
       "    </tr>\n",
       "    <tr>\n",
       "      <th>3</th>\n",
       "      <td>F110Q1000001</td>\n",
       "      <td>777</td>\n",
       "      <td>0</td>\n",
       "    </tr>\n",
       "    <tr>\n",
       "      <th>4</th>\n",
       "      <td>F110Q1000001</td>\n",
       "      <td>777</td>\n",
       "      <td>0</td>\n",
       "    </tr>\n",
       "    <tr>\n",
       "      <th>5</th>\n",
       "      <td>F110Q1000001</td>\n",
       "      <td>777</td>\n",
       "      <td>0</td>\n",
       "    </tr>\n",
       "    <tr>\n",
       "      <th>6</th>\n",
       "      <td>F110Q1000001</td>\n",
       "      <td>777</td>\n",
       "      <td>0</td>\n",
       "    </tr>\n",
       "    <tr>\n",
       "      <th>7</th>\n",
       "      <td>F110Q1000001</td>\n",
       "      <td>777</td>\n",
       "      <td>0</td>\n",
       "    </tr>\n",
       "    <tr>\n",
       "      <th>8</th>\n",
       "      <td>F110Q1000001</td>\n",
       "      <td>777</td>\n",
       "      <td>0</td>\n",
       "    </tr>\n",
       "    <tr>\n",
       "      <th>9</th>\n",
       "      <td>F110Q1000002</td>\n",
       "      <td>801</td>\n",
       "      <td>0</td>\n",
       "    </tr>\n",
       "    <tr>\n",
       "      <th>10</th>\n",
       "      <td>F110Q1000002</td>\n",
       "      <td>801</td>\n",
       "      <td>0</td>\n",
       "    </tr>\n",
       "    <tr>\n",
       "      <th>11</th>\n",
       "      <td>F110Q1000002</td>\n",
       "      <td>801</td>\n",
       "      <td>0</td>\n",
       "    </tr>\n",
       "    <tr>\n",
       "      <th>12</th>\n",
       "      <td>F110Q1000002</td>\n",
       "      <td>801</td>\n",
       "      <td>0</td>\n",
       "    </tr>\n",
       "    <tr>\n",
       "      <th>13</th>\n",
       "      <td>F110Q1000002</td>\n",
       "      <td>801</td>\n",
       "      <td>0</td>\n",
       "    </tr>\n",
       "    <tr>\n",
       "      <th>14</th>\n",
       "      <td>F110Q1000002</td>\n",
       "      <td>801</td>\n",
       "      <td>0</td>\n",
       "    </tr>\n",
       "    <tr>\n",
       "      <th>15</th>\n",
       "      <td>F110Q1000002</td>\n",
       "      <td>801</td>\n",
       "      <td>0</td>\n",
       "    </tr>\n",
       "    <tr>\n",
       "      <th>16</th>\n",
       "      <td>F110Q1000002</td>\n",
       "      <td>801</td>\n",
       "      <td>0</td>\n",
       "    </tr>\n",
       "    <tr>\n",
       "      <th>17</th>\n",
       "      <td>F110Q1000002</td>\n",
       "      <td>801</td>\n",
       "      <td>0</td>\n",
       "    </tr>\n",
       "    <tr>\n",
       "      <th>18</th>\n",
       "      <td>F110Q1000002</td>\n",
       "      <td>801</td>\n",
       "      <td>0</td>\n",
       "    </tr>\n",
       "    <tr>\n",
       "      <th>19</th>\n",
       "      <td>F110Q1000002</td>\n",
       "      <td>801</td>\n",
       "      <td>0</td>\n",
       "    </tr>\n",
       "  </tbody>\n",
       "</table>\n",
       "</div>"
      ],
      "text/plain": [
       "   LOAN SEQUENCE NUMBER  CREDIT SCORE  CURRENT LOAN DELINQUENCY STATUS\n",
       "0          F110Q1000001           777                                0\n",
       "1          F110Q1000001           777                                0\n",
       "2          F110Q1000001           777                                0\n",
       "3          F110Q1000001           777                                0\n",
       "4          F110Q1000001           777                                0\n",
       "5          F110Q1000001           777                                0\n",
       "6          F110Q1000001           777                                0\n",
       "7          F110Q1000001           777                                0\n",
       "8          F110Q1000001           777                                0\n",
       "9          F110Q1000002           801                                0\n",
       "10         F110Q1000002           801                                0\n",
       "11         F110Q1000002           801                                0\n",
       "12         F110Q1000002           801                                0\n",
       "13         F110Q1000002           801                                0\n",
       "14         F110Q1000002           801                                0\n",
       "15         F110Q1000002           801                                0\n",
       "16         F110Q1000002           801                                0\n",
       "17         F110Q1000002           801                                0\n",
       "18         F110Q1000002           801                                0\n",
       "19         F110Q1000002           801                                0"
      ]
     },
     "execution_count": 11,
     "metadata": {},
     "output_type": "execute_result"
    }
   ],
   "source": [
    "df1=dfMonthly[['LOAN SEQUENCE NUMBER','CREDIT SCORE','CURRENT LOAN DELINQUENCY STATUS']]\n",
    "df1.head(20)"
   ]
  },
  {
   "cell_type": "markdown",
   "metadata": {},
   "source": [
    "### Understanding key values"
   ]
  },
  {
   "cell_type": "code",
   "execution_count": 12,
   "metadata": {
    "collapsed": false
   },
   "outputs": [
    {
     "data": {
      "text/html": [
       "<div>\n",
       "<table border=\"1\" class=\"dataframe\">\n",
       "  <thead>\n",
       "    <tr style=\"text-align: right;\">\n",
       "      <th></th>\n",
       "      <th>LOAN SEQUENCE NUMBER</th>\n",
       "      <th>CREDIT SCORE</th>\n",
       "      <th>CURRENT LOAN DELINQUENCY STATUS</th>\n",
       "    </tr>\n",
       "  </thead>\n",
       "  <tbody>\n",
       "    <tr>\n",
       "      <th>2488261</th>\n",
       "      <td>F110Q1055758</td>\n",
       "      <td>699</td>\n",
       "      <td>129</td>\n",
       "    </tr>\n",
       "    <tr>\n",
       "      <th>5588304</th>\n",
       "      <td>F110Q1128148</td>\n",
       "      <td>672</td>\n",
       "      <td>121</td>\n",
       "    </tr>\n",
       "    <tr>\n",
       "      <th>1369239</th>\n",
       "      <td>F110Q1030453</td>\n",
       "      <td>778</td>\n",
       "      <td>69</td>\n",
       "    </tr>\n",
       "    <tr>\n",
       "      <th>1369238</th>\n",
       "      <td>F110Q1030453</td>\n",
       "      <td>778</td>\n",
       "      <td>68</td>\n",
       "    </tr>\n",
       "    <tr>\n",
       "      <th>1369237</th>\n",
       "      <td>F110Q1030453</td>\n",
       "      <td>778</td>\n",
       "      <td>67</td>\n",
       "    </tr>\n",
       "    <tr>\n",
       "      <th>1369236</th>\n",
       "      <td>F110Q1030453</td>\n",
       "      <td>778</td>\n",
       "      <td>66</td>\n",
       "    </tr>\n",
       "    <tr>\n",
       "      <th>1369235</th>\n",
       "      <td>F110Q1030453</td>\n",
       "      <td>778</td>\n",
       "      <td>65</td>\n",
       "    </tr>\n",
       "    <tr>\n",
       "      <th>1369234</th>\n",
       "      <td>F110Q1030453</td>\n",
       "      <td>778</td>\n",
       "      <td>64</td>\n",
       "    </tr>\n",
       "    <tr>\n",
       "      <th>3623820</th>\n",
       "      <td>F110Q1081641</td>\n",
       "      <td>729</td>\n",
       "      <td>64</td>\n",
       "    </tr>\n",
       "    <tr>\n",
       "      <th>3531602</th>\n",
       "      <td>F110Q1079562</td>\n",
       "      <td>690</td>\n",
       "      <td>63</td>\n",
       "    </tr>\n",
       "    <tr>\n",
       "      <th>2548039</th>\n",
       "      <td>F110Q1057173</td>\n",
       "      <td>726</td>\n",
       "      <td>63</td>\n",
       "    </tr>\n",
       "    <tr>\n",
       "      <th>998302</th>\n",
       "      <td>F110Q1022345</td>\n",
       "      <td>725</td>\n",
       "      <td>63</td>\n",
       "    </tr>\n",
       "    <tr>\n",
       "      <th>3623819</th>\n",
       "      <td>F110Q1081641</td>\n",
       "      <td>729</td>\n",
       "      <td>63</td>\n",
       "    </tr>\n",
       "    <tr>\n",
       "      <th>1369233</th>\n",
       "      <td>F110Q1030453</td>\n",
       "      <td>778</td>\n",
       "      <td>63</td>\n",
       "    </tr>\n",
       "    <tr>\n",
       "      <th>3531601</th>\n",
       "      <td>F110Q1079562</td>\n",
       "      <td>690</td>\n",
       "      <td>62</td>\n",
       "    </tr>\n",
       "    <tr>\n",
       "      <th>1369232</th>\n",
       "      <td>F110Q1030453</td>\n",
       "      <td>778</td>\n",
       "      <td>62</td>\n",
       "    </tr>\n",
       "    <tr>\n",
       "      <th>3623818</th>\n",
       "      <td>F110Q1081641</td>\n",
       "      <td>729</td>\n",
       "      <td>62</td>\n",
       "    </tr>\n",
       "    <tr>\n",
       "      <th>2548038</th>\n",
       "      <td>F110Q1057173</td>\n",
       "      <td>726</td>\n",
       "      <td>62</td>\n",
       "    </tr>\n",
       "    <tr>\n",
       "      <th>998301</th>\n",
       "      <td>F110Q1022345</td>\n",
       "      <td>725</td>\n",
       "      <td>62</td>\n",
       "    </tr>\n",
       "    <tr>\n",
       "      <th>3531600</th>\n",
       "      <td>F110Q1079562</td>\n",
       "      <td>690</td>\n",
       "      <td>61</td>\n",
       "    </tr>\n",
       "  </tbody>\n",
       "</table>\n",
       "</div>"
      ],
      "text/plain": [
       "        LOAN SEQUENCE NUMBER  CREDIT SCORE  CURRENT LOAN DELINQUENCY STATUS\n",
       "2488261         F110Q1055758           699                              129\n",
       "5588304         F110Q1128148           672                              121\n",
       "1369239         F110Q1030453           778                               69\n",
       "1369238         F110Q1030453           778                               68\n",
       "1369237         F110Q1030453           778                               67\n",
       "1369236         F110Q1030453           778                               66\n",
       "1369235         F110Q1030453           778                               65\n",
       "1369234         F110Q1030453           778                               64\n",
       "3623820         F110Q1081641           729                               64\n",
       "3531602         F110Q1079562           690                               63\n",
       "2548039         F110Q1057173           726                               63\n",
       "998302          F110Q1022345           725                               63\n",
       "3623819         F110Q1081641           729                               63\n",
       "1369233         F110Q1030453           778                               63\n",
       "3531601         F110Q1079562           690                               62\n",
       "1369232         F110Q1030453           778                               62\n",
       "3623818         F110Q1081641           729                               62\n",
       "2548038         F110Q1057173           726                               62\n",
       "998301          F110Q1022345           725                               62\n",
       "3531600         F110Q1079562           690                               61"
      ]
     },
     "execution_count": 12,
     "metadata": {},
     "output_type": "execute_result"
    }
   ],
   "source": [
    "df2=df1.sort_values(by='CURRENT LOAN DELINQUENCY STATUS',ascending=False)\n",
    "df2.head(20)"
   ]
  },
  {
   "cell_type": "markdown",
   "metadata": {},
   "source": [
    "### Grouping data for each loan.  Total number of unique loans"
   ]
  },
  {
   "cell_type": "code",
   "execution_count": 13,
   "metadata": {
    "collapsed": false
   },
   "outputs": [
    {
     "data": {
      "text/plain": [
       "261860"
      ]
     },
     "execution_count": 13,
     "metadata": {},
     "output_type": "execute_result"
    }
   ],
   "source": [
    "df2=df1.groupby('LOAN SEQUENCE NUMBER').max()\n",
    "df3=df2.reset_index()\n",
    "df3.head()\n",
    "\n",
    "len(df3)"
   ]
  },
  {
   "cell_type": "markdown",
   "metadata": {},
   "source": [
    "### Total of non performing loan"
   ]
  },
  {
   "cell_type": "code",
   "execution_count": 14,
   "metadata": {
    "collapsed": false
   },
   "outputs": [
    {
     "data": {
      "text/plain": [
       "17131"
      ]
     },
     "execution_count": 14,
     "metadata": {},
     "output_type": "execute_result"
    }
   ],
   "source": [
    "df4= df3[df3['CURRENT LOAN DELINQUENCY STATUS']>0]\n",
    "len(df4)"
   ]
  },
  {
   "cell_type": "markdown",
   "metadata": {},
   "source": [
    "### Monthly GDP data from Labour Department"
   ]
  },
  {
   "cell_type": "code",
   "execution_count": 15,
   "metadata": {
    "collapsed": false
   },
   "outputs": [
    {
     "data": {
      "text/html": [
       "<div>\n",
       "<table border=\"1\" class=\"dataframe\">\n",
       "  <thead>\n",
       "    <tr style=\"text-align: right;\">\n",
       "      <th></th>\n",
       "      <th>date</th>\n",
       "      <th>change-current</th>\n",
       "      <th>change-chained</th>\n",
       "      <th>year</th>\n",
       "      <th>quarter</th>\n",
       "    </tr>\n",
       "  </thead>\n",
       "  <tbody>\n",
       "    <tr>\n",
       "      <th>251</th>\n",
       "      <td>2010-01-01</td>\n",
       "      <td>3.0</td>\n",
       "      <td>1.6</td>\n",
       "      <td>2010</td>\n",
       "      <td>1</td>\n",
       "    </tr>\n",
       "    <tr>\n",
       "      <th>252</th>\n",
       "      <td>2010-04-01</td>\n",
       "      <td>5.8</td>\n",
       "      <td>3.9</td>\n",
       "      <td>2010</td>\n",
       "      <td>2</td>\n",
       "    </tr>\n",
       "    <tr>\n",
       "      <th>253</th>\n",
       "      <td>2010-07-01</td>\n",
       "      <td>4.7</td>\n",
       "      <td>2.8</td>\n",
       "      <td>2010</td>\n",
       "      <td>3</td>\n",
       "    </tr>\n",
       "    <tr>\n",
       "      <th>254</th>\n",
       "      <td>2010-10-01</td>\n",
       "      <td>4.9</td>\n",
       "      <td>2.8</td>\n",
       "      <td>2010</td>\n",
       "      <td>4</td>\n",
       "    </tr>\n",
       "    <tr>\n",
       "      <th>255</th>\n",
       "      <td>2011-01-01</td>\n",
       "      <td>0.3</td>\n",
       "      <td>-1.3</td>\n",
       "      <td>2011</td>\n",
       "      <td>1</td>\n",
       "    </tr>\n",
       "    <tr>\n",
       "      <th>256</th>\n",
       "      <td>2011-04-01</td>\n",
       "      <td>5.9</td>\n",
       "      <td>3.2</td>\n",
       "      <td>2011</td>\n",
       "      <td>2</td>\n",
       "    </tr>\n",
       "    <tr>\n",
       "      <th>257</th>\n",
       "      <td>2011-07-01</td>\n",
       "      <td>3.9</td>\n",
       "      <td>1.4</td>\n",
       "      <td>2011</td>\n",
       "      <td>3</td>\n",
       "    </tr>\n",
       "    <tr>\n",
       "      <th>258</th>\n",
       "      <td>2011-10-01</td>\n",
       "      <td>5.4</td>\n",
       "      <td>4.9</td>\n",
       "      <td>2011</td>\n",
       "      <td>4</td>\n",
       "    </tr>\n",
       "    <tr>\n",
       "      <th>259</th>\n",
       "      <td>2012-01-01</td>\n",
       "      <td>5.8</td>\n",
       "      <td>3.7</td>\n",
       "      <td>2012</td>\n",
       "      <td>1</td>\n",
       "    </tr>\n",
       "    <tr>\n",
       "      <th>260</th>\n",
       "      <td>2012-04-01</td>\n",
       "      <td>3.0</td>\n",
       "      <td>1.2</td>\n",
       "      <td>2012</td>\n",
       "      <td>2</td>\n",
       "    </tr>\n",
       "    <tr>\n",
       "      <th>261</th>\n",
       "      <td>2012-07-01</td>\n",
       "      <td>4.9</td>\n",
       "      <td>2.8</td>\n",
       "      <td>2012</td>\n",
       "      <td>3</td>\n",
       "    </tr>\n",
       "    <tr>\n",
       "      <th>262</th>\n",
       "      <td>2012-10-01</td>\n",
       "      <td>1.6</td>\n",
       "      <td>0.1</td>\n",
       "      <td>2012</td>\n",
       "      <td>4</td>\n",
       "    </tr>\n",
       "    <tr>\n",
       "      <th>263</th>\n",
       "      <td>2013-01-01</td>\n",
       "      <td>2.8</td>\n",
       "      <td>1.1</td>\n",
       "      <td>2013</td>\n",
       "      <td>1</td>\n",
       "    </tr>\n",
       "    <tr>\n",
       "      <th>264</th>\n",
       "      <td>2013-04-01</td>\n",
       "      <td>3.1</td>\n",
       "      <td>2.5</td>\n",
       "      <td>2013</td>\n",
       "      <td>2</td>\n",
       "    </tr>\n",
       "    <tr>\n",
       "      <th>265</th>\n",
       "      <td>2013-07-01</td>\n",
       "      <td>6.2</td>\n",
       "      <td>4.1</td>\n",
       "      <td>2013</td>\n",
       "      <td>3</td>\n",
       "    </tr>\n",
       "    <tr>\n",
       "      <th>266</th>\n",
       "      <td>2013-10-01</td>\n",
       "      <td>4.2</td>\n",
       "      <td>2.6</td>\n",
       "      <td>2013</td>\n",
       "      <td>4</td>\n",
       "    </tr>\n",
       "    <tr>\n",
       "      <th>267</th>\n",
       "      <td>2014-01-01</td>\n",
       "      <td>1.4</td>\n",
       "      <td>0.1</td>\n",
       "      <td>2014</td>\n",
       "      <td>1</td>\n",
       "    </tr>\n",
       "  </tbody>\n",
       "</table>\n",
       "</div>"
      ],
      "text/plain": [
       "          date  change-current  change-chained  year  quarter\n",
       "251 2010-01-01             3.0             1.6  2010        1\n",
       "252 2010-04-01             5.8             3.9  2010        2\n",
       "253 2010-07-01             4.7             2.8  2010        3\n",
       "254 2010-10-01             4.9             2.8  2010        4\n",
       "255 2011-01-01             0.3            -1.3  2011        1\n",
       "256 2011-04-01             5.9             3.2  2011        2\n",
       "257 2011-07-01             3.9             1.4  2011        3\n",
       "258 2011-10-01             5.4             4.9  2011        4\n",
       "259 2012-01-01             5.8             3.7  2012        1\n",
       "260 2012-04-01             3.0             1.2  2012        2\n",
       "261 2012-07-01             4.9             2.8  2012        3\n",
       "262 2012-10-01             1.6             0.1  2012        4\n",
       "263 2013-01-01             2.8             1.1  2013        1\n",
       "264 2013-04-01             3.1             2.5  2013        2\n",
       "265 2013-07-01             6.2             4.1  2013        3\n",
       "266 2013-10-01             4.2             2.6  2013        4\n",
       "267 2014-01-01             1.4             0.1  2014        1"
      ]
     },
     "execution_count": 15,
     "metadata": {},
     "output_type": "execute_result"
    }
   ],
   "source": [
    "dateparse2 = lambda x: pd.datetime.strptime(x, '%Y-%m-%d')\n",
    "fields_gdp=['date','change-current','change-chained']\n",
    "gdpData= pd.read_csv('data/gdp-quarter.csv',',', parse_dates=['date'],date_parser=dateparse2,usecols=fields_gdp)\n",
    "gdpData=gdpData[(gdpData.date > np.datetime64('2009-12-30')) & (gdpData.date < np.datetime64('2016-01-01'))]\n",
    "gdpData['year']=gdpData['date'].dt.year\n",
    "gdpData['quarter']=gdpData['date'].dt.quarter\n",
    "gdpData"
   ]
  },
  {
   "cell_type": "markdown",
   "metadata": {},
   "source": [
    "### Merging the values with above dfMonthly dataset"
   ]
  },
  {
   "cell_type": "code",
   "execution_count": 16,
   "metadata": {
    "collapsed": false
   },
   "outputs": [],
   "source": [
    "dfWithG=pd.merge(dfMonthly,gdpData,on=['year','quarter'])\n"
   ]
  },
  {
   "cell_type": "code",
   "execution_count": 17,
   "metadata": {
    "collapsed": false
   },
   "outputs": [
    {
     "name": "stdout",
     "output_type": "stream",
     "text": [
      "<class 'pandas.core.frame.DataFrame'>\n",
      "Int64Index: 9417927 entries, 0 to 9417926\n",
      "Data columns (total 24 columns):\n",
      "LOAN SEQUENCE NUMBER                  object\n",
      "MONTHLY REPORTING PERIOD              datetime64[ns]\n",
      "CURRENT ACTUAL UPB                    float64\n",
      "CURRENT LOAN DELINQUENCY STATUS       int64\n",
      "REMAINING MONTHS TO LEGAL MATURITY    int64\n",
      "REPURCHASE FLAG                       object\n",
      "MODIFICATION FLAG                     object\n",
      "ZERO BALANCE CODE                     object\n",
      "ZERO BALANCE EFFECTIVE DATE           object\n",
      "CURRENT INTEREST RATE                 float64\n",
      "CURRENT DEFERRED UPB                  float64\n",
      "year                                  int64\n",
      "quarter                               int64\n",
      "CREDIT SCORE                          int64\n",
      "FIRST TIME HOMEBUYER FLAG             object\n",
      "MORTGAGE INSURANCE PERCENTAGE         object\n",
      "CLTV                                  float64\n",
      "DTI Ratio                             float64\n",
      "ORIGINAL UPB                          int64\n",
      "ORIGINAL LTV                          float64\n",
      "ORIGINAL INTEREST RATE                float64\n",
      "date                                  datetime64[ns]\n",
      "change-current                        float64\n",
      "change-chained                        float64\n",
      "dtypes: datetime64[ns](2), float64(9), int64(6), object(7)\n",
      "memory usage: 1.8+ GB\n"
     ]
    }
   ],
   "source": [
    "dfWithG.info()"
   ]
  },
  {
   "cell_type": "markdown",
   "metadata": {},
   "source": [
    "### Getting the needed data from above merged dataset"
   ]
  },
  {
   "cell_type": "code",
   "execution_count": 18,
   "metadata": {
    "collapsed": false
   },
   "outputs": [],
   "source": [
    "dfWithG=dfWithG[['LOAN SEQUENCE NUMBER','MONTHLY REPORTING PERIOD','CURRENT ACTUAL UPB','CURRENT LOAN DELINQUENCY STATUS',\n",
    "              'REMAINING MONTHS TO LEGAL MATURITY','REPURCHASE FLAG','MODIFICATION FLAG',\n",
    "              'ZERO BALANCE CODE','CURRENT INTEREST RATE','CURRENT DEFERRED UPB','year','quarter',\n",
    "              'CREDIT SCORE','FIRST TIME HOMEBUYER FLAG','MORTGAGE INSURANCE PERCENTAGE','CLTV','DTI Ratio',\n",
    "              'change-current','change-chained']]"
   ]
  },
  {
   "cell_type": "markdown",
   "metadata": {},
   "source": [
    "### Saving Data in pickle object onto the hard drive"
   ]
  },
  {
   "cell_type": "code",
   "execution_count": 19,
   "metadata": {
    "collapsed": false
   },
   "outputs": [],
   "source": [
    "dfWithG.to_pickle('data/dataframe.pkl')"
   ]
  },
  {
   "cell_type": "markdown",
   "metadata": {},
   "source": [
    "### Testing the saved pickle object"
   ]
  },
  {
   "cell_type": "code",
   "execution_count": 20,
   "metadata": {
    "collapsed": false
   },
   "outputs": [
    {
     "data": {
      "text/html": [
       "<div>\n",
       "<table border=\"1\" class=\"dataframe\">\n",
       "  <thead>\n",
       "    <tr style=\"text-align: right;\">\n",
       "      <th></th>\n",
       "      <th>LOAN SEQUENCE NUMBER</th>\n",
       "      <th>MONTHLY REPORTING PERIOD</th>\n",
       "      <th>CURRENT ACTUAL UPB</th>\n",
       "      <th>CURRENT LOAN DELINQUENCY STATUS</th>\n",
       "      <th>REMAINING MONTHS TO LEGAL MATURITY</th>\n",
       "      <th>REPURCHASE FLAG</th>\n",
       "      <th>MODIFICATION FLAG</th>\n",
       "      <th>ZERO BALANCE CODE</th>\n",
       "      <th>CURRENT INTEREST RATE</th>\n",
       "      <th>CURRENT DEFERRED UPB</th>\n",
       "      <th>year</th>\n",
       "      <th>quarter</th>\n",
       "      <th>CREDIT SCORE</th>\n",
       "      <th>FIRST TIME HOMEBUYER FLAG</th>\n",
       "      <th>MORTGAGE INSURANCE PERCENTAGE</th>\n",
       "      <th>CLTV</th>\n",
       "      <th>DTI Ratio</th>\n",
       "      <th>change-current</th>\n",
       "      <th>change-chained</th>\n",
       "    </tr>\n",
       "  </thead>\n",
       "  <tbody>\n",
       "    <tr>\n",
       "      <th>0</th>\n",
       "      <td>F110Q1000001</td>\n",
       "      <td>2010-02-01</td>\n",
       "      <td>0.0</td>\n",
       "      <td>0</td>\n",
       "      <td>360</td>\n",
       "      <td>F</td>\n",
       "      <td>N</td>\n",
       "      <td>00</td>\n",
       "      <td>4.875</td>\n",
       "      <td>0.0</td>\n",
       "      <td>2010</td>\n",
       "      <td>1</td>\n",
       "      <td>777</td>\n",
       "      <td>N</td>\n",
       "      <td>000</td>\n",
       "      <td>43.0</td>\n",
       "      <td>26.0</td>\n",
       "      <td>3.0</td>\n",
       "      <td>1.6</td>\n",
       "    </tr>\n",
       "    <tr>\n",
       "      <th>1</th>\n",
       "      <td>F110Q1000001</td>\n",
       "      <td>2010-03-01</td>\n",
       "      <td>0.0</td>\n",
       "      <td>0</td>\n",
       "      <td>359</td>\n",
       "      <td>F</td>\n",
       "      <td>N</td>\n",
       "      <td>00</td>\n",
       "      <td>4.875</td>\n",
       "      <td>0.0</td>\n",
       "      <td>2010</td>\n",
       "      <td>1</td>\n",
       "      <td>777</td>\n",
       "      <td>N</td>\n",
       "      <td>000</td>\n",
       "      <td>43.0</td>\n",
       "      <td>26.0</td>\n",
       "      <td>3.0</td>\n",
       "      <td>1.6</td>\n",
       "    </tr>\n",
       "    <tr>\n",
       "      <th>2</th>\n",
       "      <td>F110Q1000003</td>\n",
       "      <td>2010-02-01</td>\n",
       "      <td>0.0</td>\n",
       "      <td>0</td>\n",
       "      <td>360</td>\n",
       "      <td>F</td>\n",
       "      <td>N</td>\n",
       "      <td>00</td>\n",
       "      <td>4.875</td>\n",
       "      <td>0.0</td>\n",
       "      <td>2010</td>\n",
       "      <td>1</td>\n",
       "      <td>727</td>\n",
       "      <td>N</td>\n",
       "      <td>000</td>\n",
       "      <td>61.0</td>\n",
       "      <td>26.0</td>\n",
       "      <td>3.0</td>\n",
       "      <td>1.6</td>\n",
       "    </tr>\n",
       "    <tr>\n",
       "      <th>3</th>\n",
       "      <td>F110Q1000003</td>\n",
       "      <td>2010-03-01</td>\n",
       "      <td>0.0</td>\n",
       "      <td>0</td>\n",
       "      <td>359</td>\n",
       "      <td>F</td>\n",
       "      <td>N</td>\n",
       "      <td>00</td>\n",
       "      <td>4.875</td>\n",
       "      <td>0.0</td>\n",
       "      <td>2010</td>\n",
       "      <td>1</td>\n",
       "      <td>727</td>\n",
       "      <td>N</td>\n",
       "      <td>000</td>\n",
       "      <td>61.0</td>\n",
       "      <td>26.0</td>\n",
       "      <td>3.0</td>\n",
       "      <td>1.6</td>\n",
       "    </tr>\n",
       "    <tr>\n",
       "      <th>4</th>\n",
       "      <td>F110Q1000004</td>\n",
       "      <td>2010-03-01</td>\n",
       "      <td>0.0</td>\n",
       "      <td>0</td>\n",
       "      <td>360</td>\n",
       "      <td>F</td>\n",
       "      <td>N</td>\n",
       "      <td>00</td>\n",
       "      <td>4.875</td>\n",
       "      <td>0.0</td>\n",
       "      <td>2010</td>\n",
       "      <td>1</td>\n",
       "      <td>794</td>\n",
       "      <td>N</td>\n",
       "      <td>000</td>\n",
       "      <td>58.0</td>\n",
       "      <td>31.0</td>\n",
       "      <td>3.0</td>\n",
       "      <td>1.6</td>\n",
       "    </tr>\n",
       "  </tbody>\n",
       "</table>\n",
       "</div>"
      ],
      "text/plain": [
       "  LOAN SEQUENCE NUMBER MONTHLY REPORTING PERIOD  CURRENT ACTUAL UPB  \\\n",
       "0         F110Q1000001               2010-02-01                 0.0   \n",
       "1         F110Q1000001               2010-03-01                 0.0   \n",
       "2         F110Q1000003               2010-02-01                 0.0   \n",
       "3         F110Q1000003               2010-03-01                 0.0   \n",
       "4         F110Q1000004               2010-03-01                 0.0   \n",
       "\n",
       "   CURRENT LOAN DELINQUENCY STATUS  REMAINING MONTHS TO LEGAL MATURITY  \\\n",
       "0                                0                                 360   \n",
       "1                                0                                 359   \n",
       "2                                0                                 360   \n",
       "3                                0                                 359   \n",
       "4                                0                                 360   \n",
       "\n",
       "  REPURCHASE FLAG MODIFICATION FLAG ZERO BALANCE CODE  CURRENT INTEREST RATE  \\\n",
       "0               F                 N                00                  4.875   \n",
       "1               F                 N                00                  4.875   \n",
       "2               F                 N                00                  4.875   \n",
       "3               F                 N                00                  4.875   \n",
       "4               F                 N                00                  4.875   \n",
       "\n",
       "   CURRENT DEFERRED UPB  year  quarter  CREDIT SCORE  \\\n",
       "0                   0.0  2010        1           777   \n",
       "1                   0.0  2010        1           777   \n",
       "2                   0.0  2010        1           727   \n",
       "3                   0.0  2010        1           727   \n",
       "4                   0.0  2010        1           794   \n",
       "\n",
       "  FIRST TIME HOMEBUYER FLAG MORTGAGE INSURANCE PERCENTAGE  CLTV  DTI Ratio  \\\n",
       "0                         N                           000  43.0       26.0   \n",
       "1                         N                           000  43.0       26.0   \n",
       "2                         N                           000  61.0       26.0   \n",
       "3                         N                           000  61.0       26.0   \n",
       "4                         N                           000  58.0       31.0   \n",
       "\n",
       "   change-current  change-chained  \n",
       "0             3.0             1.6  \n",
       "1             3.0             1.6  \n",
       "2             3.0             1.6  \n",
       "3             3.0             1.6  \n",
       "4             3.0             1.6  "
      ]
     },
     "execution_count": 20,
     "metadata": {},
     "output_type": "execute_result"
    }
   ],
   "source": [
    "dfWithG=pd.read_pickle('data/dataframe.pkl')\n",
    "dfWithG.head()"
   ]
  }
 ],
 "metadata": {
  "anaconda-cloud": {},
  "kernelspec": {
   "display_name": "Python [Root]",
   "language": "python",
   "name": "Python [Root]"
  },
  "language_info": {
   "codemirror_mode": {
    "name": "ipython",
    "version": 3
   },
   "file_extension": ".py",
   "mimetype": "text/x-python",
   "name": "python",
   "nbconvert_exporter": "python",
   "pygments_lexer": "ipython3",
   "version": "3.5.1"
  }
 },
 "nbformat": 4,
 "nbformat_minor": 0
}
