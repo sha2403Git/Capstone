{
 "cells": [
  {
   "cell_type": "code",
   "execution_count": 1,
   "metadata": {
    "collapsed": true
   },
   "outputs": [],
   "source": [
    " %matplotlib inline\n",
    "import pandas as pd \n",
    "import datetime as dt\n",
    "import numpy as np\n",
    "import matplotlib.pyplot as plt\n",
    "import scipy.stats as ss"
   ]
  },
  {
   "cell_type": "code",
   "execution_count": 2,
   "metadata": {
    "collapsed": false
   },
   "outputs": [],
   "source": [
    "def stringToInt(var):\n",
    "    try:\n",
    "        var = np.int16(var)\n",
    "        return var\n",
    "    except Exception:\n",
    "        if var == 'R':\n",
    "            return np.int16(130)# Setting a arbituary hight value for Forclosed home\n",
    "        else:\n",
    "            return np.int16(-1)\n",
    "\n",
    "def stringToFloat(var):\n",
    "    try:\n",
    "        var = np.float32(var)\n",
    "        return var\n",
    "    except Exception:\n",
    "        return np.float32(0)\n",
    "\n",
    "def fillFlag(var):\n",
    "    try:\n",
    "        var=np.char(var)\n",
    "        return var\n",
    "    except Exception:\n",
    "        return np.char('F')\n"
   ]
  },
  {
   "cell_type": "markdown",
   "metadata": {},
   "source": [
    "### Data file containing loan origination information for Year 2010"
   ]
  },
  {
   "cell_type": "code",
   "execution_count": 3,
   "metadata": {
    "collapsed": false
   },
   "outputs": [
    {
     "data": {
      "text/plain": [
       "392776"
      ]
     },
     "execution_count": 3,
     "metadata": {},
     "output_type": "execute_result"
    }
   ],
   "source": [
    "fields_Origin = ['CREDIT SCORE','FIRST TIME HOMEBUYER FLAG','MORTGAGE INSURANCE PERCENTAGE','CLTV','DTI Ratio',\n",
    "          'ORIGINAL UPB','ORIGINAL LTV','ORIGINAL INTEREST RATE' ,'LOAN SEQUENCE NUMBER']    #9\n",
    "fData=pd.read_csv('data/historical_data1_Q11999/historical_data1_Q11999.txt','|',index_col=None, encoding='utf-8',low_memory=False\n",
    "                 ,usecols=fields_Origin,converters={'CREDIT SCORE':stringToInt,\n",
    "                                                     'DTI Ratio':stringToFloat,\n",
    "                                                      'CLTV':stringToFloat})\n",
    "len(fData)"
   ]
  },
  {
   "cell_type": "markdown",
   "metadata": {},
   "source": [
    "### Data file containing loan monthly data for Year 2010. "
   ]
  },
  {
   "cell_type": "code",
   "execution_count": 4,
   "metadata": {
    "collapsed": false
   },
   "outputs": [
    {
     "name": "stdout",
     "output_type": "stream",
     "text": [
      "<class 'pandas.core.frame.DataFrame'>\n",
      "Int64Index: 22227548 entries, 0 to 7547\n",
      "Data columns (total 11 columns):\n",
      "LOAN SEQUENCE NUMBER                  object\n",
      "MONTHLY REPORTING PERIOD              datetime64[ns]\n",
      "CURRENT ACTUAL UPB                    float64\n",
      "CURRENT LOAN DELINQUENCY STATUS       int64\n",
      "REMAINING MONTHS TO LEGAL MATURITY    int64\n",
      "REPURCHASE FLAG                       object\n",
      "MODIFICATION FLAG                     object\n",
      "ZERO BALANCE CODE                     object\n",
      "ZERO BALANCE EFFECTIVE DATE           object\n",
      "CURRENT INTEREST RATE                 float64\n",
      "CURRENT DEFERRED UPB                  float64\n",
      "dtypes: datetime64[ns](1), float64(3), int64(2), object(5)\n",
      "memory usage: 2.0+ GB\n"
     ]
    }
   ],
   "source": [
    "dateparse = lambda x: pd.datetime.strptime(x, '%Y%m')\n",
    "fields_Month=['LOAN SEQUENCE NUMBER','MONTHLY REPORTING PERIOD','CURRENT ACTUAL UPB','CURRENT LOAN DELINQUENCY STATUS',\n",
    "              'REMAINING MONTHS TO LEGAL MATURITY','REPURCHASE FLAG','MODIFICATION FLAG',\n",
    "              'ZERO BALANCE CODE','ZERO BALANCE EFFECTIVE DATE','CURRENT INTEREST RATE','CURRENT DEFERRED UPB']\n",
    "reader=pd.read_csv('data/historical_data1_Q11999/historical_data1_time_Q11999.txt','|',\n",
    "                   index_col=None, parse_dates=['MONTHLY REPORTING PERIOD'],\n",
    "                   date_parser=dateparse,encoding='utf-8',low_memory=False,chunksize=10000\n",
    "                  ,usecols=fields_Month,converters={'CURRENT ACTUAL UPB':stringToFloat,\n",
    "                                                    'CURRENT LOAN DELINQUENCY STATUS':stringToInt})\n",
    "\n",
    "\n",
    "#Get dataframe from chunks\n",
    "df = pd.concat(chunk for chunk in reader)\n",
    "\n",
    "#Fill missing data\n",
    "df['REPURCHASE FLAG'].fillna('F', inplace=True)\n",
    "df['MODIFICATION FLAG'].fillna('N', inplace=True)\n",
    "df['ZERO BALANCE CODE'].fillna('00', inplace=True)\n",
    "df['ZERO BALANCE EFFECTIVE DATE'].fillna('000000', inplace=True)\n",
    "\n",
    "df.info()\n",
    "\n"
   ]
  },
  {
   "cell_type": "code",
   "execution_count": 5,
   "metadata": {
    "collapsed": false
   },
   "outputs": [
    {
     "data": {
      "text/html": [
       "<div>\n",
       "<table border=\"1\" class=\"dataframe\">\n",
       "  <thead>\n",
       "    <tr style=\"text-align: right;\">\n",
       "      <th></th>\n",
       "      <th>LOAN SEQUENCE NUMBER</th>\n",
       "      <th>MONTHLY REPORTING PERIOD</th>\n",
       "      <th>CURRENT ACTUAL UPB</th>\n",
       "      <th>CURRENT LOAN DELINQUENCY STATUS</th>\n",
       "      <th>REMAINING MONTHS TO LEGAL MATURITY</th>\n",
       "      <th>REPURCHASE FLAG</th>\n",
       "      <th>MODIFICATION FLAG</th>\n",
       "      <th>ZERO BALANCE CODE</th>\n",
       "      <th>ZERO BALANCE EFFECTIVE DATE</th>\n",
       "      <th>CURRENT INTEREST RATE</th>\n",
       "      <th>CURRENT DEFERRED UPB</th>\n",
       "    </tr>\n",
       "  </thead>\n",
       "  <tbody>\n",
       "    <tr>\n",
       "      <th>0</th>\n",
       "      <td>F199Q1000001</td>\n",
       "      <td>2002-05-01</td>\n",
       "      <td>171982.437500</td>\n",
       "      <td>0</td>\n",
       "      <td>328</td>\n",
       "      <td>F</td>\n",
       "      <td>N</td>\n",
       "      <td>00</td>\n",
       "      <td>000000</td>\n",
       "      <td>6.3</td>\n",
       "      <td>0.0</td>\n",
       "    </tr>\n",
       "    <tr>\n",
       "      <th>1</th>\n",
       "      <td>F199Q1000001</td>\n",
       "      <td>2002-06-01</td>\n",
       "      <td>171571.390625</td>\n",
       "      <td>0</td>\n",
       "      <td>327</td>\n",
       "      <td>F</td>\n",
       "      <td>N</td>\n",
       "      <td>00</td>\n",
       "      <td>000000</td>\n",
       "      <td>6.3</td>\n",
       "      <td>0.0</td>\n",
       "    </tr>\n",
       "    <tr>\n",
       "      <th>2</th>\n",
       "      <td>F199Q1000001</td>\n",
       "      <td>2002-07-01</td>\n",
       "      <td>171158.328125</td>\n",
       "      <td>0</td>\n",
       "      <td>326</td>\n",
       "      <td>F</td>\n",
       "      <td>N</td>\n",
       "      <td>00</td>\n",
       "      <td>000000</td>\n",
       "      <td>6.3</td>\n",
       "      <td>0.0</td>\n",
       "    </tr>\n",
       "    <tr>\n",
       "      <th>3</th>\n",
       "      <td>F199Q1000001</td>\n",
       "      <td>2002-08-01</td>\n",
       "      <td>170742.890625</td>\n",
       "      <td>0</td>\n",
       "      <td>325</td>\n",
       "      <td>F</td>\n",
       "      <td>N</td>\n",
       "      <td>00</td>\n",
       "      <td>000000</td>\n",
       "      <td>6.3</td>\n",
       "      <td>0.0</td>\n",
       "    </tr>\n",
       "    <tr>\n",
       "      <th>4</th>\n",
       "      <td>F199Q1000001</td>\n",
       "      <td>2002-09-01</td>\n",
       "      <td>170325.171875</td>\n",
       "      <td>0</td>\n",
       "      <td>324</td>\n",
       "      <td>F</td>\n",
       "      <td>N</td>\n",
       "      <td>00</td>\n",
       "      <td>000000</td>\n",
       "      <td>6.3</td>\n",
       "      <td>0.0</td>\n",
       "    </tr>\n",
       "  </tbody>\n",
       "</table>\n",
       "</div>"
      ],
      "text/plain": [
       "  LOAN SEQUENCE NUMBER MONTHLY REPORTING PERIOD  CURRENT ACTUAL UPB  \\\n",
       "0         F199Q1000001               2002-05-01       171982.437500   \n",
       "1         F199Q1000001               2002-06-01       171571.390625   \n",
       "2         F199Q1000001               2002-07-01       171158.328125   \n",
       "3         F199Q1000001               2002-08-01       170742.890625   \n",
       "4         F199Q1000001               2002-09-01       170325.171875   \n",
       "\n",
       "   CURRENT LOAN DELINQUENCY STATUS  REMAINING MONTHS TO LEGAL MATURITY  \\\n",
       "0                                0                                 328   \n",
       "1                                0                                 327   \n",
       "2                                0                                 326   \n",
       "3                                0                                 325   \n",
       "4                                0                                 324   \n",
       "\n",
       "  REPURCHASE FLAG MODIFICATION FLAG ZERO BALANCE CODE  \\\n",
       "0               F                 N                00   \n",
       "1               F                 N                00   \n",
       "2               F                 N                00   \n",
       "3               F                 N                00   \n",
       "4               F                 N                00   \n",
       "\n",
       "  ZERO BALANCE EFFECTIVE DATE  CURRENT INTEREST RATE  CURRENT DEFERRED UPB  \n",
       "0                      000000                    6.3                   0.0  \n",
       "1                      000000                    6.3                   0.0  \n",
       "2                      000000                    6.3                   0.0  \n",
       "3                      000000                    6.3                   0.0  \n",
       "4                      000000                    6.3                   0.0  "
      ]
     },
     "execution_count": 5,
     "metadata": {},
     "output_type": "execute_result"
    }
   ],
   "source": [
    "df.head()"
   ]
  },
  {
   "cell_type": "code",
   "execution_count": 6,
   "metadata": {
    "collapsed": false
   },
   "outputs": [
    {
     "name": "stdout",
     "output_type": "stream",
     "text": [
      "2015-12-01 00:00:00\n",
      "1999-02-01 00:00:00\n",
      "130\n"
     ]
    }
   ],
   "source": [
    "df2=df.sort_values(by='CURRENT LOAN DELINQUENCY STATUS',ascending=False)\n",
    "print (df2['MONTHLY REPORTING PERIOD'].max())\n",
    "print (df2['MONTHLY REPORTING PERIOD'].min())\n",
    "print (df2['CURRENT LOAN DELINQUENCY STATUS'].max())"
   ]
  },
  {
   "cell_type": "code",
   "execution_count": 7,
   "metadata": {
    "collapsed": false
   },
   "outputs": [
    {
     "data": {
      "text/html": [
       "<div>\n",
       "<table border=\"1\" class=\"dataframe\">\n",
       "  <thead>\n",
       "    <tr style=\"text-align: right;\">\n",
       "      <th></th>\n",
       "      <th>LOAN SEQUENCE NUMBER</th>\n",
       "      <th>MONTHLY REPORTING PERIOD</th>\n",
       "      <th>CURRENT ACTUAL UPB</th>\n",
       "      <th>CURRENT LOAN DELINQUENCY STATUS</th>\n",
       "      <th>REMAINING MONTHS TO LEGAL MATURITY</th>\n",
       "      <th>REPURCHASE FLAG</th>\n",
       "      <th>MODIFICATION FLAG</th>\n",
       "      <th>ZERO BALANCE CODE</th>\n",
       "      <th>ZERO BALANCE EFFECTIVE DATE</th>\n",
       "      <th>CURRENT INTEREST RATE</th>\n",
       "      <th>CURRENT DEFERRED UPB</th>\n",
       "      <th>year</th>\n",
       "      <th>quarter</th>\n",
       "    </tr>\n",
       "  </thead>\n",
       "  <tbody>\n",
       "    <tr>\n",
       "      <th>0</th>\n",
       "      <td>F199Q1000001</td>\n",
       "      <td>2002-05-01</td>\n",
       "      <td>171982.437500</td>\n",
       "      <td>0</td>\n",
       "      <td>328</td>\n",
       "      <td>F</td>\n",
       "      <td>N</td>\n",
       "      <td>00</td>\n",
       "      <td>000000</td>\n",
       "      <td>6.3</td>\n",
       "      <td>0.0</td>\n",
       "      <td>2002</td>\n",
       "      <td>2</td>\n",
       "    </tr>\n",
       "    <tr>\n",
       "      <th>1</th>\n",
       "      <td>F199Q1000001</td>\n",
       "      <td>2002-06-01</td>\n",
       "      <td>171571.390625</td>\n",
       "      <td>0</td>\n",
       "      <td>327</td>\n",
       "      <td>F</td>\n",
       "      <td>N</td>\n",
       "      <td>00</td>\n",
       "      <td>000000</td>\n",
       "      <td>6.3</td>\n",
       "      <td>0.0</td>\n",
       "      <td>2002</td>\n",
       "      <td>2</td>\n",
       "    </tr>\n",
       "    <tr>\n",
       "      <th>2</th>\n",
       "      <td>F199Q1000001</td>\n",
       "      <td>2002-07-01</td>\n",
       "      <td>171158.328125</td>\n",
       "      <td>0</td>\n",
       "      <td>326</td>\n",
       "      <td>F</td>\n",
       "      <td>N</td>\n",
       "      <td>00</td>\n",
       "      <td>000000</td>\n",
       "      <td>6.3</td>\n",
       "      <td>0.0</td>\n",
       "      <td>2002</td>\n",
       "      <td>3</td>\n",
       "    </tr>\n",
       "    <tr>\n",
       "      <th>3</th>\n",
       "      <td>F199Q1000001</td>\n",
       "      <td>2002-08-01</td>\n",
       "      <td>170742.890625</td>\n",
       "      <td>0</td>\n",
       "      <td>325</td>\n",
       "      <td>F</td>\n",
       "      <td>N</td>\n",
       "      <td>00</td>\n",
       "      <td>000000</td>\n",
       "      <td>6.3</td>\n",
       "      <td>0.0</td>\n",
       "      <td>2002</td>\n",
       "      <td>3</td>\n",
       "    </tr>\n",
       "    <tr>\n",
       "      <th>4</th>\n",
       "      <td>F199Q1000001</td>\n",
       "      <td>2002-09-01</td>\n",
       "      <td>170325.171875</td>\n",
       "      <td>0</td>\n",
       "      <td>324</td>\n",
       "      <td>F</td>\n",
       "      <td>N</td>\n",
       "      <td>00</td>\n",
       "      <td>000000</td>\n",
       "      <td>6.3</td>\n",
       "      <td>0.0</td>\n",
       "      <td>2002</td>\n",
       "      <td>3</td>\n",
       "    </tr>\n",
       "  </tbody>\n",
       "</table>\n",
       "</div>"
      ],
      "text/plain": [
       "  LOAN SEQUENCE NUMBER MONTHLY REPORTING PERIOD  CURRENT ACTUAL UPB  \\\n",
       "0         F199Q1000001               2002-05-01       171982.437500   \n",
       "1         F199Q1000001               2002-06-01       171571.390625   \n",
       "2         F199Q1000001               2002-07-01       171158.328125   \n",
       "3         F199Q1000001               2002-08-01       170742.890625   \n",
       "4         F199Q1000001               2002-09-01       170325.171875   \n",
       "\n",
       "   CURRENT LOAN DELINQUENCY STATUS  REMAINING MONTHS TO LEGAL MATURITY  \\\n",
       "0                                0                                 328   \n",
       "1                                0                                 327   \n",
       "2                                0                                 326   \n",
       "3                                0                                 325   \n",
       "4                                0                                 324   \n",
       "\n",
       "  REPURCHASE FLAG MODIFICATION FLAG ZERO BALANCE CODE  \\\n",
       "0               F                 N                00   \n",
       "1               F                 N                00   \n",
       "2               F                 N                00   \n",
       "3               F                 N                00   \n",
       "4               F                 N                00   \n",
       "\n",
       "  ZERO BALANCE EFFECTIVE DATE  CURRENT INTEREST RATE  CURRENT DEFERRED UPB  \\\n",
       "0                      000000                    6.3                   0.0   \n",
       "1                      000000                    6.3                   0.0   \n",
       "2                      000000                    6.3                   0.0   \n",
       "3                      000000                    6.3                   0.0   \n",
       "4                      000000                    6.3                   0.0   \n",
       "\n",
       "   year  quarter  \n",
       "0  2002        2  \n",
       "1  2002        2  \n",
       "2  2002        3  \n",
       "3  2002        3  \n",
       "4  2002        3  "
      ]
     },
     "execution_count": 7,
     "metadata": {},
     "output_type": "execute_result"
    }
   ],
   "source": [
    "#Calculate two new columns \n",
    "df['year']=df['MONTHLY REPORTING PERIOD'].dt.year\n",
    "df['quarter']=df['MONTHLY REPORTING PERIOD'].dt.quarter\n",
    "df.head()"
   ]
  },
  {
   "cell_type": "markdown",
   "metadata": {},
   "source": [
    "#### Removing Loan data with no credit score"
   ]
  },
  {
   "cell_type": "code",
   "execution_count": 8,
   "metadata": {
    "collapsed": false
   },
   "outputs": [
    {
     "name": "stdout",
     "output_type": "stream",
     "text": [
      "392776\n",
      "391229\n"
     ]
    }
   ],
   "source": [
    "print (len(fData))\n",
    "fDataClean=fData[fData['CREDIT SCORE']>0]\n",
    "print (len(fDataClean))"
   ]
  },
  {
   "cell_type": "markdown",
   "metadata": {},
   "source": [
    "#### Removing invalid data (Missing CURRENT LOAN DELINQUENCY STATUS) and Forclosed data out."
   ]
  },
  {
   "cell_type": "code",
   "execution_count": 11,
   "metadata": {
    "collapsed": false
   },
   "outputs": [
    {
     "name": "stdout",
     "output_type": "stream",
     "text": [
      "22227548\n",
      "22227548\n",
      "22221286\n"
     ]
    }
   ],
   "source": [
    "print (len(df))\n",
    "dfClean=df[df['CURRENT LOAN DELINQUENCY STATUS'] >-1]\n",
    "print (len(dfClean))\n",
    "dfClean=dfClean[dfClean['CURRENT LOAN DELINQUENCY STATUS'] <130]\n",
    "print (len(dfClean))"
   ]
  },
  {
   "cell_type": "markdown",
   "metadata": {},
   "source": [
    "### Merging  Loan Origination with Monthly datasets "
   ]
  },
  {
   "cell_type": "code",
   "execution_count": 12,
   "metadata": {
    "collapsed": false
   },
   "outputs": [
    {
     "name": "stdout",
     "output_type": "stream",
     "text": [
      "22124867\n"
     ]
    }
   ],
   "source": [
    "\n",
    "dfMonthly = pd.merge(dfClean,fDataClean,on='LOAN SEQUENCE NUMBER')\n",
    "dfMonthly.head()\n",
    "print (len(dfMonthly))"
   ]
  },
  {
   "cell_type": "markdown",
   "metadata": {},
   "source": [
    "### Slicing and peeking into dataset"
   ]
  },
  {
   "cell_type": "code",
   "execution_count": 13,
   "metadata": {
    "collapsed": false
   },
   "outputs": [
    {
     "data": {
      "text/html": [
       "<div>\n",
       "<table border=\"1\" class=\"dataframe\">\n",
       "  <thead>\n",
       "    <tr style=\"text-align: right;\">\n",
       "      <th></th>\n",
       "      <th>LOAN SEQUENCE NUMBER</th>\n",
       "      <th>CREDIT SCORE</th>\n",
       "      <th>CURRENT LOAN DELINQUENCY STATUS</th>\n",
       "    </tr>\n",
       "  </thead>\n",
       "  <tbody>\n",
       "    <tr>\n",
       "      <th>0</th>\n",
       "      <td>F199Q1000001</td>\n",
       "      <td>751</td>\n",
       "      <td>0</td>\n",
       "    </tr>\n",
       "    <tr>\n",
       "      <th>1</th>\n",
       "      <td>F199Q1000001</td>\n",
       "      <td>751</td>\n",
       "      <td>0</td>\n",
       "    </tr>\n",
       "    <tr>\n",
       "      <th>2</th>\n",
       "      <td>F199Q1000001</td>\n",
       "      <td>751</td>\n",
       "      <td>0</td>\n",
       "    </tr>\n",
       "    <tr>\n",
       "      <th>3</th>\n",
       "      <td>F199Q1000001</td>\n",
       "      <td>751</td>\n",
       "      <td>0</td>\n",
       "    </tr>\n",
       "    <tr>\n",
       "      <th>4</th>\n",
       "      <td>F199Q1000001</td>\n",
       "      <td>751</td>\n",
       "      <td>0</td>\n",
       "    </tr>\n",
       "    <tr>\n",
       "      <th>5</th>\n",
       "      <td>F199Q1000001</td>\n",
       "      <td>751</td>\n",
       "      <td>0</td>\n",
       "    </tr>\n",
       "    <tr>\n",
       "      <th>6</th>\n",
       "      <td>F199Q1000001</td>\n",
       "      <td>751</td>\n",
       "      <td>0</td>\n",
       "    </tr>\n",
       "    <tr>\n",
       "      <th>7</th>\n",
       "      <td>F199Q1000002</td>\n",
       "      <td>733</td>\n",
       "      <td>0</td>\n",
       "    </tr>\n",
       "    <tr>\n",
       "      <th>8</th>\n",
       "      <td>F199Q1000002</td>\n",
       "      <td>733</td>\n",
       "      <td>0</td>\n",
       "    </tr>\n",
       "    <tr>\n",
       "      <th>9</th>\n",
       "      <td>F199Q1000002</td>\n",
       "      <td>733</td>\n",
       "      <td>0</td>\n",
       "    </tr>\n",
       "    <tr>\n",
       "      <th>10</th>\n",
       "      <td>F199Q1000002</td>\n",
       "      <td>733</td>\n",
       "      <td>0</td>\n",
       "    </tr>\n",
       "    <tr>\n",
       "      <th>11</th>\n",
       "      <td>F199Q1000002</td>\n",
       "      <td>733</td>\n",
       "      <td>0</td>\n",
       "    </tr>\n",
       "    <tr>\n",
       "      <th>12</th>\n",
       "      <td>F199Q1000002</td>\n",
       "      <td>733</td>\n",
       "      <td>0</td>\n",
       "    </tr>\n",
       "    <tr>\n",
       "      <th>13</th>\n",
       "      <td>F199Q1000002</td>\n",
       "      <td>733</td>\n",
       "      <td>0</td>\n",
       "    </tr>\n",
       "    <tr>\n",
       "      <th>14</th>\n",
       "      <td>F199Q1000002</td>\n",
       "      <td>733</td>\n",
       "      <td>0</td>\n",
       "    </tr>\n",
       "    <tr>\n",
       "      <th>15</th>\n",
       "      <td>F199Q1000002</td>\n",
       "      <td>733</td>\n",
       "      <td>0</td>\n",
       "    </tr>\n",
       "    <tr>\n",
       "      <th>16</th>\n",
       "      <td>F199Q1000002</td>\n",
       "      <td>733</td>\n",
       "      <td>0</td>\n",
       "    </tr>\n",
       "    <tr>\n",
       "      <th>17</th>\n",
       "      <td>F199Q1000002</td>\n",
       "      <td>733</td>\n",
       "      <td>0</td>\n",
       "    </tr>\n",
       "    <tr>\n",
       "      <th>18</th>\n",
       "      <td>F199Q1000002</td>\n",
       "      <td>733</td>\n",
       "      <td>0</td>\n",
       "    </tr>\n",
       "    <tr>\n",
       "      <th>19</th>\n",
       "      <td>F199Q1000002</td>\n",
       "      <td>733</td>\n",
       "      <td>0</td>\n",
       "    </tr>\n",
       "  </tbody>\n",
       "</table>\n",
       "</div>"
      ],
      "text/plain": [
       "   LOAN SEQUENCE NUMBER  CREDIT SCORE  CURRENT LOAN DELINQUENCY STATUS\n",
       "0          F199Q1000001           751                                0\n",
       "1          F199Q1000001           751                                0\n",
       "2          F199Q1000001           751                                0\n",
       "3          F199Q1000001           751                                0\n",
       "4          F199Q1000001           751                                0\n",
       "5          F199Q1000001           751                                0\n",
       "6          F199Q1000001           751                                0\n",
       "7          F199Q1000002           733                                0\n",
       "8          F199Q1000002           733                                0\n",
       "9          F199Q1000002           733                                0\n",
       "10         F199Q1000002           733                                0\n",
       "11         F199Q1000002           733                                0\n",
       "12         F199Q1000002           733                                0\n",
       "13         F199Q1000002           733                                0\n",
       "14         F199Q1000002           733                                0\n",
       "15         F199Q1000002           733                                0\n",
       "16         F199Q1000002           733                                0\n",
       "17         F199Q1000002           733                                0\n",
       "18         F199Q1000002           733                                0\n",
       "19         F199Q1000002           733                                0"
      ]
     },
     "execution_count": 13,
     "metadata": {},
     "output_type": "execute_result"
    }
   ],
   "source": [
    "df1=dfMonthly[['LOAN SEQUENCE NUMBER','CREDIT SCORE','CURRENT LOAN DELINQUENCY STATUS']]\n",
    "df1.head(20)"
   ]
  },
  {
   "cell_type": "markdown",
   "metadata": {},
   "source": [
    "### Understanding key values"
   ]
  },
  {
   "cell_type": "code",
   "execution_count": 14,
   "metadata": {
    "collapsed": false
   },
   "outputs": [
    {
     "data": {
      "text/html": [
       "<div>\n",
       "<table border=\"1\" class=\"dataframe\">\n",
       "  <thead>\n",
       "    <tr style=\"text-align: right;\">\n",
       "      <th></th>\n",
       "      <th>LOAN SEQUENCE NUMBER</th>\n",
       "      <th>CREDIT SCORE</th>\n",
       "      <th>CURRENT LOAN DELINQUENCY STATUS</th>\n",
       "    </tr>\n",
       "  </thead>\n",
       "  <tbody>\n",
       "    <tr>\n",
       "      <th>3743777</th>\n",
       "      <td>F199Q1068505</td>\n",
       "      <td>742</td>\n",
       "      <td>128</td>\n",
       "    </tr>\n",
       "    <tr>\n",
       "      <th>17408608</th>\n",
       "      <td>F199Q1314043</td>\n",
       "      <td>695</td>\n",
       "      <td>100</td>\n",
       "    </tr>\n",
       "    <tr>\n",
       "      <th>17408607</th>\n",
       "      <td>F199Q1314043</td>\n",
       "      <td>695</td>\n",
       "      <td>99</td>\n",
       "    </tr>\n",
       "    <tr>\n",
       "      <th>17408606</th>\n",
       "      <td>F199Q1314043</td>\n",
       "      <td>695</td>\n",
       "      <td>98</td>\n",
       "    </tr>\n",
       "    <tr>\n",
       "      <th>17408605</th>\n",
       "      <td>F199Q1314043</td>\n",
       "      <td>695</td>\n",
       "      <td>97</td>\n",
       "    </tr>\n",
       "    <tr>\n",
       "      <th>17408604</th>\n",
       "      <td>F199Q1314043</td>\n",
       "      <td>695</td>\n",
       "      <td>96</td>\n",
       "    </tr>\n",
       "    <tr>\n",
       "      <th>17408603</th>\n",
       "      <td>F199Q1314043</td>\n",
       "      <td>695</td>\n",
       "      <td>95</td>\n",
       "    </tr>\n",
       "    <tr>\n",
       "      <th>17408602</th>\n",
       "      <td>F199Q1314043</td>\n",
       "      <td>695</td>\n",
       "      <td>94</td>\n",
       "    </tr>\n",
       "    <tr>\n",
       "      <th>17408601</th>\n",
       "      <td>F199Q1314043</td>\n",
       "      <td>695</td>\n",
       "      <td>93</td>\n",
       "    </tr>\n",
       "    <tr>\n",
       "      <th>17408600</th>\n",
       "      <td>F199Q1314043</td>\n",
       "      <td>695</td>\n",
       "      <td>92</td>\n",
       "    </tr>\n",
       "    <tr>\n",
       "      <th>21624878</th>\n",
       "      <td>F199Q1392372</td>\n",
       "      <td>761</td>\n",
       "      <td>91</td>\n",
       "    </tr>\n",
       "    <tr>\n",
       "      <th>17408599</th>\n",
       "      <td>F199Q1314043</td>\n",
       "      <td>695</td>\n",
       "      <td>91</td>\n",
       "    </tr>\n",
       "    <tr>\n",
       "      <th>17408598</th>\n",
       "      <td>F199Q1314043</td>\n",
       "      <td>695</td>\n",
       "      <td>90</td>\n",
       "    </tr>\n",
       "    <tr>\n",
       "      <th>17408597</th>\n",
       "      <td>F199Q1314043</td>\n",
       "      <td>695</td>\n",
       "      <td>89</td>\n",
       "    </tr>\n",
       "    <tr>\n",
       "      <th>17408596</th>\n",
       "      <td>F199Q1314043</td>\n",
       "      <td>695</td>\n",
       "      <td>88</td>\n",
       "    </tr>\n",
       "    <tr>\n",
       "      <th>17408595</th>\n",
       "      <td>F199Q1314043</td>\n",
       "      <td>695</td>\n",
       "      <td>87</td>\n",
       "    </tr>\n",
       "    <tr>\n",
       "      <th>17408594</th>\n",
       "      <td>F199Q1314043</td>\n",
       "      <td>695</td>\n",
       "      <td>86</td>\n",
       "    </tr>\n",
       "    <tr>\n",
       "      <th>15286206</th>\n",
       "      <td>F199Q1277204</td>\n",
       "      <td>727</td>\n",
       "      <td>85</td>\n",
       "    </tr>\n",
       "    <tr>\n",
       "      <th>17408593</th>\n",
       "      <td>F199Q1314043</td>\n",
       "      <td>695</td>\n",
       "      <td>85</td>\n",
       "    </tr>\n",
       "    <tr>\n",
       "      <th>22021167</th>\n",
       "      <td>F199Q1399107</td>\n",
       "      <td>713</td>\n",
       "      <td>85</td>\n",
       "    </tr>\n",
       "  </tbody>\n",
       "</table>\n",
       "</div>"
      ],
      "text/plain": [
       "         LOAN SEQUENCE NUMBER  CREDIT SCORE  CURRENT LOAN DELINQUENCY STATUS\n",
       "3743777          F199Q1068505           742                              128\n",
       "17408608         F199Q1314043           695                              100\n",
       "17408607         F199Q1314043           695                               99\n",
       "17408606         F199Q1314043           695                               98\n",
       "17408605         F199Q1314043           695                               97\n",
       "17408604         F199Q1314043           695                               96\n",
       "17408603         F199Q1314043           695                               95\n",
       "17408602         F199Q1314043           695                               94\n",
       "17408601         F199Q1314043           695                               93\n",
       "17408600         F199Q1314043           695                               92\n",
       "21624878         F199Q1392372           761                               91\n",
       "17408599         F199Q1314043           695                               91\n",
       "17408598         F199Q1314043           695                               90\n",
       "17408597         F199Q1314043           695                               89\n",
       "17408596         F199Q1314043           695                               88\n",
       "17408595         F199Q1314043           695                               87\n",
       "17408594         F199Q1314043           695                               86\n",
       "15286206         F199Q1277204           727                               85\n",
       "17408593         F199Q1314043           695                               85\n",
       "22021167         F199Q1399107           713                               85"
      ]
     },
     "execution_count": 14,
     "metadata": {},
     "output_type": "execute_result"
    }
   ],
   "source": [
    "df2=df1.sort_values(by='CURRENT LOAN DELINQUENCY STATUS',ascending=False)\n",
    "df2.head(20)"
   ]
  },
  {
   "cell_type": "markdown",
   "metadata": {},
   "source": [
    "### Grouping data for each loan.  Total number of unique loans"
   ]
  },
  {
   "cell_type": "code",
   "execution_count": 15,
   "metadata": {
    "collapsed": false
   },
   "outputs": [
    {
     "data": {
      "text/plain": [
       "391192"
      ]
     },
     "execution_count": 15,
     "metadata": {},
     "output_type": "execute_result"
    }
   ],
   "source": [
    "df2=df1.groupby('LOAN SEQUENCE NUMBER').max()\n",
    "df3=df2.reset_index()\n",
    "df3.head()\n",
    "\n",
    "len(df3)"
   ]
  },
  {
   "cell_type": "markdown",
   "metadata": {},
   "source": [
    "### Total of non performing loan"
   ]
  },
  {
   "cell_type": "code",
   "execution_count": 16,
   "metadata": {
    "collapsed": false
   },
   "outputs": [
    {
     "data": {
      "text/plain": [
       "72332"
      ]
     },
     "execution_count": 16,
     "metadata": {},
     "output_type": "execute_result"
    }
   ],
   "source": [
    "df4= df3[df3['CURRENT LOAN DELINQUENCY STATUS']>0]\n",
    "len(df4)"
   ]
  },
  {
   "cell_type": "markdown",
   "metadata": {},
   "source": [
    "### Monthly GDP Data"
   ]
  },
  {
   "cell_type": "code",
   "execution_count": 17,
   "metadata": {
    "collapsed": false
   },
   "outputs": [
    {
     "data": {
      "text/plain": [
       "2014"
      ]
     },
     "execution_count": 17,
     "metadata": {},
     "output_type": "execute_result"
    }
   ],
   "source": [
    "dateparse2 = lambda x: pd.datetime.strptime(x, '%Y-%m-%d')\n",
    "fields_gdp=['date','change-current','change-chained']\n",
    "gdpData= pd.read_csv('data/gdp-quarter.csv',',', parse_dates=['date'],date_parser=dateparse2,usecols=fields_gdp)\n",
    "gdpData=gdpData[(gdpData.date > np.datetime64('2008-12-30')) & (gdpData.date < np.datetime64('2016-01-01'))]\n",
    "gdpData['year']=gdpData['date'].dt.year\n",
    "gdpData['quarter']=gdpData['date'].dt.quarter\n",
    "gdpData.year.max()"
   ]
  },
  {
   "cell_type": "markdown",
   "metadata": {},
   "source": [
    "### Merging the values with above dfMonthly dataset"
   ]
  },
  {
   "cell_type": "code",
   "execution_count": 18,
   "metadata": {
    "collapsed": false
   },
   "outputs": [],
   "source": [
    "dfWithG=pd.merge(dfMonthly,gdpData,on=['year','quarter'])\n"
   ]
  },
  {
   "cell_type": "code",
   "execution_count": 19,
   "metadata": {
    "collapsed": false
   },
   "outputs": [
    {
     "name": "stdout",
     "output_type": "stream",
     "text": [
      "<class 'pandas.core.frame.DataFrame'>\n",
      "Int64Index: 1538440 entries, 0 to 1538439\n",
      "Data columns (total 24 columns):\n",
      "LOAN SEQUENCE NUMBER                  1538440 non-null object\n",
      "MONTHLY REPORTING PERIOD              1538440 non-null datetime64[ns]\n",
      "CURRENT ACTUAL UPB                    1538440 non-null float64\n",
      "CURRENT LOAN DELINQUENCY STATUS       1538440 non-null int64\n",
      "REMAINING MONTHS TO LEGAL MATURITY    1538440 non-null int64\n",
      "REPURCHASE FLAG                       1538440 non-null object\n",
      "MODIFICATION FLAG                     1538440 non-null object\n",
      "ZERO BALANCE CODE                     1538440 non-null object\n",
      "ZERO BALANCE EFFECTIVE DATE           1538440 non-null object\n",
      "CURRENT INTEREST RATE                 1538440 non-null float64\n",
      "CURRENT DEFERRED UPB                  1538440 non-null float64\n",
      "year                                  1538440 non-null int64\n",
      "quarter                               1538440 non-null int64\n",
      "CREDIT SCORE                          1538440 non-null int64\n",
      "FIRST TIME HOMEBUYER FLAG             1071715 non-null object\n",
      "MORTGAGE INSURANCE PERCENTAGE         1538440 non-null object\n",
      "CLTV                                  1538440 non-null float64\n",
      "DTI Ratio                             1538440 non-null float64\n",
      "ORIGINAL UPB                          1538440 non-null int64\n",
      "ORIGINAL LTV                          1538377 non-null float64\n",
      "ORIGINAL INTEREST RATE                1538440 non-null float64\n",
      "date                                  1538440 non-null datetime64[ns]\n",
      "change-current                        1538440 non-null float64\n",
      "change-chained                        1538440 non-null float64\n",
      "dtypes: datetime64[ns](2), float64(9), int64(6), object(7)\n",
      "memory usage: 293.4+ MB\n"
     ]
    }
   ],
   "source": [
    "dfWithG.info()"
   ]
  },
  {
   "cell_type": "markdown",
   "metadata": {},
   "source": [
    "### Getting the needed data from above merged dataset"
   ]
  },
  {
   "cell_type": "code",
   "execution_count": 20,
   "metadata": {
    "collapsed": false
   },
   "outputs": [],
   "source": [
    "dfWithG=dfWithG[['LOAN SEQUENCE NUMBER','MONTHLY REPORTING PERIOD','CURRENT ACTUAL UPB','CURRENT LOAN DELINQUENCY STATUS',\n",
    "              'REMAINING MONTHS TO LEGAL MATURITY','REPURCHASE FLAG','MODIFICATION FLAG',\n",
    "              'ZERO BALANCE CODE','CURRENT INTEREST RATE','CURRENT DEFERRED UPB','year','quarter',\n",
    "              'CREDIT SCORE','FIRST TIME HOMEBUYER FLAG','MORTGAGE INSURANCE PERCENTAGE','CLTV','DTI Ratio',\n",
    "              'change-current','change-chained']]"
   ]
  },
  {
   "cell_type": "markdown",
   "metadata": {},
   "source": [
    "### Saving Data in pickle object onto the hard drive"
   ]
  },
  {
   "cell_type": "code",
   "execution_count": 21,
   "metadata": {
    "collapsed": false
   },
   "outputs": [],
   "source": [
    "dfWithG.to_pickle('data/dataframe.pkl')"
   ]
  },
  {
   "cell_type": "markdown",
   "metadata": {},
   "source": [
    "### Testing the saved pickle object"
   ]
  },
  {
   "cell_type": "code",
   "execution_count": 22,
   "metadata": {
    "collapsed": false
   },
   "outputs": [
    {
     "data": {
      "text/plain": [
       "2014"
      ]
     },
     "execution_count": 22,
     "metadata": {},
     "output_type": "execute_result"
    }
   ],
   "source": [
    "dfWithG=pd.read_pickle('data/dataframe.pkl')\n",
    "dfWithG.year.max()"
   ]
  }
 ],
 "metadata": {
  "anaconda-cloud": {},
  "kernelspec": {
   "display_name": "Python [Root]",
   "language": "python",
   "name": "Python [Root]"
  },
  "language_info": {
   "codemirror_mode": {
    "name": "ipython",
    "version": 3
   },
   "file_extension": ".py",
   "mimetype": "text/x-python",
   "name": "python",
   "nbconvert_exporter": "python",
   "pygments_lexer": "ipython3",
   "version": "3.5.1"
  }
 },
 "nbformat": 4,
 "nbformat_minor": 0
}
